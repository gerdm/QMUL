{
 "cells": [
  {
   "cell_type": "markdown",
   "metadata": {
    "hidePrompt": true
   },
   "source": [
    "# Tips and tricks (I)"
   ]
  },
  {
   "cell_type": "code",
   "execution_count": 3,
   "metadata": {},
   "outputs": [],
   "source": [
    "import numpy as np"
   ]
  },
  {
   "cell_type": "markdown",
   "metadata": {},
   "source": [
    "* A system is digital if it is elements are represented as a finite sequence of digits (numbers)\n",
    "* A computer is digital since its elements are represented as a finite sequence of **binary** digits"
   ]
  },
  {
   "cell_type": "markdown",
   "metadata": {},
   "source": [
    "$$\n",
    "\\begin{aligned}\n",
    "1234_{(2)} &= 0 \\times 2 ^ 0 + 1 \\times 2 ^ 1 + 0 \\times 2 ^ 2 + 0 \\times 2 ^ 3 + 1 \\times 2 ^ 4 \\\\\n",
    "         &+ 0 \\times 2 ^ 5 + 1\\times 2 ^ 6 + 1 \\times 2 ^ 7 + 0 \\times 2 ^ 8 + 0 \\times 2 ^ 9 \\\\\n",
    "         &+ 1 \\times 2 ^ {10}\n",
    "\\end{aligned}\n",
    "$$"
   ]
  },
  {
   "cell_type": "code",
   "execution_count": 18,
   "metadata": {},
   "outputs": [
    {
     "data": {
      "text/plain": [
       "1234"
      ]
     },
     "execution_count": 18,
     "metadata": {},
     "output_type": "execute_result"
    }
   ],
   "source": [
    "on_off = np.array([0, 1, 0, 0, 1, 0, 1, 1, 0, 0, 1])\n",
    "power2 = np.ones_like(on_off).cumsum() - 1\n",
    "\n",
    "(on_off * 2 ** power2).sum()"
   ]
  },
  {
   "cell_type": "code",
   "execution_count": 19,
   "metadata": {
    "scrolled": true
   },
   "outputs": [
    {
     "data": {
      "text/plain": [
       "'0b10011010010'"
      ]
     },
     "execution_count": 19,
     "metadata": {},
     "output_type": "execute_result"
    }
   ],
   "source": [
    "# computers represents binary digits from right to left\n",
    "bin(1234)"
   ]
  },
  {
   "cell_type": "markdown",
   "metadata": {},
   "source": [
    "### Binary systems can only represent integer $\\mathbb Z$ numbers\n"
   ]
  },
  {
   "cell_type": "markdown",
   "metadata": {},
   "source": [
    "**Example: how do we represent 13.37?**  \n",
    "* Ans: given a total allocated set of bits to represent a number, we use some of the bits for the integer part and some other bits for the decimal part\n"
   ]
  },
  {
   "cell_type": "code",
   "execution_count": 128,
   "metadata": {},
   "outputs": [
    {
     "data": {
      "text/plain": [
       "'347058716399597201784038130002993321547341251976626176.0000000000'"
      ]
     },
     "execution_count": 128,
     "metadata": {},
     "output_type": "execute_result"
    }
   ],
   "source": [
    "format(200_000 ** 10.1, \"0.10f\")"
   ]
  },
  {
   "cell_type": "code",
   "execution_count": 131,
   "metadata": {},
   "outputs": [
    {
     "data": {
      "text/plain": [
       "Decimal('347058716399598726356736366806208302355886734973250663.4843092727472365976577992527217078015026341582')"
      ]
     },
     "execution_count": 131,
     "metadata": {},
     "output_type": "execute_result"
    }
   ],
   "source": [
    "from decimal import Decimal, getcontext\n",
    "getcontext().prec = 100\n",
    "Decimal(\"200_000\") ** Decimal(\"10.1\")"
   ]
  },
  {
   "cell_type": "markdown",
   "metadata": {},
   "source": [
    "## Wolfram with Python"
   ]
  },
  {
   "cell_type": "code",
   "execution_count": 132,
   "metadata": {},
   "outputs": [],
   "source": [
    "from wolframclient.evaluation import WolframLanguageSession\n",
    "from wolframclient.language import wl, wlexpr\n",
    "session = WolframLanguageSession()"
   ]
  },
  {
   "cell_type": "code",
   "execution_count": 140,
   "metadata": {},
   "outputs": [],
   "source": [
    "def evalm(expr):\n",
    "    return session.evaluate(wlexpr(expr))"
   ]
  },
  {
   "cell_type": "code",
   "execution_count": 141,
   "metadata": {},
   "outputs": [
    {
     "data": {
      "text/plain": [
       "PackedArray([1, 2, 3, 4, 5], dtype=int8)"
      ]
     },
     "execution_count": 141,
     "metadata": {},
     "output_type": "execute_result"
    }
   ],
   "source": [
    "evalm('Range[5]')"
   ]
  },
  {
   "cell_type": "code",
   "execution_count": 142,
   "metadata": {},
   "outputs": [
    {
     "data": {
      "text/plain": [
       "1.2246467991473532e-16"
      ]
     },
     "execution_count": 142,
     "metadata": {},
     "output_type": "execute_result"
    }
   ],
   "source": [
    "# Lost precision by computing a floting point number\n",
    "evalm(\"Sin[N[Pi]]\")"
   ]
  },
  {
   "cell_type": "code",
   "execution_count": 144,
   "metadata": {},
   "outputs": [
    {
     "data": {
      "text/plain": [
       "0"
      ]
     },
     "execution_count": 144,
     "metadata": {},
     "output_type": "execute_result"
    }
   ],
   "source": [
    "# No-roundoff error \n",
    "evalm(\"Sin[Pi]\")"
   ]
  },
  {
   "cell_type": "markdown",
   "metadata": {},
   "source": [
    "### Exercises (I)"
   ]
  },
  {
   "cell_type": "code",
   "execution_count": 161,
   "metadata": {},
   "outputs": [],
   "source": [
    "def math_info(function):\n",
    "    print(evalm(f\"Information[{function}]\")[0][\"Documentation\"][\"Web\"])"
   ]
  },
  {
   "cell_type": "code",
   "execution_count": 162,
   "metadata": {},
   "outputs": [
    {
     "name": "stdout",
     "output_type": "stream",
     "text": [
      "http://reference.wolfram.com/language/ref/Information.html\n"
     ]
    }
   ],
   "source": [
    "math_info(\"Information\")"
   ]
  },
  {
   "cell_type": "code",
   "execution_count": 163,
   "metadata": {},
   "outputs": [
    {
     "name": "stdout",
     "output_type": "stream",
     "text": [
      "http://reference.wolfram.com/language/ref/Times.html\n"
     ]
    }
   ],
   "source": [
    "math_info(\"Times\")"
   ]
  },
  {
   "cell_type": "code",
   "execution_count": 165,
   "metadata": {},
   "outputs": [
    {
     "data": {
      "text/plain": [
       "24"
      ]
     },
     "execution_count": 165,
     "metadata": {},
     "output_type": "execute_result"
    }
   ],
   "source": [
    "evalm(\"2 3 4\")"
   ]
  },
  {
   "cell_type": "code",
   "execution_count": 167,
   "metadata": {},
   "outputs": [
    {
     "data": {
      "text/plain": [
       "(Times[2, Global`x], Times[2, Global`y], Times[2, Global`z])"
      ]
     },
     "execution_count": 167,
     "metadata": {},
     "output_type": "execute_result"
    }
   ],
   "source": [
    "evalm(\"2 {x, y, z}\")"
   ]
  },
  {
   "cell_type": "code",
   "execution_count": 179,
   "metadata": {},
   "outputs": [
    {
     "data": {
      "text/plain": [
       "MatrixForm[(0, Rational[1, 100], Rational[1, 50], Rational[3, 100], Rational[1, 25], Rational[1, 20], Rational[3, 50], Rational[7, 100], Rational[2, 25], Rational[9, 100], Rational[1, 10], Rational[11, 100], Rational[3, 25], Rational[13, 100], Rational[7, 50], Rational[3, 20], Rational[4, 25], Rational[17, 100], Rational[9, 50], Rational[19, 100], Rational[1, 5], Rational[21, 100], Rational[11, 50], Rational[23, 100], Rational[6, 25], Rational[1, 4], Rational[13, 50], Rational[27, 100], Rational[7, 25], Rational[29, 100], Rational[3, 10], Rational[31, 100], Rational[8, 25], Rational[33, 100], Rational[17, 50], Rational[7, 20], Rational[9, 25], Rational[37, 100], Rational[19, 50], Rational[39, 100], Rational[2, 5], Rational[41, 100], Rational[21, 50], Rational[43, 100], Rational[11, 25], Rational[9, 20], Rational[23, 50], Rational[47, 100], Rational[12, 25], Rational[49, 100], Rational[1, 2], Rational[51, 100], Rational[13, 25], Rational[53, 100], Rational[27, 50], Rational[11, 20], Rational[14, 25], Rational[57, 100], Rational[29, 50], Rational[59, 100], Rational[3, 5], Rational[61, 100], Rational[31, 50], Rational[63, 100], Rational[16, 25], Rational[13, 20], Rational[33, 50], Rational[67, 100], Rational[17, 25], Rational[69, 100], Rational[7, 10], Rational[71, 100], Rational[18, 25], Rational[73, 100], Rational[37, 50], Rational[3, 4], Rational[19, 25], Rational[77, 100], Rational[39, 50], Rational[79, 100], Rational[4, 5], Rational[81, 100], Rational[41, 50], Rational[83, 100], Rational[21, 25], Rational[17, 20], Rational[43, 50], Rational[87, 100], Rational[22, 25], Rational[89, 100], Rational[9, 10], Rational[91, 100], Rational[23, 25], Rational[93, 100], Rational[47, 50], Rational[19, 20], Rational[24, 25], Rational[97, 100], Rational[49, 50], Rational[99, 100], 1)]"
      ]
     },
     "execution_count": 179,
     "metadata": {},
     "output_type": "execute_result"
    }
   ],
   "source": [
    "evalm(\"A = MatrixForm[Range[0, 1, 1 / 100]]\")"
   ]
  },
  {
   "cell_type": "code",
   "execution_count": 180,
   "metadata": {},
   "outputs": [
    {
     "data": {
      "text/plain": [
       "Global`Lenght[MatrixForm[(0, Rational[1, 100], Rational[1, 50], Rational[3, 100], Rational[1, 25], Rational[1, 20], Rational[3, 50], Rational[7, 100], Rational[2, 25], Rational[9, 100], Rational[1, 10], Rational[11, 100], Rational[3, 25], Rational[13, 100], Rational[7, 50], Rational[3, 20], Rational[4, 25], Rational[17, 100], Rational[9, 50], Rational[19, 100], Rational[1, 5], Rational[21, 100], Rational[11, 50], Rational[23, 100], Rational[6, 25], Rational[1, 4], Rational[13, 50], Rational[27, 100], Rational[7, 25], Rational[29, 100], Rational[3, 10], Rational[31, 100], Rational[8, 25], Rational[33, 100], Rational[17, 50], Rational[7, 20], Rational[9, 25], Rational[37, 100], Rational[19, 50], Rational[39, 100], Rational[2, 5], Rational[41, 100], Rational[21, 50], Rational[43, 100], Rational[11, 25], Rational[9, 20], Rational[23, 50], Rational[47, 100], Rational[12, 25], Rational[49, 100], Rational[1, 2], Rational[51, 100], Rational[13, 25], Rational[53, 100], Rational[27, 50], Rational[11, 20], Rational[14, 25], Rational[57, 100], Rational[29, 50], Rational[59, 100], Rational[3, 5], Rational[61, 100], Rational[31, 50], Rational[63, 100], Rational[16, 25], Rational[13, 20], Rational[33, 50], Rational[67, 100], Rational[17, 25], Rational[69, 100], Rational[7, 10], Rational[71, 100], Rational[18, 25], Rational[73, 100], Rational[37, 50], Rational[3, 4], Rational[19, 25], Rational[77, 100], Rational[39, 50], Rational[79, 100], Rational[4, 5], Rational[81, 100], Rational[41, 50], Rational[83, 100], Rational[21, 25], Rational[17, 20], Rational[43, 50], Rational[87, 100], Rational[22, 25], Rational[89, 100], Rational[9, 10], Rational[91, 100], Rational[23, 25], Rational[93, 100], Rational[47, 50], Rational[19, 20], Rational[24, 25], Rational[97, 100], Rational[49, 50], Rational[99, 100], 1)]]"
      ]
     },
     "execution_count": 180,
     "metadata": {},
     "output_type": "execute_result"
    }
   ],
   "source": [
    "evalm(\"Lenght[A]\")"
   ]
  }
 ],
 "metadata": {
  "kernelspec": {
   "display_name": "Python 3",
   "language": "python",
   "name": "python3"
  },
  "language_info": {
   "codemirror_mode": {
    "name": "ipython",
    "version": 3
   },
   "file_extension": ".py",
   "mimetype": "text/x-python",
   "name": "python",
   "nbconvert_exporter": "python",
   "pygments_lexer": "ipython3",
   "version": "3.7.7"
  }
 },
 "nbformat": 4,
 "nbformat_minor": 4
}
