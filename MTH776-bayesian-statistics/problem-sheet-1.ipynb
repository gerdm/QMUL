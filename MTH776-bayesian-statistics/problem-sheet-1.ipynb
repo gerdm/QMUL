{
 "cells": [
  {
   "cell_type": "markdown",
   "metadata": {},
   "source": [
    "# Bayesian Statistics"
   ]
  },
  {
   "cell_type": "markdown",
   "metadata": {},
   "source": [
    "### Question 1\n",
    "\n",
    "In a certain factory machines A, B and C are all producing springs of the\n",
    "same length. Of their production, machines A, B and C, respectively\n",
    "produce 2%, 1% and 3% defective springs. Machine A produces 35%\n",
    "of the output of the factory, machine B 25% and machine C 40%.\n",
    "If one spring is selected at random from the output of the factory find\n",
    "the probability it is defective. If it is defective find the probability it\n",
    "was manufactured on machine C."
   ]
  },
  {
   "cell_type": "code",
   "execution_count": 3,
   "metadata": {},
   "outputs": [],
   "source": [
    "P = {\n",
    "    \"D|A\": 2 / 100,\n",
    "    \"D|B\": 1 / 100,\n",
    "    \"D|C\": 3 / 100,\n",
    "    \"A\": 35 / 100,\n",
    "    \"B\": 25 / 100,\n",
    "    \"C\": 40 / 100,\n",
    "}"
   ]
  },
  {
   "cell_type": "markdown",
   "metadata": {},
   "source": [
    "* `P[D|X]`: probability of a defective spring by machine `X`.\n",
    "* `P[X]`: probability a spring being manufactured by machine `X`"
   ]
  },
  {
   "cell_type": "code",
   "execution_count": 10,
   "metadata": {},
   "outputs": [
    {
     "data": {
      "text/plain": [
       "0.0215"
      ]
     },
     "execution_count": 10,
     "metadata": {},
     "output_type": "execute_result"
    }
   ],
   "source": [
    "# The probability that a randomly-chosen spring is defective\n",
    "P[\"D\"] = P[\"A\"] * P[\"D|A\"] + P[\"B\"] * P[\"D|B\"] + P[\"C\"] * P[\"D|C\"]\n",
    "P[\"D\"]"
   ]
  },
  {
   "cell_type": "code",
   "execution_count": 16,
   "metadata": {},
   "outputs": [
    {
     "data": {
      "text/plain": [
       "0.558139534883721"
      ]
     },
     "execution_count": 16,
     "metadata": {},
     "output_type": "execute_result"
    }
   ],
   "source": [
    "# Probability that a spring was manufactured on machine C\n",
    "# given that it was defective\n",
    "P[\"C|D\"] = P[\"C\"] * P[\"D|C\"] / P[\"D\"]\n",
    "P[\"C|D\"]"
   ]
  },
  {
   "cell_type": "markdown",
   "metadata": {},
   "source": [
    "### Question 2"
   ]
  },
  {
   "cell_type": "markdown",
   "metadata": {},
   "source": [
    "Long John Silver is searching for Captain Morgan’s buried treasure. It\n",
    "could be on any one of three desert islands – Crystal Island, Diamond\n",
    "Island or Emerald Island. He thinks it is twice as likely to be on Crystal\n",
    "as on Diamond but equally likely to be on Diamond or Emerald. He\n",
    "believes that a one-day search of Crystal will find the treasure, if it\n",
    "is there, with probability 1/4. Similarly, one-day searches of Diamond\n",
    "and Emerald will find it with probabilities 1/3 and 2/3. Time is limited\n",
    "as Captain Morgan is known to be sailing to the area. Show that if\n",
    "he has only one day to search it is best to try Emerald. If a search\n",
    "of Emerald is unsuccessful find the probability that the treasure is on\n",
    "Crystal."
   ]
  },
  {
   "cell_type": "code",
   "execution_count": 20,
   "metadata": {},
   "outputs": [],
   "source": [
    "P = {\n",
    "    \"C\": 1 / 2,\n",
    "    \"D\": 1 / 4,\n",
    "    \"E\": 1 / 4,\n",
    "    \"F|C\": 1 / 4,\n",
    "    \"F|D\": 1 / 3,\n",
    "    \"F|E\": 2 / 3\n",
    "}"
   ]
  },
  {
   "cell_type": "code",
   "execution_count": 21,
   "metadata": {},
   "outputs": [
    {
     "data": {
      "text/plain": [
       "0.375"
      ]
     },
     "execution_count": 21,
     "metadata": {},
     "output_type": "execute_result"
    }
   ],
   "source": [
    "# First, we compute the total probability of finding the treasure on any island\n",
    "P[\"F\"] = P[\"C\"] * P[\"F|C\"] + P[\"D\"] * P[\"F|D\"] + P[\"E\"] * P[\"F|E\"]\n",
    "P[\"F\"]"
   ]
  },
  {
   "cell_type": "code",
   "execution_count": 34,
   "metadata": {},
   "outputs": [
    {
     "name": "stdout",
     "output_type": "stream",
     "text": [
      "P(C|F) = 33.3%\n",
      "P(D|F) = 22.2%\n",
      "P(E|F) = 44.4%\n"
     ]
    }
   ],
   "source": [
    "# Next, we compute the probability that we find the treasure on island X given that we searched that island\n",
    "P[\"C|F\"] = P[\"C\"] * P[\"F|C\"] / P[\"F\"]\n",
    "P[\"D|F\"] = P[\"D\"] * P[\"F|D\"] / P[\"F\"]\n",
    "P[\"E|F\"] = P[\"E\"] * P[\"F|E\"] / P[\"F\"]\n",
    "\n",
    "print(f\"P(C|F) = {P['C|F']:0.1%}\")\n",
    "print(f\"P(D|F) = {P['D|F']:0.1%}\")\n",
    "print(f\"P(E|F) = {P['E|F']:0.1%}\")"
   ]
  },
  {
   "cell_type": "markdown",
   "metadata": {},
   "source": [
    "From the previous computation, we note that it is best to search Emerald island if we only have one day to find the treasure"
   ]
  },
  {
   "cell_type": "code",
   "execution_count": 37,
   "metadata": {},
   "outputs": [
    {
     "data": {
      "text/plain": [
       "0.2222222222222222"
      ]
     },
     "execution_count": 37,
     "metadata": {},
     "output_type": "execute_result"
    }
   ],
   "source": [
    "P[\"C|F\"] * P[\"F|C\"] / P[\"F\"]"
   ]
  },
  {
   "cell_type": "code",
   "execution_count": 42,
   "metadata": {},
   "outputs": [
    {
     "data": {
      "text/plain": [
       "0.6"
      ]
     },
     "execution_count": 42,
     "metadata": {},
     "output_type": "execute_result"
    }
   ],
   "source": [
    "P[\"C\"] * P[\"F|C\"] / (P[\"F\"] * (1 - P[\"E|F\"]))"
   ]
  }
 ],
 "metadata": {
  "kernelspec": {
   "display_name": "Python 3",
   "language": "python",
   "name": "python3"
  },
  "language_info": {
   "codemirror_mode": {
    "name": "ipython",
    "version": 3
   },
   "file_extension": ".py",
   "mimetype": "text/x-python",
   "name": "python",
   "nbconvert_exporter": "python",
   "pygments_lexer": "ipython3",
   "version": "3.8.3"
  }
 },
 "nbformat": 4,
 "nbformat_minor": 4
}
