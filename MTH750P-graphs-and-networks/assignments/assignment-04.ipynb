{
 "cells": [
  {
   "cell_type": "markdown",
   "metadata": {},
   "source": [
    "# Assignment 03"
   ]
  },
  {
   "cell_type": "code",
   "execution_count": 1,
   "metadata": {},
   "outputs": [],
   "source": [
    "using Plots\n",
    "using GraphRecipes\n",
    "using LinearAlgebra\n",
    "using DelimitedFiles"
   ]
  },
  {
   "cell_type": "code",
   "execution_count": 2,
   "metadata": {},
   "outputs": [
    {
     "data": {
      "text/plain": [
       "geodesic_matrix (generic function with 1 method)"
      ]
     },
     "execution_count": 2,
     "metadata": {},
     "output_type": "execute_result"
    }
   ],
   "source": [
    "function find_shortest_path(A)\n",
    "    shortest_path = Dict()\n",
    "    lenght = 1\n",
    "    got_all_paths = false\n",
    "\n",
    "    while !got_all_paths\n",
    "        admissible_walks = map(Tuple, findall(x -> x >= 1, A ^ lenght))\n",
    "        any_true = false\n",
    "        for walk in admissible_walks\n",
    "            if walk ∉ keys(shortest_path)\n",
    "                shortest_path[walk] = lenght\n",
    "                any_true = true\n",
    "            end\n",
    "        end\n",
    "        lenght += 1\n",
    "        got_all_paths = !any_true\n",
    "    end\n",
    "    \n",
    "    return shortest_path\n",
    "end\n",
    "\n",
    "function geodesic_matrix(A)\n",
    "    N, N = size(A)\n",
    "    geodesics = find_shortest_path(A)\n",
    "    shortest_path_matrix = zeros(N, N)\n",
    "    for r in 1:N\n",
    "        for c in 1:N\n",
    "            shortest_path_matrix[r, c] = geodesics[r, c]\n",
    "        end\n",
    "    end\n",
    "    \n",
    "    # The elements in the diagonal take value 0\n",
    "    shortest_path_matrix[diagind(shortest_path_matrix)] .= 0\n",
    "    return shortest_path_matrix\n",
    "end"
   ]
  },
  {
   "cell_type": "markdown",
   "metadata": {},
   "source": [
    "**Definition: Closeness centrality**  \n",
    "In a connected graph, the closeness centrality of node $i$ is defined as the reciprocal of the sum of distances from $i$ to the other nodes:\n",
    "\n",
    "$$\n",
    "    c_i^C = \\frac{1}{\\sum_{j=1}^N d_{ij}}\n",
    "$$\n",
    "\n",
    "The normalised quantity, defined as\n",
    "\n",
    "$$\n",
    "    C_i^C = (N-1) c_i^C\n",
    "$$\n",
    "\n",
    "takes values in the range $[0, 1]$."
   ]
  },
  {
   "cell_type": "markdown",
   "metadata": {},
   "source": [
    "### Normalised closeness centrality for the directed graph"
   ]
  },
  {
   "cell_type": "code",
   "execution_count": 28,
   "metadata": {},
   "outputs": [
    {
     "data": {
      "text/plain": [
       "5×5 Array{Float64,2}:\n",
       " 0.0  1.0  2.0  3.0  1.0\n",
       " 3.0  0.0  1.0  2.0  2.0\n",
       " 2.0  2.0  0.0  1.0  1.0\n",
       " 4.0  1.0  2.0  0.0  3.0\n",
       " 1.0  2.0  3.0  4.0  0.0"
      ]
     },
     "execution_count": 28,
     "metadata": {},
     "output_type": "execute_result"
    }
   ],
   "source": [
    "# Adjacency matrix of an directed graph\n",
    "A_dir = [\n",
    "    0 1 0 0 1;\n",
    "    0 0 1 0 0;\n",
    "    0 0 0 1 1;\n",
    "    0 1 0 0 0;\n",
    "    1 0 0 0 0;\n",
    "]\n",
    "\n",
    "N, N = size(A_dir)\n",
    "D_dir = geodesic_matrix(A_dir)"
   ]
  },
  {
   "cell_type": "code",
   "execution_count": 30,
   "metadata": {},
   "outputs": [
    {
     "data": {
      "text/plain": [
       "0.6666666666666666"
      ]
     },
     "execution_count": 30,
     "metadata": {},
     "output_type": "execute_result"
    }
   ],
   "source": [
    "4 / (2 + 2 + 0 + 1 + 1)"
   ]
  },
  {
   "cell_type": "code",
   "execution_count": 29,
   "metadata": {},
   "outputs": [
    {
     "data": {
      "text/plain": [
       "5×1 Array{Float64,2}:\n",
       " 0.5714285714285714\n",
       " 0.5\n",
       " 0.6666666666666666\n",
       " 0.4\n",
       " 0.4"
      ]
     },
     "execution_count": 29,
     "metadata": {},
     "output_type": "execute_result"
    }
   ],
   "source": [
    "# Closeness centrality\n",
    "c_dir = 1 ./ sum(D_dir, dims=2)\n",
    "# Normalized closeness centrality\n",
    "C_dir = (N - 1) * c_dir"
   ]
  },
  {
   "cell_type": "markdown",
   "metadata": {},
   "source": [
    "### Normalised closeness centrality for the corresponging undirected graph"
   ]
  },
  {
   "cell_type": "code",
   "execution_count": 5,
   "metadata": {},
   "outputs": [
    {
     "data": {
      "text/plain": [
       "5×5 Array{Float64,2}:\n",
       " 0.0  1.0  2.0  2.0  1.0\n",
       " 1.0  0.0  1.0  1.0  2.0\n",
       " 2.0  1.0  0.0  1.0  1.0\n",
       " 2.0  1.0  1.0  0.0  2.0\n",
       " 1.0  2.0  1.0  2.0  0.0"
      ]
     },
     "execution_count": 5,
     "metadata": {},
     "output_type": "execute_result"
    }
   ],
   "source": [
    "# Adjacency matrix of the corresponding undirected graph\n",
    "A_un = [\n",
    "    0 1 0 0 1;\n",
    "    1 0 1 1 0;\n",
    "    0 1 0 1 1;\n",
    "    0 1 1 0 0;\n",
    "    1 0 1 0 0;\n",
    "]\n",
    "\n",
    "D_un = geodesic_matrix(A_un)"
   ]
  },
  {
   "cell_type": "code",
   "execution_count": 6,
   "metadata": {},
   "outputs": [
    {
     "data": {
      "text/plain": [
       "5×1 Array{Float64,2}:\n",
       " 0.6666666666666666\n",
       " 0.8\n",
       " 0.8\n",
       " 0.6666666666666666\n",
       " 0.6666666666666666"
      ]
     },
     "execution_count": 6,
     "metadata": {},
     "output_type": "execute_result"
    }
   ],
   "source": [
    "c_un = 1 ./ sum(D_un, dims=2)\n",
    "C_un = (N - 1) * c_un"
   ]
  },
  {
   "cell_type": "markdown",
   "metadata": {},
   "source": [
    "## Question 2: A tree"
   ]
  },
  {
   "cell_type": "code",
   "execution_count": 36,
   "metadata": {},
   "outputs": [
    {
     "data": {
      "text/plain": [
       "15×15 Array{Float64,2}:\n",
       " 0.0  1.0  1.0  0.0  0.0  0.0  0.0  0.0  0.0  0.0  0.0  0.0  0.0  0.0  0.0\n",
       " 1.0  0.0  0.0  1.0  1.0  0.0  0.0  0.0  0.0  0.0  0.0  0.0  0.0  0.0  0.0\n",
       " 1.0  0.0  0.0  0.0  0.0  1.0  1.0  0.0  0.0  0.0  0.0  0.0  0.0  0.0  0.0\n",
       " 0.0  1.0  0.0  0.0  0.0  0.0  0.0  1.0  1.0  0.0  0.0  0.0  0.0  0.0  0.0\n",
       " 0.0  1.0  0.0  0.0  0.0  0.0  0.0  0.0  0.0  1.0  1.0  0.0  0.0  0.0  0.0\n",
       " 0.0  0.0  1.0  0.0  0.0  0.0  0.0  0.0  0.0  0.0  0.0  1.0  1.0  0.0  0.0\n",
       " 0.0  0.0  1.0  0.0  0.0  0.0  0.0  0.0  0.0  0.0  0.0  0.0  0.0  1.0  1.0\n",
       " 0.0  0.0  0.0  1.0  0.0  0.0  0.0  0.0  0.0  0.0  0.0  0.0  0.0  0.0  0.0\n",
       " 0.0  0.0  0.0  1.0  0.0  0.0  0.0  0.0  0.0  0.0  0.0  0.0  0.0  0.0  0.0\n",
       " 0.0  0.0  0.0  0.0  1.0  0.0  0.0  0.0  0.0  0.0  0.0  0.0  0.0  0.0  0.0\n",
       " 0.0  0.0  0.0  0.0  1.0  0.0  0.0  0.0  0.0  0.0  0.0  0.0  0.0  0.0  0.0\n",
       " 0.0  0.0  0.0  0.0  0.0  1.0  0.0  0.0  0.0  0.0  0.0  0.0  0.0  0.0  0.0\n",
       " 0.0  0.0  0.0  0.0  0.0  1.0  0.0  0.0  0.0  0.0  0.0  0.0  0.0  0.0  0.0\n",
       " 0.0  0.0  0.0  0.0  0.0  0.0  1.0  0.0  0.0  0.0  0.0  0.0  0.0  0.0  0.0\n",
       " 0.0  0.0  0.0  0.0  0.0  0.0  1.0  0.0  0.0  0.0  0.0  0.0  0.0  0.0  0.0"
      ]
     },
     "execution_count": 36,
     "metadata": {},
     "output_type": "execute_result"
    }
   ],
   "source": [
    "edges = [\n",
    "    1 2\n",
    "    1 3\n",
    "    2 4\n",
    "    2 5\n",
    "    4 8\n",
    "    4 9\n",
    "    5 10\n",
    "    5 11\n",
    "    3 6\n",
    "    3 7\n",
    "    6 12\n",
    "    6 13\n",
    "    7 14\n",
    "    7 15\n",
    "]\n",
    "\n",
    "N = maximum(edges)\n",
    "A = zeros(N, N)\n",
    "for (i, j) in eachrow(edges)\n",
    "    A[i, j] = 1\n",
    "    A[j, i] = 1\n",
    "end\n",
    "\n",
    "N = maximum(edges)\n",
    "A"
   ]
  },
  {
   "cell_type": "code",
   "execution_count": 40,
   "metadata": {},
   "outputs": [
    {
     "data": {
      "text/plain": [
       "15×1 Array{Float64,2}:\n",
       " 2.0\n",
       " 3.0\n",
       " 3.0\n",
       " 3.0\n",
       " 3.0\n",
       " 3.0\n",
       " 3.0\n",
       " 1.0\n",
       " 1.0\n",
       " 1.0\n",
       " 1.0\n",
       " 1.0\n",
       " 1.0\n",
       " 1.0\n",
       " 1.0"
      ]
     },
     "execution_count": 40,
     "metadata": {},
     "output_type": "execute_result"
    }
   ],
   "source": [
    "sum(A, dims=2)"
   ]
  },
  {
   "cell_type": "code",
   "execution_count": 43,
   "metadata": {},
   "outputs": [
    {
     "data": {
      "text/plain": [
       "1.8666666666666667"
      ]
     },
     "execution_count": 43,
     "metadata": {},
     "output_type": "execute_result"
    }
   ],
   "source": [
    "# Average node degree of the graph\n",
    "(2 * 1 + 3 * 6 + 1 * 8) / 15"
   ]
  },
  {
   "cell_type": "code",
   "execution_count": 21,
   "metadata": {},
   "outputs": [
    {
     "data": {
      "text/plain": [
       "4-element Array{Array{Int64,2},1}:\n",
       " [1 8]\n",
       " [2 1]\n",
       " [3 6]\n",
       " [4 0]"
      ]
     },
     "execution_count": 21,
     "metadata": {},
     "output_type": "execute_result"
    }
   ],
   "source": [
    "# degree, count\n",
    "node_degrees = sum(A, dims=2)\n",
    "vcat([[i count(x -> x == i, node_degrees)] for i=1:4])"
   ]
  },
  {
   "cell_type": "code",
   "execution_count": 31,
   "metadata": {},
   "outputs": [
    {
     "data": {
      "text/plain": [
       "15"
      ]
     },
     "execution_count": 31,
     "metadata": {},
     "output_type": "execute_result"
    }
   ],
   "source": [
    "sum([count(x -> x == i, node_degrees) for i=1:4])"
   ]
  },
  {
   "cell_type": "code",
   "execution_count": 45,
   "metadata": {},
   "outputs": [
    {
     "data": {
      "text/plain": [
       "15×15 Array{Float64,2}:\n",
       " 0.0  1.0  1.0  2.0  2.0  2.0  2.0  3.0  3.0  3.0  3.0  3.0  3.0  3.0  3.0\n",
       " 1.0  0.0  2.0  1.0  1.0  3.0  3.0  2.0  2.0  2.0  2.0  4.0  4.0  4.0  4.0\n",
       " 1.0  2.0  0.0  3.0  3.0  1.0  1.0  4.0  4.0  4.0  4.0  2.0  2.0  2.0  2.0\n",
       " 2.0  1.0  3.0  0.0  2.0  4.0  4.0  1.0  1.0  3.0  3.0  5.0  5.0  5.0  5.0\n",
       " 2.0  1.0  3.0  2.0  0.0  4.0  4.0  3.0  3.0  1.0  1.0  5.0  5.0  5.0  5.0\n",
       " 2.0  3.0  1.0  4.0  4.0  0.0  2.0  5.0  5.0  5.0  5.0  1.0  1.0  3.0  3.0\n",
       " 2.0  3.0  1.0  4.0  4.0  2.0  0.0  5.0  5.0  5.0  5.0  3.0  3.0  1.0  1.0\n",
       " 3.0  2.0  4.0  1.0  3.0  5.0  5.0  0.0  2.0  4.0  4.0  6.0  6.0  6.0  6.0\n",
       " 3.0  2.0  4.0  1.0  3.0  5.0  5.0  2.0  0.0  4.0  4.0  6.0  6.0  6.0  6.0\n",
       " 3.0  2.0  4.0  3.0  1.0  5.0  5.0  4.0  4.0  0.0  2.0  6.0  6.0  6.0  6.0\n",
       " 3.0  2.0  4.0  3.0  1.0  5.0  5.0  4.0  4.0  2.0  0.0  6.0  6.0  6.0  6.0\n",
       " 3.0  4.0  2.0  5.0  5.0  1.0  3.0  6.0  6.0  6.0  6.0  0.0  2.0  4.0  4.0\n",
       " 3.0  4.0  2.0  5.0  5.0  1.0  3.0  6.0  6.0  6.0  6.0  2.0  0.0  4.0  4.0\n",
       " 3.0  4.0  2.0  5.0  5.0  3.0  1.0  6.0  6.0  6.0  6.0  4.0  4.0  0.0  2.0\n",
       " 3.0  4.0  2.0  5.0  5.0  3.0  1.0  6.0  6.0  6.0  6.0  4.0  4.0  2.0  0.0"
      ]
     },
     "execution_count": 45,
     "metadata": {},
     "output_type": "execute_result"
    }
   ],
   "source": [
    "Dtree = geodesic_matrix(A)"
   ]
  },
  {
   "cell_type": "code",
   "execution_count": 46,
   "metadata": {},
   "outputs": [
    {
     "data": {
      "text/plain": [
       "6.0"
      ]
     },
     "execution_count": 46,
     "metadata": {},
     "output_type": "execute_result"
    }
   ],
   "source": [
    "maximum(Dtree)"
   ]
  },
  {
   "cell_type": "markdown",
   "metadata": {},
   "source": [
    "## Question 3: $\\alpha$-centrality\n",
    "\n",
    "**Definition: $\\alpha$-centrality**  \n",
    "In an undirectec graph, the $\\alpha$ centrality $c_i^\\alpha$ of node $i$ is defined as the $i$-th component of the vector:\n",
    "\n",
    "$$\n",
    "    {\\bf c}^\\alpha = \\left({\\bf I} - \\alpha A^T\\right)^{-1} {\\bf e}\n",
    "$$\n",
    "\n",
    "Where ${\\bf e}$ is a vector of $N$ ones\n",
    "\n",
    "The $k$-th entry of the normalised $\\alpha$-centrality is defined as\n",
    "\n",
    "$$\n",
    "    {\\bf C}^\\alpha_k = \\frac{{\\bf c}^\\alpha_k}{\\sum_{j=1}^N {\\bf c}^\\alpha_j}\n",
    "$$"
   ]
  },
  {
   "cell_type": "code",
   "execution_count": 83,
   "metadata": {},
   "outputs": [
    {
     "data": {
      "text/plain": [
       "5×5 Array{Int64,2}:\n",
       " 0  0  1  0  0\n",
       " 0  0  1  0  0\n",
       " 0  0  0  1  0\n",
       " 0  0  0  0  1\n",
       " 0  0  0  0  0"
      ]
     },
     "execution_count": 83,
     "metadata": {},
     "output_type": "execute_result"
    }
   ],
   "source": [
    "A = [\n",
    "    0 0 1 0 0\n",
    "    0 0 1 0 0\n",
    "    0 0 0 1 0\n",
    "    0 0 0 0 1\n",
    "    0 0 0 0 0\n",
    "]"
   ]
  },
  {
   "cell_type": "code",
   "execution_count": 88,
   "metadata": {},
   "outputs": [
    {
     "data": {
      "text/plain": [
       "5×5 Transpose{Int64,Array{Int64,2}}:\n",
       " 0  0  0  0  0\n",
       " 0  0  0  0  0\n",
       " 1  1  0  0  0\n",
       " 0  0  1  0  0\n",
       " 0  0  0  1  0"
      ]
     },
     "execution_count": 88,
     "metadata": {},
     "output_type": "execute_result"
    }
   ],
   "source": [
    "transpose(A)"
   ]
  },
  {
   "cell_type": "code",
   "execution_count": 89,
   "metadata": {},
   "outputs": [
    {
     "data": {
      "text/plain": [
       "5×5 Array{Int64,2}:\n",
       " 0  0  0  0  0\n",
       " 0  0  0  0  0\n",
       " 0  0  0  0  0\n",
       " 0  0  0  0  0\n",
       " 1  1  0  0  0"
      ]
     },
     "execution_count": 89,
     "metadata": {},
     "output_type": "execute_result"
    }
   ],
   "source": [
    "transpose(A) ^ 3"
   ]
  },
  {
   "cell_type": "code",
   "execution_count": 105,
   "metadata": {},
   "outputs": [
    {
     "data": {
      "text/plain": [
       "5×5 Array{Float64,2}:\n",
       " 1.0    0.0    0.0   0.0  0.0\n",
       " 0.0    1.0    0.0   0.0  0.0\n",
       " 0.5    0.5    1.0   0.0  0.0\n",
       " 0.25   0.25   0.5   1.0  0.0\n",
       " 0.125  0.125  0.25  0.5  1.0"
      ]
     },
     "execution_count": 105,
     "metadata": {},
     "output_type": "execute_result"
    }
   ],
   "source": [
    "α = 0.5\n",
    "\n",
    "Ainv = [\n",
    "    1   0   0   0 0\n",
    "    0   1   0   0 0\n",
    "    α   α   1   0 0\n",
    "    α^2 α^2 α   1 0\n",
    "    α^3 α^3 α^2 α 1\n",
    "]"
   ]
  },
  {
   "cell_type": "code",
   "execution_count": 100,
   "metadata": {},
   "outputs": [
    {
     "data": {
      "text/plain": [
       "true"
      ]
     },
     "execution_count": 100,
     "metadata": {},
     "output_type": "execute_result"
    }
   ],
   "source": [
    "Ainv == inv(I - α * transpose(A))"
   ]
  },
  {
   "cell_type": "code",
   "execution_count": 109,
   "metadata": {},
   "outputs": [
    {
     "data": {
      "text/plain": [
       "5-element Array{Float64,1}:\n",
       " 1.0\n",
       " 1.0\n",
       " 2.0\n",
       " 2.0\n",
       " 2.0"
      ]
     },
     "execution_count": 109,
     "metadata": {},
     "output_type": "execute_result"
    }
   ],
   "source": [
    "# α-centrality\n",
    "cα = Ainv * ones(5)"
   ]
  },
  {
   "cell_type": "code",
   "execution_count": 110,
   "metadata": {},
   "outputs": [
    {
     "data": {
      "text/plain": [
       "5-element Array{Float64,1}:\n",
       " 0.125\n",
       " 0.125\n",
       " 0.25\n",
       " 0.25\n",
       " 0.25"
      ]
     },
     "execution_count": 110,
     "metadata": {},
     "output_type": "execute_result"
    }
   ],
   "source": [
    "# Normalised α-centrality\n",
    "Cα = cα ./ sum(Ainv)"
   ]
  }
 ],
 "metadata": {
  "kernelspec": {
   "display_name": "Julia 1.5.3",
   "language": "julia",
   "name": "julia-1.5"
  },
  "language_info": {
   "file_extension": ".jl",
   "mimetype": "application/julia",
   "name": "julia",
   "version": "1.5.3"
  }
 },
 "nbformat": 4,
 "nbformat_minor": 4
}
