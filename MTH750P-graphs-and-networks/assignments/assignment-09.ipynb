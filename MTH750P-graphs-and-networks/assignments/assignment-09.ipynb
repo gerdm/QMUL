{
 "cells": [
  {
   "cell_type": "markdown",
   "metadata": {},
   "source": [
    "# Assignment 9"
   ]
  },
  {
   "cell_type": "code",
   "execution_count": 39,
   "metadata": {},
   "outputs": [],
   "source": [
    "using LightGraphs\n",
    "using DelimitedFiles\n",
    "using LinearAlgebra\n",
    "using Plots"
   ]
  },
  {
   "cell_type": "markdown",
   "metadata": {},
   "source": [
    "## The ensemble of a regular random graph"
   ]
  },
  {
   "cell_type": "code",
   "execution_count": 103,
   "metadata": {},
   "outputs": [
    {
     "data": {
      "text/plain": [
       "16726-element Array{String,1}:\n",
       " \"RADZIHOVSKY, L\"\n",
       " \"FRISCHAT, SD\"\n",
       " \"KUHN, R\"\n",
       " \"BEENAKKER, CWJ\"\n",
       " \"MELSEN, JA\"\n",
       " \"BROUWER, PW\"\n",
       " \"JONG, MJMD\"\n",
       " \"CIRILLO, ENM\"\n",
       " \"GONNELLA, G\"\n",
       " \"XIAN, Y\"\n",
       " \"HALDANE, FDM\"\n",
       " \"BASHKIN, E\"\n",
       " \"PAVLOFF, N\"\n",
       " ⋮\n",
       " \"FELSER, C\"\n",
       " \"TREMEL, W\"\n",
       " \"WALDECK, M\"\n",
       " \"RENZ, F\"\n",
       " \"GUETLICH, P\"\n",
       " \"HAEUSSLER, R\"\n",
       " \"WEBER, HB\"\n",
       " \"KRUGER, E\"\n",
       " \"LEUNG, MA\"\n",
       " \"CORNISH, SL\"\n",
       " \"CLAUSSEN, NR\"\n",
       " \"ROBERTS, JL\""
      ]
     },
     "execution_count": 103,
     "metadata": {},
     "output_type": "execute_result"
    }
   ],
   "source": [
    "coauthor = readdlm(\"../data/coauthorship/cond-mat.net\", Int64) .+ 1\n",
    "coauthor_names = readdlm(\"../data/coauthorship/cond-mat_names.txt\", String)[:, 2]"
   ]
  },
  {
   "cell_type": "code",
   "execution_count": 104,
   "metadata": {},
   "outputs": [],
   "source": [
    "N = maximum(coauthor)\n",
    "G = SimpleGraph(N)\n",
    "\n",
    "for (n, m) in eachrow(coauthor)\n",
    "    add_edge!(G, n, m)\n",
    "end\n",
    "\n",
    "A = adjacency_matrix(G);"
   ]
  },
  {
   "cell_type": "code",
   "execution_count": 105,
   "metadata": {},
   "outputs": [
    {
     "data": {
      "text/plain": [
       "(0, 107)"
      ]
     },
     "execution_count": 105,
     "metadata": {},
     "output_type": "execute_result"
    }
   ],
   "source": [
    "degree_seq = sum(A, dims=2)\n",
    "kmin, kmax = minimum(degree_seq), maximum(degree_seq)"
   ]
  },
  {
   "cell_type": "code",
   "execution_count": 106,
   "metadata": {},
   "outputs": [
    {
     "data": {
      "text/plain": [
       "0.3595896745688782"
      ]
     },
     "execution_count": 106,
     "metadata": {},
     "output_type": "execute_result"
    }
   ],
   "source": [
    "# Global clustering coefficient\n",
    "C = tr(A ^ 3) / sum(degree_seq .* (degree_seq .- 1))"
   ]
  },
  {
   "cell_type": "code",
   "execution_count": 107,
   "metadata": {},
   "outputs": [
    {
     "data": {
      "text/plain": [
       "13861"
      ]
     },
     "execution_count": 107,
     "metadata": {},
     "output_type": "execute_result"
    }
   ],
   "source": [
    "components = connected_components(G)\n",
    "gc_ix = argmax([length(component) for component in components])\n",
    "largest_component = components[gc_ix]\n",
    "length(largest_component)"
   ]
  },
  {
   "cell_type": "code",
   "execution_count": 138,
   "metadata": {},
   "outputs": [],
   "source": [
    "Ggc = SimpleGraph(length(largest_component))\n",
    "for (n, m) in eachrow(coauthor)\n",
    "    if (n ∈ largest_component) & (m ∈ largest_component)\n",
    "        add_edge!(Ggc, n, m)\n",
    "    end\n",
    "end"
   ]
  },
  {
   "cell_type": "code",
   "execution_count": 141,
   "metadata": {},
   "outputs": [
    {
     "data": {
      "text/plain": [
       "true"
      ]
     },
     "execution_count": 141,
     "metadata": {},
     "output_type": "execute_result"
    }
   ],
   "source": [
    "Ggc = SimpleGraph(3)\n",
    "add_edge!(Ggc, 1, 2)"
   ]
  },
  {
   "cell_type": "code",
   "execution_count": 117,
   "metadata": {},
   "outputs": [
    {
     "data": {
      "text/plain": [
       "false"
      ]
     },
     "execution_count": 117,
     "metadata": {},
     "output_type": "execute_result"
    }
   ],
   "source": [
    "2 ∈ largest_component"
   ]
  },
  {
   "cell_type": "code",
   "execution_count": 114,
   "metadata": {},
   "outputs": [
    {
     "data": {
      "text/plain": [
       "13861-element Array{Int64,1}:\n",
       "     1\n",
       "     2\n",
       "     3\n",
       "     4\n",
       "     5\n",
       "     6\n",
       "     7\n",
       "     8\n",
       "     9\n",
       "    10\n",
       "    11\n",
       "    12\n",
       "    13\n",
       "     ⋮\n",
       " 13850\n",
       " 13851\n",
       " 13852\n",
       " 13853\n",
       " 13854\n",
       " 13855\n",
       " 13856\n",
       " 13857\n",
       " 13858\n",
       " 13859\n",
       " 13860\n",
       " 13861"
      ]
     },
     "execution_count": 114,
     "metadata": {},
     "output_type": "execute_result"
    }
   ],
   "source": [
    "[e for e in vertices(Ggc)]"
   ]
  },
  {
   "cell_type": "code",
   "execution_count": 109,
   "metadata": {},
   "outputs": [
    {
     "data": {
      "text/plain": [
       "13861-element Array{Int64,1}:\n",
       "                   0\n",
       " 9223372036854775807\n",
       " 9223372036854775807\n",
       "                   5\n",
       "                   5\n",
       "                   4\n",
       "                   5\n",
       "                   6\n",
       "                   5\n",
       " 9223372036854775807\n",
       "                   3\n",
       "                  10\n",
       "                   9\n",
       "                   ⋮\n",
       " 9223372036854775807\n",
       " 9223372036854775807\n",
       " 9223372036854775807\n",
       "                   5\n",
       "                   4\n",
       "                   4\n",
       "                   7\n",
       "                   7\n",
       "                   5\n",
       "                   5\n",
       "                   5\n",
       "                   6"
      ]
     },
     "execution_count": 109,
     "metadata": {},
     "output_type": "execute_result"
    }
   ],
   "source": [
    "gdistances(Ggc, 1)"
   ]
  }
 ],
 "metadata": {
  "kernelspec": {
   "display_name": "Julia 1.5.3",
   "language": "julia",
   "name": "julia-1.5"
  },
  "language_info": {
   "file_extension": ".jl",
   "mimetype": "application/julia",
   "name": "julia",
   "version": "1.5.3"
  }
 },
 "nbformat": 4,
 "nbformat_minor": 4
}
