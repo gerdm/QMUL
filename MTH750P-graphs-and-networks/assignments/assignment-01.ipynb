{
 "cells": [
  {
   "cell_type": "markdown",
   "metadata": {},
   "source": [
    "# Assignment 1\n",
    "## Graphs and Networks"
   ]
  },
  {
   "cell_type": "markdown",
   "metadata": {},
   "source": [
    "### 1 (Graphs and Networks)\n",
    "- (a) Think of five different systems you can describe in terms of complex networks. State what the nodes and the connections of the network represent in each case. The two who will come up with the two most original examples will get as a prize. Explain an importance of the networks you choose."
   ]
  },
  {
   "cell_type": "markdown",
   "metadata": {},
   "source": [
    "```\n",
    "1. The behvaiour of the GME stock in terms of the participants: the nodes are the market participants and the edges are nodes representing whether two nodes (market participants) have made a transaction. The importance of modeling this network is to know whether a \"short-ladder\" attack is actually begin done on GME. Some people on the internet especulate that hedge funds are trying to syntetically drive the price of the GME to $0. If this is true, then we should see small \"clusters\" that make big and frequent transactions among them, and another big cluster of nodes that remain mostly static or buy GME shares, but do not sell them. The small clusters would represent the hedge funds (small with big purchasing power), and the big cluster the \"retail\" investors.\n",
    "\n",
    "2. In the book Sapiens by Yuval Noah Harari, the author argues that cultures are not static but are in constant motion. We could model cultures as a complex system via a weighted directed graph. Each node represents a culture and every edge is a weighted value of the impact of a culture in another. Modeling cultures as a complex system can makes us model how a culture \"is born\" or when they cease to exist.\n",
    "\n",
    "3. \n",
    "```"
   ]
  },
  {
   "cell_type": "markdown",
   "metadata": {},
   "source": [
    "- (b) With the help of your colleagues, we will construct and draw the network of friendships in your “Graphs and Networks” class as it is now in Week 1. Which kind of network do you get?"
   ]
  },
  {
   "cell_type": "markdown",
   "metadata": {},
   "source": [
    "```\n",
    "We get a directed graph: the nodes represent the students and edges whether a given student says to be friend of another student.\n",
    "```"
   ]
  },
  {
   "cell_type": "markdown",
   "metadata": {},
   "source": [
    "### 2 (The perfect party)\n",
    "\n",
    "- (a) Imagine to have organised a party with $N = 5$ people. Some of the people at the party know already each other, so that we focus on the party friendship network. In particular, two of them have one friend each at the party, two of them have two friends each, and one has got three friends. Is this network possible? Why? Hint: Prove that in any network the number of nodes with odd number of connections must be even."
   ]
  },
  {
   "cell_type": "markdown",
   "metadata": {},
   "source": [
    "Let $G = \\{\\mathcal{N}, \\mathcal{L}\\}$ be an undirected graph. Suppose that $ 0 \\equiv |\\mathcal{L}|\\mod 2$. We will show that $|\\mathcal{N}|\\mod 2 \\equiv 1$\n"
   ]
  },
  {
   "cell_type": "code",
   "execution_count": 10,
   "metadata": {},
   "outputs": [],
   "source": [
    "from itertools import combinations_with_replacement\n",
    "from scipy.special import comb"
   ]
  },
  {
   "cell_type": "code",
   "execution_count": 11,
   "metadata": {},
   "outputs": [
    {
     "name": "stdout",
     "output_type": "stream",
     "text": [
      "('n1', 'n1')\n",
      "('n1', 'n2')\n",
      "('n1', 'n3')\n",
      "('n1', 'n4')\n",
      "('n2', 'n2')\n",
      "('n2', 'n3')\n",
      "('n2', 'n4')\n",
      "('n3', 'n3')\n",
      "('n3', 'n4')\n",
      "('n4', 'n4')\n"
     ]
    }
   ],
   "source": [
    "N = (\"n1\", \"n2\", \"n3\", \"n4\")\n",
    "for cn in combinations_with_replacement(N, 2):\n",
    "    print(cn)"
   ]
  },
  {
   "cell_type": "code",
   "execution_count": 12,
   "metadata": {},
   "outputs": [
    {
     "name": "stdout",
     "output_type": "stream",
     "text": [
      "C(02, 2) = 01\n",
      "C(03, 2) = 03\n",
      "C(04, 2) = 06\n",
      "C(05, 2) = 10\n",
      "C(06, 2) = 15\n",
      "C(07, 2) = 21\n",
      "C(08, 2) = 28\n",
      "C(09, 2) = 36\n",
      "C(10, 2) = 45\n"
     ]
    }
   ],
   "source": [
    "for k in range(2, 11):\n",
    "    cv = comb(k, 2)\n",
    "    # if number of nodes is even\n",
    "    print(f\"C({k:02}, 2) = {cv:02.0f}\")"
   ]
  },
  {
   "cell_type": "markdown",
   "metadata": {},
   "source": [
    "- (b) Is it possible to have a party at which no two people have the same number of friends? Can you support your answer by a mathematical proof?"
   ]
  },
  {
   "cell_type": "code",
   "execution_count": null,
   "metadata": {},
   "outputs": [],
   "source": []
  }
 ],
 "metadata": {
  "kernelspec": {
   "display_name": "Python 3",
   "language": "python",
   "name": "python3"
  },
  "language_info": {
   "codemirror_mode": {
    "name": "ipython",
    "version": 3
   },
   "file_extension": ".py",
   "mimetype": "text/x-python",
   "name": "python",
   "nbconvert_exporter": "python",
   "pygments_lexer": "ipython3",
   "version": "3.8.3"
  }
 },
 "nbformat": 4,
 "nbformat_minor": 4
}
