{
 "cells": [
  {
   "cell_type": "markdown",
   "metadata": {},
   "source": [
    "# Assignment 7 "
   ]
  },
  {
   "cell_type": "code",
   "execution_count": 1,
   "metadata": {
    "scrolled": true
   },
   "outputs": [],
   "source": [
    "using Plots\n",
    "using LightGraphs\n",
    "using GraphRecipes\n",
    "using LinearAlgebra\n",
    "using Combinatorics: combinations\n",
    "using Statistics: mean"
   ]
  },
  {
   "cell_type": "code",
   "execution_count": 2,
   "metadata": {},
   "outputs": [
    {
     "data": {
      "text/plain": [
       "8"
      ]
     },
     "execution_count": 2,
     "metadata": {},
     "output_type": "execute_result"
    }
   ],
   "source": [
    "Threads.nthreads()"
   ]
  },
  {
   "cell_type": "code",
   "execution_count": 3,
   "metadata": {},
   "outputs": [
    {
     "data": {
      "text/plain": [
       "comb (generic function with 1 method)"
      ]
     },
     "execution_count": 3,
     "metadata": {},
     "output_type": "execute_result"
    }
   ],
   "source": [
    "comb(N, k) = factorial(N) / (factorial(k) * factorial(N - k))"
   ]
  },
  {
   "cell_type": "markdown",
   "metadata": {},
   "source": [
    "## 1) Poisson Approximation"
   ]
  },
  {
   "cell_type": "markdown",
   "metadata": {},
   "source": [
    "The number of links in a complete subgraph is $n \\choose 2$"
   ]
  },
  {
   "cell_type": "code",
   "execution_count": 4,
   "metadata": {},
   "outputs": [
    {
     "data": {
      "text/plain": [
       "poisson (generic function with 1 method)"
      ]
     },
     "execution_count": 4,
     "metadata": {},
     "output_type": "execute_result"
    }
   ],
   "source": [
    "function poisson(λ)\n",
    "    pmf(x) = λ ^ x * exp(-λ) / factorial(x)\n",
    "    return pmf\n",
    "end"
   ]
  },
  {
   "cell_type": "code",
   "execution_count": 5,
   "metadata": {},
   "outputs": [
    {
     "data": {
      "text/plain": [
       "3-element Array{Float64,1}:\n",
       " 0.1353352832366127\n",
       " 0.2706705664732254\n",
       " 0.2706705664732254"
      ]
     },
     "execution_count": 5,
     "metadata": {},
     "output_type": "execute_result"
    }
   ],
   "source": [
    "c = 2\n",
    "pois = poisson(c)\n",
    "pois.(0:2)"
   ]
  },
  {
   "cell_type": "code",
   "execution_count": 6,
   "metadata": {},
   "outputs": [
    {
     "data": {
      "text/plain": [
       "0.3233235838169365"
      ]
     },
     "execution_count": 6,
     "metadata": {},
     "output_type": "execute_result"
    }
   ],
   "source": [
    "1 - sum(pois.(0:2))"
   ]
  },
  {
   "cell_type": "code",
   "execution_count": 7,
   "metadata": {},
   "outputs": [
    {
     "data": {
      "image/svg+xml": [
       "<?xml version=\"1.0\" encoding=\"utf-8\"?>\n",
       "<svg xmlns=\"http://www.w3.org/2000/svg\" xmlns:xlink=\"http://www.w3.org/1999/xlink\" width=\"600\" height=\"400\" viewBox=\"0 0 2400 1600\">\n",
       "<defs>\n",
       "  <clipPath id=\"clip390\">\n",
       "    <rect x=\"0\" y=\"0\" width=\"2400\" height=\"1600\"/>\n",
       "  </clipPath>\n",
       "</defs>\n",
       "<path clip-path=\"url(#clip390)\" d=\"\n",
       "M0 1600 L2400 1600 L2400 0 L0 0  Z\n",
       "  \" fill=\"#ffffff\" fill-rule=\"evenodd\" fill-opacity=\"1\"/>\n",
       "<defs>\n",
       "  <clipPath id=\"clip391\">\n",
       "    <rect x=\"480\" y=\"0\" width=\"1681\" height=\"1600\"/>\n",
       "  </clipPath>\n",
       "</defs>\n",
       "<path clip-path=\"url(#clip390)\" d=\"\n",
       "M174.862 1486.45 L2352.76 1486.45 L2352.76 47.2441 L174.862 47.2441  Z\n",
       "  \" fill=\"#ffffff\" fill-rule=\"evenodd\" fill-opacity=\"1\"/>\n",
       "<defs>\n",
       "  <clipPath id=\"clip392\">\n",
       "    <rect x=\"174\" y=\"47\" width=\"2179\" height=\"1440\"/>\n",
       "  </clipPath>\n",
       "</defs>\n",
       "<polyline clip-path=\"url(#clip392)\" style=\"stroke:#000000; stroke-width:2; stroke-opacity:0.1; fill:none\" points=\"\n",
       "  510.449,1486.45 510.449,47.2441 \n",
       "  \"/>\n",
       "<polyline clip-path=\"url(#clip392)\" style=\"stroke:#000000; stroke-width:2; stroke-opacity:0.1; fill:none\" points=\"\n",
       "  921.373,1486.45 921.373,47.2441 \n",
       "  \"/>\n",
       "<polyline clip-path=\"url(#clip392)\" style=\"stroke:#000000; stroke-width:2; stroke-opacity:0.1; fill:none\" points=\"\n",
       "  1332.3,1486.45 1332.3,47.2441 \n",
       "  \"/>\n",
       "<polyline clip-path=\"url(#clip392)\" style=\"stroke:#000000; stroke-width:2; stroke-opacity:0.1; fill:none\" points=\"\n",
       "  1743.22,1486.45 1743.22,47.2441 \n",
       "  \"/>\n",
       "<polyline clip-path=\"url(#clip392)\" style=\"stroke:#000000; stroke-width:2; stroke-opacity:0.1; fill:none\" points=\"\n",
       "  2154.14,1486.45 2154.14,47.2441 \n",
       "  \"/>\n",
       "<polyline clip-path=\"url(#clip390)\" style=\"stroke:#000000; stroke-width:4; stroke-opacity:1; fill:none\" points=\"\n",
       "  174.862,1486.45 2352.76,1486.45 \n",
       "  \"/>\n",
       "<polyline clip-path=\"url(#clip390)\" style=\"stroke:#000000; stroke-width:4; stroke-opacity:1; fill:none\" points=\"\n",
       "  510.449,1486.45 510.449,1469.18 \n",
       "  \"/>\n",
       "<polyline clip-path=\"url(#clip390)\" style=\"stroke:#000000; stroke-width:4; stroke-opacity:1; fill:none\" points=\"\n",
       "  921.373,1486.45 921.373,1469.18 \n",
       "  \"/>\n",
       "<polyline clip-path=\"url(#clip390)\" style=\"stroke:#000000; stroke-width:4; stroke-opacity:1; fill:none\" points=\"\n",
       "  1332.3,1486.45 1332.3,1469.18 \n",
       "  \"/>\n",
       "<polyline clip-path=\"url(#clip390)\" style=\"stroke:#000000; stroke-width:4; stroke-opacity:1; fill:none\" points=\"\n",
       "  1743.22,1486.45 1743.22,1469.18 \n",
       "  \"/>\n",
       "<polyline clip-path=\"url(#clip390)\" style=\"stroke:#000000; stroke-width:4; stroke-opacity:1; fill:none\" points=\"\n",
       "  2154.14,1486.45 2154.14,1469.18 \n",
       "  \"/>\n",
       "<path clip-path=\"url(#clip390)\" d=\"M 0 0 M514.697 1528.49 Q518.054 1529.2 519.929 1531.47 Q521.827 1533.74 521.827 1537.07 Q521.827 1542.19 518.308 1544.99 Q514.79 1547.79 508.308 1547.79 Q506.132 1547.79 503.818 1547.35 Q501.526 1546.93 499.072 1546.08 L499.072 1541.56 Q501.017 1542.7 503.331 1543.28 Q505.646 1543.86 508.169 1543.86 Q512.567 1543.86 514.859 1542.12 Q517.174 1540.38 517.174 1537.07 Q517.174 1534.02 515.021 1532.31 Q512.892 1530.57 509.072 1530.57 L505.044 1530.57 L505.044 1526.73 L509.257 1526.73 Q512.706 1526.73 514.535 1525.36 Q516.364 1523.97 516.364 1521.38 Q516.364 1518.72 514.466 1517.31 Q512.591 1515.87 509.072 1515.87 Q507.151 1515.87 504.952 1516.29 Q502.753 1516.7 500.114 1517.58 L500.114 1513.42 Q502.776 1512.68 505.091 1512.31 Q507.429 1511.93 509.489 1511.93 Q514.813 1511.93 517.915 1514.37 Q521.017 1516.77 521.017 1520.89 Q521.017 1523.76 519.373 1525.75 Q517.73 1527.72 514.697 1528.49 Z\" fill=\"#000000\" fill-rule=\"evenodd\" fill-opacity=\"1\" /><path clip-path=\"url(#clip390)\" d=\"M 0 0 M921.778 1527.98 Q918.63 1527.98 916.778 1530.13 Q914.949 1532.28 914.949 1536.03 Q914.949 1539.76 916.778 1541.93 Q918.63 1544.09 921.778 1544.09 Q924.926 1544.09 926.755 1541.93 Q928.607 1539.76 928.607 1536.03 Q928.607 1532.28 926.755 1530.13 Q924.926 1527.98 921.778 1527.98 M931.06 1513.32 L931.06 1517.58 Q929.301 1516.75 927.495 1516.31 Q925.713 1515.87 923.954 1515.87 Q919.324 1515.87 916.871 1519 Q914.44 1522.12 914.093 1528.44 Q915.459 1526.43 917.519 1525.36 Q919.579 1524.27 922.056 1524.27 Q927.264 1524.27 930.273 1527.44 Q933.306 1530.59 933.306 1536.03 Q933.306 1541.36 930.157 1544.57 Q927.009 1547.79 921.778 1547.79 Q915.783 1547.79 912.611 1543.21 Q909.44 1538.6 909.44 1529.87 Q909.44 1521.68 913.329 1516.82 Q917.218 1511.93 923.769 1511.93 Q925.528 1511.93 927.31 1512.28 Q929.116 1512.63 931.06 1513.32 Z\" fill=\"#000000\" fill-rule=\"evenodd\" fill-opacity=\"1\" /><path clip-path=\"url(#clip390)\" d=\"M 0 0 M1322.6 1546.4 L1322.6 1542.14 Q1324.36 1542.98 1326.16 1543.42 Q1327.97 1543.86 1329.7 1543.86 Q1334.33 1543.86 1336.76 1540.75 Q1339.22 1537.63 1339.56 1531.29 Q1338.22 1533.28 1336.16 1534.34 Q1334.1 1535.41 1331.6 1535.41 Q1326.42 1535.41 1323.38 1532.28 Q1320.37 1529.13 1320.37 1523.69 Q1320.37 1518.37 1323.52 1515.15 Q1326.67 1511.93 1331.9 1511.93 Q1337.9 1511.93 1341.05 1516.54 Q1344.22 1521.12 1344.22 1529.87 Q1344.22 1538.05 1340.33 1542.93 Q1336.46 1547.79 1329.91 1547.79 Q1328.15 1547.79 1326.35 1547.44 Q1324.54 1547.1 1322.6 1546.4 M1331.9 1531.75 Q1335.05 1531.75 1336.88 1529.6 Q1338.73 1527.44 1338.73 1523.69 Q1338.73 1519.97 1336.88 1517.81 Q1335.05 1515.64 1331.9 1515.64 Q1328.75 1515.64 1326.9 1517.81 Q1325.07 1519.97 1325.07 1523.69 Q1325.07 1527.44 1326.9 1529.6 Q1328.75 1531.75 1331.9 1531.75 Z\" fill=\"#000000\" fill-rule=\"evenodd\" fill-opacity=\"1\" /><path clip-path=\"url(#clip390)\" d=\"M 0 0 M1720.89 1543.18 L1728.53 1543.18 L1728.53 1516.82 L1720.22 1518.49 L1720.22 1514.23 L1728.49 1512.56 L1733.16 1512.56 L1733.16 1543.18 L1740.8 1543.18 L1740.8 1547.12 L1720.89 1547.12 L1720.89 1543.18 Z\" fill=\"#000000\" fill-rule=\"evenodd\" fill-opacity=\"1\" /><path clip-path=\"url(#clip390)\" d=\"M 0 0 M1749.9 1543.18 L1766.22 1543.18 L1766.22 1547.12 L1744.27 1547.12 L1744.27 1543.18 Q1746.93 1540.43 1751.52 1535.8 Q1756.12 1531.15 1757.31 1529.81 Q1759.55 1527.28 1760.43 1525.55 Q1761.33 1523.79 1761.33 1522.1 Q1761.33 1519.34 1759.39 1517.61 Q1757.47 1515.87 1754.37 1515.87 Q1752.17 1515.87 1749.71 1516.63 Q1747.28 1517.4 1744.5 1518.95 L1744.5 1514.23 Q1747.33 1513.09 1749.78 1512.51 Q1752.24 1511.93 1754.27 1511.93 Q1759.64 1511.93 1762.84 1514.62 Q1766.03 1517.31 1766.03 1521.8 Q1766.03 1523.93 1765.22 1525.85 Q1764.43 1527.74 1762.33 1530.34 Q1761.75 1531.01 1758.65 1534.23 Q1755.55 1537.42 1749.9 1543.18 Z\" fill=\"#000000\" fill-rule=\"evenodd\" fill-opacity=\"1\" /><path clip-path=\"url(#clip390)\" d=\"M 0 0 M2131.52 1543.18 L2139.15 1543.18 L2139.15 1516.82 L2130.84 1518.49 L2130.84 1514.23 L2139.11 1512.56 L2143.78 1512.56 L2143.78 1543.18 L2151.42 1543.18 L2151.42 1547.12 L2131.52 1547.12 L2131.52 1543.18 Z\" fill=\"#000000\" fill-rule=\"evenodd\" fill-opacity=\"1\" /><path clip-path=\"url(#clip390)\" d=\"M 0 0 M2156.54 1512.56 L2174.9 1512.56 L2174.9 1516.5 L2160.82 1516.5 L2160.82 1524.97 Q2161.84 1524.62 2162.86 1524.46 Q2163.88 1524.27 2164.9 1524.27 Q2170.68 1524.27 2174.06 1527.44 Q2177.44 1530.62 2177.44 1536.03 Q2177.44 1541.61 2173.97 1544.71 Q2170.5 1547.79 2164.18 1547.79 Q2162 1547.79 2159.73 1547.42 Q2157.49 1547.05 2155.08 1546.31 L2155.08 1541.61 Q2157.16 1542.74 2159.39 1543.3 Q2161.61 1543.86 2164.09 1543.86 Q2168.09 1543.86 2170.43 1541.75 Q2172.77 1539.64 2172.77 1536.03 Q2172.77 1532.42 2170.43 1530.31 Q2168.09 1528.21 2164.09 1528.21 Q2162.21 1528.21 2160.34 1528.62 Q2158.48 1529.04 2156.54 1529.92 L2156.54 1512.56 Z\" fill=\"#000000\" fill-rule=\"evenodd\" fill-opacity=\"1\" /><polyline clip-path=\"url(#clip392)\" style=\"stroke:#000000; stroke-width:2; stroke-opacity:0.1; fill:none\" points=\"\n",
       "  174.862,1445.72 2352.76,1445.72 \n",
       "  \"/>\n",
       "<polyline clip-path=\"url(#clip392)\" style=\"stroke:#000000; stroke-width:2; stroke-opacity:0.1; fill:none\" points=\"\n",
       "  174.862,1194.91 2352.76,1194.91 \n",
       "  \"/>\n",
       "<polyline clip-path=\"url(#clip392)\" style=\"stroke:#000000; stroke-width:2; stroke-opacity:0.1; fill:none\" points=\"\n",
       "  174.862,944.095 2352.76,944.095 \n",
       "  \"/>\n",
       "<polyline clip-path=\"url(#clip392)\" style=\"stroke:#000000; stroke-width:2; stroke-opacity:0.1; fill:none\" points=\"\n",
       "  174.862,693.285 2352.76,693.285 \n",
       "  \"/>\n",
       "<polyline clip-path=\"url(#clip392)\" style=\"stroke:#000000; stroke-width:2; stroke-opacity:0.1; fill:none\" points=\"\n",
       "  174.862,442.474 2352.76,442.474 \n",
       "  \"/>\n",
       "<polyline clip-path=\"url(#clip392)\" style=\"stroke:#000000; stroke-width:2; stroke-opacity:0.1; fill:none\" points=\"\n",
       "  174.862,191.664 2352.76,191.664 \n",
       "  \"/>\n",
       "<polyline clip-path=\"url(#clip390)\" style=\"stroke:#000000; stroke-width:4; stroke-opacity:1; fill:none\" points=\"\n",
       "  174.862,1486.45 174.862,47.2441 \n",
       "  \"/>\n",
       "<polyline clip-path=\"url(#clip390)\" style=\"stroke:#000000; stroke-width:4; stroke-opacity:1; fill:none\" points=\"\n",
       "  174.862,1445.72 200.997,1445.72 \n",
       "  \"/>\n",
       "<polyline clip-path=\"url(#clip390)\" style=\"stroke:#000000; stroke-width:4; stroke-opacity:1; fill:none\" points=\"\n",
       "  174.862,1194.91 200.997,1194.91 \n",
       "  \"/>\n",
       "<polyline clip-path=\"url(#clip390)\" style=\"stroke:#000000; stroke-width:4; stroke-opacity:1; fill:none\" points=\"\n",
       "  174.862,944.095 200.997,944.095 \n",
       "  \"/>\n",
       "<polyline clip-path=\"url(#clip390)\" style=\"stroke:#000000; stroke-width:4; stroke-opacity:1; fill:none\" points=\"\n",
       "  174.862,693.285 200.997,693.285 \n",
       "  \"/>\n",
       "<polyline clip-path=\"url(#clip390)\" style=\"stroke:#000000; stroke-width:4; stroke-opacity:1; fill:none\" points=\"\n",
       "  174.862,442.474 200.997,442.474 \n",
       "  \"/>\n",
       "<polyline clip-path=\"url(#clip390)\" style=\"stroke:#000000; stroke-width:4; stroke-opacity:1; fill:none\" points=\"\n",
       "  174.862,191.664 200.997,191.664 \n",
       "  \"/>\n",
       "<path clip-path=\"url(#clip390)\" d=\"M 0 0 M62.9365 1431.51 Q59.3254 1431.51 57.4967 1435.08 Q55.6912 1438.62 55.6912 1445.75 Q55.6912 1452.86 57.4967 1456.42 Q59.3254 1459.96 62.9365 1459.96 Q66.5707 1459.96 68.3763 1456.42 Q70.205 1452.86 70.205 1445.75 Q70.205 1438.62 68.3763 1435.08 Q66.5707 1431.51 62.9365 1431.51 M62.9365 1427.81 Q68.7467 1427.81 71.8022 1432.42 Q74.8809 1437 74.8809 1445.75 Q74.8809 1454.48 71.8022 1459.08 Q68.7467 1463.67 62.9365 1463.67 Q57.1264 1463.67 54.0477 1459.08 Q50.9921 1454.48 50.9921 1445.75 Q50.9921 1437 54.0477 1432.42 Q57.1264 1427.81 62.9365 1427.81 Z\" fill=\"#000000\" fill-rule=\"evenodd\" fill-opacity=\"1\" /><path clip-path=\"url(#clip390)\" d=\"M 0 0 M79.9503 1457.12 L84.8345 1457.12 L84.8345 1463 L79.9503 1463 L79.9503 1457.12 Z\" fill=\"#000000\" fill-rule=\"evenodd\" fill-opacity=\"1\" /><path clip-path=\"url(#clip390)\" d=\"M 0 0 M99.9039 1431.51 Q96.2928 1431.51 94.4641 1435.08 Q92.6586 1438.62 92.6586 1445.75 Q92.6586 1452.86 94.4641 1456.42 Q96.2928 1459.96 99.9039 1459.96 Q103.538 1459.96 105.344 1456.42 Q107.172 1452.86 107.172 1445.75 Q107.172 1438.62 105.344 1435.08 Q103.538 1431.51 99.9039 1431.51 M99.9039 1427.81 Q105.714 1427.81 108.77 1432.42 Q111.848 1437 111.848 1445.75 Q111.848 1454.48 108.77 1459.08 Q105.714 1463.67 99.9039 1463.67 Q94.0937 1463.67 91.0151 1459.08 Q87.9595 1454.48 87.9595 1445.75 Q87.9595 1437 91.0151 1432.42 Q94.0937 1427.81 99.9039 1427.81 Z\" fill=\"#000000\" fill-rule=\"evenodd\" fill-opacity=\"1\" /><path clip-path=\"url(#clip390)\" d=\"M 0 0 M126.918 1431.51 Q123.307 1431.51 121.478 1435.08 Q119.672 1438.62 119.672 1445.75 Q119.672 1452.86 121.478 1456.42 Q123.307 1459.96 126.918 1459.96 Q130.552 1459.96 132.357 1456.42 Q134.186 1452.86 134.186 1445.75 Q134.186 1438.62 132.357 1435.08 Q130.552 1431.51 126.918 1431.51 M126.918 1427.81 Q132.728 1427.81 135.783 1432.42 Q138.862 1437 138.862 1445.75 Q138.862 1454.48 135.783 1459.08 Q132.728 1463.67 126.918 1463.67 Q121.107 1463.67 118.029 1459.08 Q114.973 1454.48 114.973 1445.75 Q114.973 1437 118.029 1432.42 Q121.107 1427.81 126.918 1427.81 Z\" fill=\"#000000\" fill-rule=\"evenodd\" fill-opacity=\"1\" /><path clip-path=\"url(#clip390)\" d=\"M 0 0 M63.9319 1180.7 Q60.3208 1180.7 58.4921 1184.27 Q56.6865 1187.81 56.6865 1194.94 Q56.6865 1202.05 58.4921 1205.61 Q60.3208 1209.15 63.9319 1209.15 Q67.5661 1209.15 69.3717 1205.61 Q71.2004 1202.05 71.2004 1194.94 Q71.2004 1187.81 69.3717 1184.27 Q67.5661 1180.7 63.9319 1180.7 M63.9319 1177 Q69.742 1177 72.7976 1181.61 Q75.8763 1186.19 75.8763 1194.94 Q75.8763 1203.67 72.7976 1208.27 Q69.742 1212.86 63.9319 1212.86 Q58.1217 1212.86 55.043 1208.27 Q51.9875 1203.67 51.9875 1194.94 Q51.9875 1186.19 55.043 1181.61 Q58.1217 1177 63.9319 1177 Z\" fill=\"#000000\" fill-rule=\"evenodd\" fill-opacity=\"1\" /><path clip-path=\"url(#clip390)\" d=\"M 0 0 M80.9457 1206.31 L85.8299 1206.31 L85.8299 1212.19 L80.9457 1212.19 L80.9457 1206.31 Z\" fill=\"#000000\" fill-rule=\"evenodd\" fill-opacity=\"1\" /><path clip-path=\"url(#clip390)\" d=\"M 0 0 M100.899 1180.7 Q97.2882 1180.7 95.4595 1184.27 Q93.6539 1187.81 93.6539 1194.94 Q93.6539 1202.05 95.4595 1205.61 Q97.2882 1209.15 100.899 1209.15 Q104.534 1209.15 106.339 1205.61 Q108.168 1202.05 108.168 1194.94 Q108.168 1187.81 106.339 1184.27 Q104.534 1180.7 100.899 1180.7 M100.899 1177 Q106.709 1177 109.765 1181.61 Q112.844 1186.19 112.844 1194.94 Q112.844 1203.67 109.765 1208.27 Q106.709 1212.86 100.899 1212.86 Q95.0891 1212.86 92.0104 1208.27 Q88.9549 1203.67 88.9549 1194.94 Q88.9549 1186.19 92.0104 1181.61 Q95.0891 1177 100.899 1177 Z\" fill=\"#000000\" fill-rule=\"evenodd\" fill-opacity=\"1\" /><path clip-path=\"url(#clip390)\" d=\"M 0 0 M117.959 1177.63 L136.316 1177.63 L136.316 1181.56 L122.242 1181.56 L122.242 1190.03 Q123.26 1189.69 124.279 1189.52 Q125.297 1189.34 126.316 1189.34 Q132.103 1189.34 135.482 1192.51 Q138.862 1195.68 138.862 1201.1 Q138.862 1206.68 135.39 1209.78 Q131.918 1212.86 125.598 1212.86 Q123.422 1212.86 121.154 1212.49 Q118.908 1212.12 116.501 1211.38 L116.501 1206.68 Q118.584 1207.81 120.807 1208.37 Q123.029 1208.92 125.506 1208.92 Q129.51 1208.92 131.848 1206.82 Q134.186 1204.71 134.186 1201.1 Q134.186 1197.49 131.848 1195.38 Q129.51 1193.27 125.506 1193.27 Q123.631 1193.27 121.756 1193.69 Q119.904 1194.11 117.959 1194.99 L117.959 1177.63 Z\" fill=\"#000000\" fill-rule=\"evenodd\" fill-opacity=\"1\" /><path clip-path=\"url(#clip390)\" d=\"M 0 0 M64.1634 929.894 Q60.5523 929.894 58.7236 933.459 Q56.918 937 56.918 944.13 Q56.918 951.236 58.7236 954.801 Q60.5523 958.343 64.1634 958.343 Q67.7976 958.343 69.6031 954.801 Q71.4318 951.236 71.4318 944.13 Q71.4318 937 69.6031 933.459 Q67.7976 929.894 64.1634 929.894 M64.1634 926.19 Q69.9735 926.19 73.029 930.797 Q76.1077 935.38 76.1077 944.13 Q76.1077 952.857 73.029 957.463 Q69.9735 962.046 64.1634 962.046 Q58.3532 962.046 55.2745 957.463 Q52.219 952.857 52.219 944.13 Q52.219 935.38 55.2745 930.797 Q58.3532 926.19 64.1634 926.19 Z\" fill=\"#000000\" fill-rule=\"evenodd\" fill-opacity=\"1\" /><path clip-path=\"url(#clip390)\" d=\"M 0 0 M81.1771 955.495 L86.0614 955.495 L86.0614 961.375 L81.1771 961.375 L81.1771 955.495 Z\" fill=\"#000000\" fill-rule=\"evenodd\" fill-opacity=\"1\" /><path clip-path=\"url(#clip390)\" d=\"M 0 0 M91.941 957.44 L99.5798 957.44 L99.5798 931.074 L91.2697 932.741 L91.2697 928.482 L99.5335 926.815 L104.209 926.815 L104.209 957.44 L111.848 957.44 L111.848 961.375 L91.941 961.375 L91.941 957.44 Z\" fill=\"#000000\" fill-rule=\"evenodd\" fill-opacity=\"1\" /><path clip-path=\"url(#clip390)\" d=\"M 0 0 M126.918 929.894 Q123.307 929.894 121.478 933.459 Q119.672 937 119.672 944.13 Q119.672 951.236 121.478 954.801 Q123.307 958.343 126.918 958.343 Q130.552 958.343 132.357 954.801 Q134.186 951.236 134.186 944.13 Q134.186 937 132.357 933.459 Q130.552 929.894 126.918 929.894 M126.918 926.19 Q132.728 926.19 135.783 930.797 Q138.862 935.38 138.862 944.13 Q138.862 952.857 135.783 957.463 Q132.728 962.046 126.918 962.046 Q121.107 962.046 118.029 957.463 Q114.973 952.857 114.973 944.13 Q114.973 935.38 118.029 930.797 Q121.107 926.19 126.918 926.19 Z\" fill=\"#000000\" fill-rule=\"evenodd\" fill-opacity=\"1\" /><path clip-path=\"url(#clip390)\" d=\"M 0 0 M65.1587 679.083 Q61.5476 679.083 59.7189 682.648 Q57.9134 686.19 57.9134 693.319 Q57.9134 700.426 59.7189 703.991 Q61.5476 707.532 65.1587 707.532 Q68.793 707.532 70.5985 703.991 Q72.4272 700.426 72.4272 693.319 Q72.4272 686.19 70.5985 682.648 Q68.793 679.083 65.1587 679.083 M65.1587 675.38 Q70.9689 675.38 74.0244 679.986 Q77.1031 684.57 77.1031 693.319 Q77.1031 702.046 74.0244 706.653 Q70.9689 711.236 65.1587 711.236 Q59.3486 711.236 56.2699 706.653 Q53.2143 702.046 53.2143 693.319 Q53.2143 684.57 56.2699 679.986 Q59.3486 675.38 65.1587 675.38 Z\" fill=\"#000000\" fill-rule=\"evenodd\" fill-opacity=\"1\" /><path clip-path=\"url(#clip390)\" d=\"M 0 0 M82.1725 704.685 L87.0567 704.685 L87.0567 710.565 L82.1725 710.565 L82.1725 704.685 Z\" fill=\"#000000\" fill-rule=\"evenodd\" fill-opacity=\"1\" /><path clip-path=\"url(#clip390)\" d=\"M 0 0 M92.9363 706.63 L100.575 706.63 L100.575 680.264 L92.2651 681.931 L92.2651 677.671 L100.529 676.005 L105.205 676.005 L105.205 706.63 L112.844 706.63 L112.844 710.565 L92.9363 710.565 L92.9363 706.63 Z\" fill=\"#000000\" fill-rule=\"evenodd\" fill-opacity=\"1\" /><path clip-path=\"url(#clip390)\" d=\"M 0 0 M117.959 676.005 L136.316 676.005 L136.316 679.94 L122.242 679.94 L122.242 688.412 Q123.26 688.065 124.279 687.903 Q125.297 687.718 126.316 687.718 Q132.103 687.718 135.482 690.889 Q138.862 694.06 138.862 699.477 Q138.862 705.056 135.39 708.157 Q131.918 711.236 125.598 711.236 Q123.422 711.236 121.154 710.866 Q118.908 710.495 116.501 709.755 L116.501 705.056 Q118.584 706.19 120.807 706.745 Q123.029 707.301 125.506 707.301 Q129.51 707.301 131.848 705.194 Q134.186 703.088 134.186 699.477 Q134.186 695.866 131.848 693.759 Q129.51 691.653 125.506 691.653 Q123.631 691.653 121.756 692.069 Q119.904 692.486 117.959 693.366 L117.959 676.005 Z\" fill=\"#000000\" fill-rule=\"evenodd\" fill-opacity=\"1\" /><path clip-path=\"url(#clip390)\" d=\"M 0 0 M64.5337 428.273 Q60.9226 428.273 59.0939 431.838 Q57.2884 435.38 57.2884 442.509 Q57.2884 449.616 59.0939 453.18 Q60.9226 456.722 64.5337 456.722 Q68.168 456.722 69.9735 453.18 Q71.8022 449.616 71.8022 442.509 Q71.8022 435.38 69.9735 431.838 Q68.168 428.273 64.5337 428.273 M64.5337 424.569 Q70.3439 424.569 73.3994 429.176 Q76.4781 433.759 76.4781 442.509 Q76.4781 451.236 73.3994 455.842 Q70.3439 460.426 64.5337 460.426 Q58.7236 460.426 55.6449 455.842 Q52.5893 451.236 52.5893 442.509 Q52.5893 433.759 55.6449 429.176 Q58.7236 424.569 64.5337 424.569 Z\" fill=\"#000000\" fill-rule=\"evenodd\" fill-opacity=\"1\" /><path clip-path=\"url(#clip390)\" d=\"M 0 0 M81.5475 453.875 L86.4318 453.875 L86.4318 459.754 L81.5475 459.754 L81.5475 453.875 Z\" fill=\"#000000\" fill-rule=\"evenodd\" fill-opacity=\"1\" /><path clip-path=\"url(#clip390)\" d=\"M 0 0 M95.5289 455.819 L111.848 455.819 L111.848 459.754 L89.904 459.754 L89.904 455.819 Q92.566 453.065 97.1493 448.435 Q101.756 443.782 102.936 442.44 Q105.182 439.917 106.061 438.18 Q106.964 436.421 106.964 434.731 Q106.964 431.977 105.02 430.241 Q103.098 428.505 99.9965 428.505 Q97.7974 428.505 95.3437 429.268 Q92.9132 430.032 90.1354 431.583 L90.1354 426.861 Q92.9595 425.727 95.4132 425.148 Q97.8669 424.569 99.9039 424.569 Q105.274 424.569 108.469 427.255 Q111.663 429.94 111.663 434.43 Q111.663 436.56 110.853 438.481 Q110.066 440.38 107.959 442.972 Q107.381 443.643 104.279 446.861 Q101.177 450.055 95.5289 455.819 Z\" fill=\"#000000\" fill-rule=\"evenodd\" fill-opacity=\"1\" /><path clip-path=\"url(#clip390)\" d=\"M 0 0 M126.918 428.273 Q123.307 428.273 121.478 431.838 Q119.672 435.38 119.672 442.509 Q119.672 449.616 121.478 453.18 Q123.307 456.722 126.918 456.722 Q130.552 456.722 132.357 453.18 Q134.186 449.616 134.186 442.509 Q134.186 435.38 132.357 431.838 Q130.552 428.273 126.918 428.273 M126.918 424.569 Q132.728 424.569 135.783 429.176 Q138.862 433.759 138.862 442.509 Q138.862 451.236 135.783 455.842 Q132.728 460.426 126.918 460.426 Q121.107 460.426 118.029 455.842 Q114.973 451.236 114.973 442.509 Q114.973 433.759 118.029 429.176 Q121.107 424.569 126.918 424.569 Z\" fill=\"#000000\" fill-rule=\"evenodd\" fill-opacity=\"1\" /><path clip-path=\"url(#clip390)\" d=\"M 0 0 M65.5291 177.463 Q61.918 177.463 60.0893 181.028 Q58.2838 184.569 58.2838 191.699 Q58.2838 198.805 60.0893 202.37 Q61.918 205.912 65.5291 205.912 Q69.1633 205.912 70.9689 202.37 Q72.7976 198.805 72.7976 191.699 Q72.7976 184.569 70.9689 181.028 Q69.1633 177.463 65.5291 177.463 M65.5291 173.759 Q71.3392 173.759 74.3948 178.366 Q77.4735 182.949 77.4735 191.699 Q77.4735 200.426 74.3948 205.032 Q71.3392 209.615 65.5291 209.615 Q59.7189 209.615 56.6402 205.032 Q53.5847 200.426 53.5847 191.699 Q53.5847 182.949 56.6402 178.366 Q59.7189 173.759 65.5291 173.759 Z\" fill=\"#000000\" fill-rule=\"evenodd\" fill-opacity=\"1\" /><path clip-path=\"url(#clip390)\" d=\"M 0 0 M82.5429 203.065 L87.4271 203.065 L87.4271 208.944 L82.5429 208.944 L82.5429 203.065 Z\" fill=\"#000000\" fill-rule=\"evenodd\" fill-opacity=\"1\" /><path clip-path=\"url(#clip390)\" d=\"M 0 0 M96.5243 205.009 L112.844 205.009 L112.844 208.944 L90.8993 208.944 L90.8993 205.009 Q93.5613 202.254 98.1447 197.625 Q102.751 192.972 103.932 191.629 Q106.177 189.106 107.057 187.37 Q107.959 185.611 107.959 183.921 Q107.959 181.166 106.015 179.43 Q104.094 177.694 100.992 177.694 Q98.7928 177.694 96.3391 178.458 Q93.9086 179.222 91.1308 180.773 L91.1308 176.051 Q93.9549 174.917 96.4085 174.338 Q98.8622 173.759 100.899 173.759 Q106.27 173.759 109.464 176.444 Q112.658 179.129 112.658 183.62 Q112.658 185.75 111.848 187.671 Q111.061 189.569 108.955 192.162 Q108.376 192.833 105.274 196.051 Q102.172 199.245 96.5243 205.009 Z\" fill=\"#000000\" fill-rule=\"evenodd\" fill-opacity=\"1\" /><path clip-path=\"url(#clip390)\" d=\"M 0 0 M117.959 174.384 L136.316 174.384 L136.316 178.319 L122.242 178.319 L122.242 186.791 Q123.26 186.444 124.279 186.282 Q125.297 186.097 126.316 186.097 Q132.103 186.097 135.482 189.268 Q138.862 192.44 138.862 197.856 Q138.862 203.435 135.39 206.537 Q131.918 209.615 125.598 209.615 Q123.422 209.615 121.154 209.245 Q118.908 208.875 116.501 208.134 L116.501 203.435 Q118.584 204.569 120.807 205.125 Q123.029 205.68 125.506 205.68 Q129.51 205.68 131.848 203.574 Q134.186 201.467 134.186 197.856 Q134.186 194.245 131.848 192.139 Q129.51 190.032 125.506 190.032 Q123.631 190.032 121.756 190.449 Q119.904 190.865 117.959 191.745 L117.959 174.384 Z\" fill=\"#000000\" fill-rule=\"evenodd\" fill-opacity=\"1\" /><polyline clip-path=\"url(#clip392)\" style=\"stroke:#009af9; stroke-width:4; stroke-opacity:1; fill:none\" points=\"\n",
       "  236.501,766.846 373.475,87.9763 510.449,87.9763 647.424,540.556 784.398,993.136 921.373,1264.68 1058.35,1385.37 1195.32,1428.47 1332.3,1441.41 1469.27,1444.76 \n",
       "  1606.25,1445.52 1743.22,1445.68 1880.19,1445.71 2017.17,1445.71 2154.14,1445.72 2291.12,1445.72 \n",
       "  \"/>\n",
       "<circle clip-path=\"url(#clip392)\" cx=\"236.501\" cy=\"766.846\" r=\"14\" fill=\"#009af9\" fill-rule=\"evenodd\" fill-opacity=\"1\" stroke=\"#000000\" stroke-opacity=\"1\" stroke-width=\"3.2\"/>\n",
       "<circle clip-path=\"url(#clip392)\" cx=\"373.475\" cy=\"87.9763\" r=\"14\" fill=\"#009af9\" fill-rule=\"evenodd\" fill-opacity=\"1\" stroke=\"#000000\" stroke-opacity=\"1\" stroke-width=\"3.2\"/>\n",
       "<circle clip-path=\"url(#clip392)\" cx=\"510.449\" cy=\"87.9763\" r=\"14\" fill=\"#009af9\" fill-rule=\"evenodd\" fill-opacity=\"1\" stroke=\"#000000\" stroke-opacity=\"1\" stroke-width=\"3.2\"/>\n",
       "<circle clip-path=\"url(#clip392)\" cx=\"647.424\" cy=\"540.556\" r=\"14\" fill=\"#009af9\" fill-rule=\"evenodd\" fill-opacity=\"1\" stroke=\"#000000\" stroke-opacity=\"1\" stroke-width=\"3.2\"/>\n",
       "<circle clip-path=\"url(#clip392)\" cx=\"784.398\" cy=\"993.136\" r=\"14\" fill=\"#009af9\" fill-rule=\"evenodd\" fill-opacity=\"1\" stroke=\"#000000\" stroke-opacity=\"1\" stroke-width=\"3.2\"/>\n",
       "<circle clip-path=\"url(#clip392)\" cx=\"921.373\" cy=\"1264.68\" r=\"14\" fill=\"#009af9\" fill-rule=\"evenodd\" fill-opacity=\"1\" stroke=\"#000000\" stroke-opacity=\"1\" stroke-width=\"3.2\"/>\n",
       "<circle clip-path=\"url(#clip392)\" cx=\"1058.35\" cy=\"1385.37\" r=\"14\" fill=\"#009af9\" fill-rule=\"evenodd\" fill-opacity=\"1\" stroke=\"#000000\" stroke-opacity=\"1\" stroke-width=\"3.2\"/>\n",
       "<circle clip-path=\"url(#clip392)\" cx=\"1195.32\" cy=\"1428.47\" r=\"14\" fill=\"#009af9\" fill-rule=\"evenodd\" fill-opacity=\"1\" stroke=\"#000000\" stroke-opacity=\"1\" stroke-width=\"3.2\"/>\n",
       "<circle clip-path=\"url(#clip392)\" cx=\"1332.3\" cy=\"1441.41\" r=\"14\" fill=\"#009af9\" fill-rule=\"evenodd\" fill-opacity=\"1\" stroke=\"#000000\" stroke-opacity=\"1\" stroke-width=\"3.2\"/>\n",
       "<circle clip-path=\"url(#clip392)\" cx=\"1469.27\" cy=\"1444.76\" r=\"14\" fill=\"#009af9\" fill-rule=\"evenodd\" fill-opacity=\"1\" stroke=\"#000000\" stroke-opacity=\"1\" stroke-width=\"3.2\"/>\n",
       "<circle clip-path=\"url(#clip392)\" cx=\"1606.25\" cy=\"1445.52\" r=\"14\" fill=\"#009af9\" fill-rule=\"evenodd\" fill-opacity=\"1\" stroke=\"#000000\" stroke-opacity=\"1\" stroke-width=\"3.2\"/>\n",
       "<circle clip-path=\"url(#clip392)\" cx=\"1743.22\" cy=\"1445.68\" r=\"14\" fill=\"#009af9\" fill-rule=\"evenodd\" fill-opacity=\"1\" stroke=\"#000000\" stroke-opacity=\"1\" stroke-width=\"3.2\"/>\n",
       "<circle clip-path=\"url(#clip392)\" cx=\"1880.19\" cy=\"1445.71\" r=\"14\" fill=\"#009af9\" fill-rule=\"evenodd\" fill-opacity=\"1\" stroke=\"#000000\" stroke-opacity=\"1\" stroke-width=\"3.2\"/>\n",
       "<circle clip-path=\"url(#clip392)\" cx=\"2017.17\" cy=\"1445.71\" r=\"14\" fill=\"#009af9\" fill-rule=\"evenodd\" fill-opacity=\"1\" stroke=\"#000000\" stroke-opacity=\"1\" stroke-width=\"3.2\"/>\n",
       "<circle clip-path=\"url(#clip392)\" cx=\"2154.14\" cy=\"1445.72\" r=\"14\" fill=\"#009af9\" fill-rule=\"evenodd\" fill-opacity=\"1\" stroke=\"#000000\" stroke-opacity=\"1\" stroke-width=\"3.2\"/>\n",
       "<circle clip-path=\"url(#clip392)\" cx=\"2291.12\" cy=\"1445.72\" r=\"14\" fill=\"#009af9\" fill-rule=\"evenodd\" fill-opacity=\"1\" stroke=\"#000000\" stroke-opacity=\"1\" stroke-width=\"3.2\"/>\n",
       "<path clip-path=\"url(#clip390)\" d=\"\n",
       "M1987.15 216.178 L2280.16 216.178 L2280.16 95.2176 L1987.15 95.2176  Z\n",
       "  \" fill=\"#ffffff\" fill-rule=\"evenodd\" fill-opacity=\"1\"/>\n",
       "<polyline clip-path=\"url(#clip390)\" style=\"stroke:#000000; stroke-width:4; stroke-opacity:1; fill:none\" points=\"\n",
       "  1987.15,216.178 2280.16,216.178 2280.16,95.2176 1987.15,95.2176 1987.15,216.178 \n",
       "  \"/>\n",
       "<polyline clip-path=\"url(#clip390)\" style=\"stroke:#009af9; stroke-width:4; stroke-opacity:1; fill:none\" points=\"\n",
       "  2011.35,155.698 2156.54,155.698 \n",
       "  \"/>\n",
       "<circle clip-path=\"url(#clip390)\" cx=\"2083.95\" cy=\"155.698\" r=\"23\" fill=\"#009af9\" fill-rule=\"evenodd\" fill-opacity=\"1\" stroke=\"#000000\" stroke-opacity=\"1\" stroke-width=\"5.12\"/>\n",
       "<path clip-path=\"url(#clip390)\" d=\"M 0 0 M2194.59 175.385 Q2192.78 180.015 2191.07 181.427 Q2189.35 182.839 2186.48 182.839 L2183.08 182.839 L2183.08 179.274 L2185.58 179.274 Q2187.34 179.274 2188.31 178.44 Q2189.29 177.607 2190.47 174.505 L2191.23 172.561 L2180.74 147.052 L2185.26 147.052 L2193.36 167.329 L2201.46 147.052 L2205.97 147.052 L2194.59 175.385 Z\" fill=\"#000000\" fill-rule=\"evenodd\" fill-opacity=\"1\" /><path clip-path=\"url(#clip390)\" d=\"M 0 0 M2211.85 169.042 L2219.49 169.042 L2219.49 142.677 L2211.18 144.343 L2211.18 140.084 L2219.45 138.418 L2224.12 138.418 L2224.12 169.042 L2231.76 169.042 L2231.76 172.978 L2211.85 172.978 L2211.85 169.042 Z\" fill=\"#000000\" fill-rule=\"evenodd\" fill-opacity=\"1\" /></svg>\n"
      ]
     },
     "execution_count": 7,
     "metadata": {},
     "output_type": "execute_result"
    }
   ],
   "source": [
    "plot(pois.(0:15), marker=true)"
   ]
  },
  {
   "cell_type": "markdown",
   "metadata": {},
   "source": [
    "## 2) Clustering, transitivity and characteristic path lenght for some specia graphs"
   ]
  },
  {
   "cell_type": "code",
   "execution_count": 8,
   "metadata": {},
   "outputs": [
    {
     "data": {
      "text/plain": [
       "circle_graph! (generic function with 1 method)"
      ]
     },
     "execution_count": 8,
     "metadata": {},
     "output_type": "execute_result"
    }
   ],
   "source": [
    "circle_step(N, n, step) = ((n - 1) + step + N) % (N) + 1\n",
    "\n",
    "\"\"\"\n",
    "Return the edges required to compute a\n",
    "circle(N, m) graph.\n",
    "\n",
    "For simplicity, we assume that N % 2m == 1\n",
    "\"\"\"\n",
    "function circle_graph(N::Int64, m::Int64)\n",
    "    nodes = [0 0]\n",
    "    div_m = m ÷ 2\n",
    "    for n=1:N\n",
    "        n_next = circle_step(N, n, 1)\n",
    "        n_prev = circle_step(N, n, -1)\n",
    "        nodes = cat(nodes, [n n_prev; n n_next], dims=1)\n",
    "        for m_step = 1:(div_m+1)\n",
    "            n_next = circle_step(N, n, 1 + m_step)\n",
    "            n_prev = circle_step(N, n, - (1 + m_step))\n",
    "            nodes = cat(nodes, [n n_prev; n n_next], dims=1)\n",
    "        end\n",
    "    end\n",
    "    return nodes[2:end, :]\n",
    "end\n",
    "\n",
    "\n",
    "function circle_graph!(G::SimpleGraph{Int64}, m::Int64)\n",
    "    N = nv(G)\n",
    "    circle_nodes = circle_graph(N, m)\n",
    "    for (n1, n2) in eachrow(circle_nodes)\n",
    "        add_edge!(G, n1, n2)\n",
    "    end\n",
    "    return G\n",
    "end"
   ]
  },
  {
   "cell_type": "code",
   "execution_count": 9,
   "metadata": {},
   "outputs": [
    {
     "data": {
      "image/svg+xml": [
       "<?xml version=\"1.0\" encoding=\"utf-8\"?>\n",
       "<svg xmlns=\"http://www.w3.org/2000/svg\" xmlns:xlink=\"http://www.w3.org/1999/xlink\" width=\"600\" height=\"400\" viewBox=\"0 0 2400 1600\">\n",
       "<defs>\n",
       "  <clipPath id=\"clip430\">\n",
       "    <rect x=\"0\" y=\"0\" width=\"2400\" height=\"1600\"/>\n",
       "  </clipPath>\n",
       "</defs>\n",
       "<path clip-path=\"url(#clip430)\" d=\"\n",
       "M0 1600 L2400 1600 L2400 0 L0 0  Z\n",
       "  \" fill=\"#ffffff\" fill-rule=\"evenodd\" fill-opacity=\"1\"/>\n",
       "<defs>\n",
       "  <clipPath id=\"clip431\">\n",
       "    <rect x=\"480\" y=\"0\" width=\"1681\" height=\"1600\"/>\n",
       "  </clipPath>\n",
       "</defs>\n",
       "<path clip-path=\"url(#clip430)\" d=\"\n",
       "M482.992 1521.01 L1956.76 1521.01 L1956.76 47.2441 L482.992 47.2441  Z\n",
       "  \" fill=\"#ffffff\" fill-rule=\"evenodd\" fill-opacity=\"1\"/>\n",
       "<defs>\n",
       "  <clipPath id=\"clip432\">\n",
       "    <rect x=\"482\" y=\"47\" width=\"1475\" height=\"1475\"/>\n",
       "  </clipPath>\n",
       "</defs>\n",
       "<polyline clip-path=\"url(#clip432)\" style=\"stroke:#000000; stroke-width:4; stroke-opacity:1; fill:none\" points=\"\n",
       "  1746.22,784.126 1592.06,411.944 \n",
       "  \"/>\n",
       "<polyline clip-path=\"url(#clip432)\" style=\"stroke:#000000; stroke-width:4; stroke-opacity:1; fill:none\" points=\"\n",
       "  1746.22,784.126 1219.87,257.782 \n",
       "  \"/>\n",
       "<polyline clip-path=\"url(#clip432)\" style=\"stroke:#000000; stroke-width:4; stroke-opacity:1; fill:none\" points=\"\n",
       "  1746.22,784.126 847.692,411.944 \n",
       "  \"/>\n",
       "<polyline clip-path=\"url(#clip432)\" style=\"stroke:#000000; stroke-width:4; stroke-opacity:1; fill:none\" points=\"\n",
       "  1746.22,784.126 847.692,1156.31 \n",
       "  \"/>\n",
       "<polyline clip-path=\"url(#clip432)\" style=\"stroke:#000000; stroke-width:4; stroke-opacity:1; fill:none\" points=\"\n",
       "  1746.22,784.126 1219.87,1310.47 \n",
       "  \"/>\n",
       "<polyline clip-path=\"url(#clip432)\" style=\"stroke:#000000; stroke-width:4; stroke-opacity:1; fill:none\" points=\"\n",
       "  1746.22,784.126 1592.06,1156.31 \n",
       "  \"/>\n",
       "<polyline clip-path=\"url(#clip432)\" style=\"stroke:#000000; stroke-width:4; stroke-opacity:1; fill:none\" points=\"\n",
       "  1592.06,411.944 1219.87,257.782 \n",
       "  \"/>\n",
       "<polyline clip-path=\"url(#clip432)\" style=\"stroke:#000000; stroke-width:4; stroke-opacity:1; fill:none\" points=\"\n",
       "  1592.06,411.944 847.692,411.944 \n",
       "  \"/>\n",
       "<polyline clip-path=\"url(#clip432)\" style=\"stroke:#000000; stroke-width:4; stroke-opacity:1; fill:none\" points=\"\n",
       "  1592.06,411.944 693.53,784.126 \n",
       "  \"/>\n",
       "<polyline clip-path=\"url(#clip432)\" style=\"stroke:#000000; stroke-width:4; stroke-opacity:1; fill:none\" points=\"\n",
       "  1592.06,411.944 1219.87,1310.47 \n",
       "  \"/>\n",
       "<polyline clip-path=\"url(#clip432)\" style=\"stroke:#000000; stroke-width:4; stroke-opacity:1; fill:none\" points=\"\n",
       "  1592.06,411.944 1592.06,1156.31 \n",
       "  \"/>\n",
       "<polyline clip-path=\"url(#clip432)\" style=\"stroke:#000000; stroke-width:4; stroke-opacity:1; fill:none\" points=\"\n",
       "  1219.87,257.782 847.692,411.944 \n",
       "  \"/>\n",
       "<polyline clip-path=\"url(#clip432)\" style=\"stroke:#000000; stroke-width:4; stroke-opacity:1; fill:none\" points=\"\n",
       "  1219.87,257.782 693.53,784.126 \n",
       "  \"/>\n",
       "<polyline clip-path=\"url(#clip432)\" style=\"stroke:#000000; stroke-width:4; stroke-opacity:1; fill:none\" points=\"\n",
       "  1219.87,257.782 847.692,1156.31 \n",
       "  \"/>\n",
       "<polyline clip-path=\"url(#clip432)\" style=\"stroke:#000000; stroke-width:4; stroke-opacity:1; fill:none\" points=\"\n",
       "  1219.87,257.782 1592.06,1156.31 \n",
       "  \"/>\n",
       "<polyline clip-path=\"url(#clip432)\" style=\"stroke:#000000; stroke-width:4; stroke-opacity:1; fill:none\" points=\"\n",
       "  847.692,411.944 693.53,784.126 \n",
       "  \"/>\n",
       "<polyline clip-path=\"url(#clip432)\" style=\"stroke:#000000; stroke-width:4; stroke-opacity:1; fill:none\" points=\"\n",
       "  847.692,411.944 847.692,1156.31 \n",
       "  \"/>\n",
       "<polyline clip-path=\"url(#clip432)\" style=\"stroke:#000000; stroke-width:4; stroke-opacity:1; fill:none\" points=\"\n",
       "  847.692,411.944 1219.87,1310.47 \n",
       "  \"/>\n",
       "<polyline clip-path=\"url(#clip432)\" style=\"stroke:#000000; stroke-width:4; stroke-opacity:1; fill:none\" points=\"\n",
       "  693.53,784.126 847.692,1156.31 \n",
       "  \"/>\n",
       "<polyline clip-path=\"url(#clip432)\" style=\"stroke:#000000; stroke-width:4; stroke-opacity:1; fill:none\" points=\"\n",
       "  693.53,784.126 1219.87,1310.47 \n",
       "  \"/>\n",
       "<polyline clip-path=\"url(#clip432)\" style=\"stroke:#000000; stroke-width:4; stroke-opacity:1; fill:none\" points=\"\n",
       "  693.53,784.126 1592.06,1156.31 \n",
       "  \"/>\n",
       "<polyline clip-path=\"url(#clip432)\" style=\"stroke:#000000; stroke-width:4; stroke-opacity:1; fill:none\" points=\"\n",
       "  847.692,1156.31 1219.87,1310.47 \n",
       "  \"/>\n",
       "<polyline clip-path=\"url(#clip432)\" style=\"stroke:#000000; stroke-width:4; stroke-opacity:1; fill:none\" points=\"\n",
       "  847.692,1156.31 1592.06,1156.31 \n",
       "  \"/>\n",
       "<polyline clip-path=\"url(#clip432)\" style=\"stroke:#000000; stroke-width:4; stroke-opacity:1; fill:none\" points=\"\n",
       "  1219.87,1310.47 1592.06,1156.31 \n",
       "  \"/>\n",
       "<path clip-path=\"url(#clip432)\" d=\"\n",
       "M1786.01 784.126 L1766.11 749.665 L1726.32 749.665 L1706.43 784.126 L1726.32 818.587 L1766.11 818.587 L1786.01 784.126 L1786.01 784.126  Z\n",
       "  \" fill=\"#009af9\" fill-rule=\"evenodd\" fill-opacity=\"1\"/>\n",
       "<polyline clip-path=\"url(#clip432)\" style=\"stroke:#000000; stroke-width:4; stroke-opacity:1; fill:none\" points=\"\n",
       "  1786.01,784.126 1766.11,749.665 1726.32,749.665 1706.43,784.126 1726.32,818.587 1766.11,818.587 1786.01,784.126 \n",
       "  \"/>\n",
       "<path clip-path=\"url(#clip432)\" d=\"\n",
       "M1631.85 411.944 L1611.95 377.484 L1572.16 377.484 L1552.26 411.944 L1572.16 446.405 L1611.95 446.405 L1631.85 411.944 L1631.85 411.944  Z\n",
       "  \" fill=\"#009af9\" fill-rule=\"evenodd\" fill-opacity=\"1\"/>\n",
       "<polyline clip-path=\"url(#clip432)\" style=\"stroke:#000000; stroke-width:4; stroke-opacity:1; fill:none\" points=\"\n",
       "  1631.85,411.944 1611.95,377.484 1572.16,377.484 1552.26,411.944 1572.16,446.405 1611.95,446.405 1631.85,411.944 \n",
       "  \"/>\n",
       "<path clip-path=\"url(#clip432)\" d=\"\n",
       "M1259.67 257.782 L1239.77 223.321 L1199.98 223.321 L1180.08 257.782 L1199.98 292.242 L1239.77 292.242 L1259.67 257.782 L1259.67 257.782  Z\n",
       "  \" fill=\"#009af9\" fill-rule=\"evenodd\" fill-opacity=\"1\"/>\n",
       "<polyline clip-path=\"url(#clip432)\" style=\"stroke:#000000; stroke-width:4; stroke-opacity:1; fill:none\" points=\"\n",
       "  1259.67,257.782 1239.77,223.321 1199.98,223.321 1180.08,257.782 1199.98,292.242 1239.77,292.242 1259.67,257.782 \n",
       "  \"/>\n",
       "<path clip-path=\"url(#clip432)\" d=\"\n",
       "M887.484 411.944 L867.588 377.484 L827.797 377.484 L807.901 411.944 L827.797 446.405 L867.588 446.405 L887.484 411.944 L887.484 411.944  Z\n",
       "  \" fill=\"#009af9\" fill-rule=\"evenodd\" fill-opacity=\"1\"/>\n",
       "<polyline clip-path=\"url(#clip432)\" style=\"stroke:#000000; stroke-width:4; stroke-opacity:1; fill:none\" points=\"\n",
       "  887.484,411.944 867.588,377.484 827.797,377.484 807.901,411.944 827.797,446.405 867.588,446.405 887.484,411.944 \n",
       "  \"/>\n",
       "<path clip-path=\"url(#clip432)\" d=\"\n",
       "M733.321 784.126 L713.426 749.665 L673.634 749.665 L653.738 784.126 L673.634 818.587 L713.426 818.587 L733.321 784.126 L733.321 784.126  Z\n",
       "  \" fill=\"#009af9\" fill-rule=\"evenodd\" fill-opacity=\"1\"/>\n",
       "<polyline clip-path=\"url(#clip432)\" style=\"stroke:#000000; stroke-width:4; stroke-opacity:1; fill:none\" points=\"\n",
       "  733.321,784.126 713.426,749.665 673.634,749.665 653.738,784.126 673.634,818.587 713.426,818.587 733.321,784.126 \n",
       "  \"/>\n",
       "<path clip-path=\"url(#clip432)\" d=\"\n",
       "M887.484 1156.31 L867.588 1121.85 L827.797 1121.85 L807.901 1156.31 L827.797 1190.77 L867.588 1190.77 L887.484 1156.31 L887.484 1156.31  Z\n",
       "  \" fill=\"#009af9\" fill-rule=\"evenodd\" fill-opacity=\"1\"/>\n",
       "<polyline clip-path=\"url(#clip432)\" style=\"stroke:#000000; stroke-width:4; stroke-opacity:1; fill:none\" points=\"\n",
       "  887.484,1156.31 867.588,1121.85 827.797,1121.85 807.901,1156.31 827.797,1190.77 867.588,1190.77 887.484,1156.31 \n",
       "  \"/>\n",
       "<path clip-path=\"url(#clip432)\" d=\"\n",
       "M1259.67 1310.47 L1239.77 1276.01 L1199.98 1276.01 L1180.08 1310.47 L1199.98 1344.93 L1239.77 1344.93 L1259.67 1310.47 L1259.67 1310.47  Z\n",
       "  \" fill=\"#009af9\" fill-rule=\"evenodd\" fill-opacity=\"1\"/>\n",
       "<polyline clip-path=\"url(#clip432)\" style=\"stroke:#000000; stroke-width:4; stroke-opacity:1; fill:none\" points=\"\n",
       "  1259.67,1310.47 1239.77,1276.01 1199.98,1276.01 1180.08,1310.47 1199.98,1344.93 1239.77,1344.93 1259.67,1310.47 \n",
       "  \"/>\n",
       "<path clip-path=\"url(#clip432)\" d=\"\n",
       "M1631.85 1156.31 L1611.95 1121.85 L1572.16 1121.85 L1552.26 1156.31 L1572.16 1190.77 L1611.95 1190.77 L1631.85 1156.31 L1631.85 1156.31  Z\n",
       "  \" fill=\"#009af9\" fill-rule=\"evenodd\" fill-opacity=\"1\"/>\n",
       "<polyline clip-path=\"url(#clip432)\" style=\"stroke:#000000; stroke-width:4; stroke-opacity:1; fill:none\" points=\"\n",
       "  1631.85,1156.31 1611.95,1121.85 1572.16,1121.85 1552.26,1156.31 1572.16,1190.77 1611.95,1190.77 1631.85,1156.31 \n",
       "  \"/>\n",
       "<circle clip-path=\"url(#clip432)\" style=\"fill:#009af9; stroke:none; fill-opacity:1\" cx=\"1746.22\" cy=\"784.126\" r=\"2\"/>\n",
       "<circle clip-path=\"url(#clip432)\" style=\"fill:#009af9; stroke:none; fill-opacity:1\" cx=\"1592.06\" cy=\"411.944\" r=\"2\"/>\n",
       "<circle clip-path=\"url(#clip432)\" style=\"fill:#009af9; stroke:none; fill-opacity:1\" cx=\"1219.87\" cy=\"257.782\" r=\"2\"/>\n",
       "<circle clip-path=\"url(#clip432)\" style=\"fill:#009af9; stroke:none; fill-opacity:1\" cx=\"847.692\" cy=\"411.944\" r=\"2\"/>\n",
       "<circle clip-path=\"url(#clip432)\" style=\"fill:#009af9; stroke:none; fill-opacity:1\" cx=\"693.53\" cy=\"784.126\" r=\"2\"/>\n",
       "<circle clip-path=\"url(#clip432)\" style=\"fill:#009af9; stroke:none; fill-opacity:1\" cx=\"847.692\" cy=\"1156.31\" r=\"2\"/>\n",
       "<circle clip-path=\"url(#clip432)\" style=\"fill:#009af9; stroke:none; fill-opacity:1\" cx=\"1219.87\" cy=\"1310.47\" r=\"2\"/>\n",
       "<circle clip-path=\"url(#clip432)\" style=\"fill:#009af9; stroke:none; fill-opacity:1\" cx=\"1592.06\" cy=\"1156.31\" r=\"2\"/>\n",
       "<path clip-path=\"url(#clip430)\" d=\"M 0 0 M1737.8 795.803 L1744.49 795.803 L1744.49 772.733 L1737.22 774.191 L1737.22 770.464 L1744.45 769.006 L1748.54 769.006 L1748.54 795.803 L1755.22 795.803 L1755.22 799.246 L1737.8 799.246 L1737.8 795.803 Z\" fill=\"#000000\" fill-rule=\"evenodd\" fill-opacity=\"1\" /><path clip-path=\"url(#clip430)\" d=\"M 0 0 M1587.38 423.621 L1601.66 423.621 L1601.66 427.064 L1582.45 427.064 L1582.45 423.621 Q1584.78 421.211 1588.79 417.16 Q1592.83 413.089 1593.86 411.914 Q1595.82 409.706 1596.59 408.187 Q1597.38 406.648 1597.38 405.169 Q1597.38 402.759 1595.68 401.24 Q1594 399.721 1591.29 399.721 Q1589.36 399.721 1587.21 400.389 Q1585.09 401.058 1582.66 402.415 L1582.66 398.283 Q1585.13 397.29 1587.28 396.784 Q1589.42 396.278 1591.2 396.278 Q1595.9 396.278 1598.7 398.627 Q1601.49 400.977 1601.49 404.906 Q1601.49 406.769 1600.79 408.451 Q1600.1 410.111 1598.25 412.38 Q1597.75 412.967 1595.03 415.783 Q1592.32 418.578 1587.38 423.621 Z\" fill=\"#000000\" fill-rule=\"evenodd\" fill-opacity=\"1\" /><path clip-path=\"url(#clip430)\" d=\"M 0 0 M1223.59 256.597 Q1226.53 257.225 1228.17 259.21 Q1229.83 261.195 1229.83 264.111 Q1229.83 268.588 1226.75 271.038 Q1223.67 273.489 1218 273.489 Q1216.1 273.489 1214.07 273.104 Q1212.07 272.74 1209.92 271.99 L1209.92 268.041 Q1211.62 269.033 1213.65 269.54 Q1215.67 270.046 1217.88 270.046 Q1221.73 270.046 1223.73 268.527 Q1225.76 267.008 1225.76 264.111 Q1225.76 261.438 1223.87 259.939 Q1222.01 258.42 1218.67 258.42 L1215.14 258.42 L1215.14 255.058 L1218.83 255.058 Q1221.85 255.058 1223.45 253.863 Q1225.05 252.647 1225.05 250.379 Q1225.05 248.049 1223.39 246.814 Q1221.75 245.558 1218.67 245.558 Q1216.99 245.558 1215.06 245.923 Q1213.14 246.287 1210.83 247.057 L1210.83 243.411 Q1213.16 242.763 1215.19 242.439 Q1217.23 242.115 1219.03 242.115 Q1223.69 242.115 1226.41 244.242 Q1229.12 246.348 1229.12 249.953 Q1229.12 252.465 1227.68 254.207 Q1226.24 255.928 1223.59 256.597 Z\" fill=\"#000000\" fill-rule=\"evenodd\" fill-opacity=\"1\" /><path clip-path=\"url(#clip430)\" d=\"M 0 0 M850.326 400.389 L839.996 416.532 L850.326 416.532 L850.326 400.389 M849.252 396.824 L854.397 396.824 L854.397 416.532 L858.711 416.532 L858.711 419.935 L854.397 419.935 L854.397 427.064 L850.326 427.064 L850.326 419.935 L836.674 419.935 L836.674 415.985 L849.252 396.824 Z\" fill=\"#000000\" fill-rule=\"evenodd\" fill-opacity=\"1\" /><path clip-path=\"url(#clip430)\" d=\"M 0 0 M685.023 769.006 L701.085 769.006 L701.085 772.449 L688.77 772.449 L688.77 779.862 Q689.661 779.559 690.552 779.417 Q691.444 779.255 692.335 779.255 Q697.398 779.255 700.356 782.03 Q703.313 784.805 703.313 789.544 Q703.313 794.425 700.275 797.14 Q697.236 799.833 691.707 799.833 Q689.803 799.833 687.818 799.509 Q685.853 799.185 683.747 798.537 L683.747 794.425 Q685.57 795.418 687.514 795.904 Q689.459 796.39 691.626 796.39 Q695.13 796.39 697.176 794.547 Q699.221 792.704 699.221 789.544 Q699.221 786.384 697.176 784.541 Q695.13 782.698 691.626 782.698 Q689.985 782.698 688.345 783.063 Q686.724 783.427 685.023 784.197 L685.023 769.006 Z\" fill=\"#000000\" fill-rule=\"evenodd\" fill-opacity=\"1\" /><path clip-path=\"url(#clip430)\" d=\"M 0 0 M848.047 1154.68 Q845.292 1154.68 843.672 1156.56 Q842.072 1158.44 842.072 1161.73 Q842.072 1164.99 843.672 1166.89 Q845.292 1168.77 848.047 1168.77 Q850.802 1168.77 852.402 1166.89 Q854.022 1164.99 854.022 1161.73 Q854.022 1158.44 852.402 1156.56 Q850.802 1154.68 848.047 1154.68 M856.169 1141.86 L856.169 1145.58 Q854.63 1144.85 853.05 1144.47 Q851.49 1144.08 849.951 1144.08 Q845.9 1144.08 843.753 1146.82 Q841.626 1149.55 841.322 1155.08 Q842.517 1153.32 844.32 1152.39 Q846.123 1151.44 848.29 1151.44 Q852.847 1151.44 855.48 1154.21 Q858.134 1156.97 858.134 1161.73 Q858.134 1166.38 855.379 1169.2 Q852.624 1172.01 848.047 1172.01 Q842.801 1172.01 840.026 1168 Q837.251 1163.97 837.251 1156.34 Q837.251 1149.17 840.654 1144.91 Q844.057 1140.64 849.789 1140.64 Q851.328 1140.64 852.888 1140.94 Q854.468 1141.25 856.169 1141.86 Z\" fill=\"#000000\" fill-rule=\"evenodd\" fill-opacity=\"1\" /><path clip-path=\"url(#clip430)\" d=\"M 0 0 M1210.15 1295.35 L1229.6 1295.35 L1229.6 1297.09 L1218.62 1325.59 L1214.34 1325.59 L1224.67 1298.79 L1210.15 1298.79 L1210.15 1295.35 Z\" fill=\"#000000\" fill-rule=\"evenodd\" fill-opacity=\"1\" /><path clip-path=\"url(#clip430)\" d=\"M 0 0 M1592.06 1157.07 Q1589.14 1157.07 1587.46 1158.63 Q1585.8 1160.19 1585.8 1162.92 Q1585.8 1165.66 1587.46 1167.21 Q1589.14 1168.77 1592.06 1168.77 Q1594.97 1168.77 1596.65 1167.21 Q1598.33 1165.63 1598.33 1162.92 Q1598.33 1160.19 1596.65 1158.63 Q1594.99 1157.07 1592.06 1157.07 M1587.96 1155.33 Q1585.33 1154.68 1583.85 1152.87 Q1582.39 1151.07 1582.39 1148.48 Q1582.39 1144.85 1584.97 1142.75 Q1587.56 1140.64 1592.06 1140.64 Q1596.57 1140.64 1599.14 1142.75 Q1601.72 1144.85 1601.72 1148.48 Q1601.72 1151.07 1600.24 1152.87 Q1598.78 1154.68 1596.17 1155.33 Q1599.12 1156.01 1600.77 1158.02 Q1602.43 1160.02 1602.43 1162.92 Q1602.43 1167.32 1599.73 1169.67 Q1597.06 1172.01 1592.06 1172.01 Q1587.05 1172.01 1584.36 1169.67 Q1581.69 1167.32 1581.69 1162.92 Q1581.69 1160.02 1583.35 1158.02 Q1585.01 1156.01 1587.96 1155.33 M1586.47 1148.86 Q1586.47 1151.21 1587.92 1152.53 Q1589.4 1153.85 1592.06 1153.85 Q1594.69 1153.85 1596.17 1152.53 Q1597.67 1151.21 1597.67 1148.86 Q1597.67 1146.51 1596.17 1145.2 Q1594.69 1143.88 1592.06 1143.88 Q1589.4 1143.88 1587.92 1145.2 Q1586.47 1146.51 1586.47 1148.86 Z\" fill=\"#000000\" fill-rule=\"evenodd\" fill-opacity=\"1\" /></svg>\n"
      ]
     },
     "execution_count": 9,
     "metadata": {},
     "output_type": "execute_result"
    }
   ],
   "source": [
    "N, m = 8, 3\n",
    "G = SimpleGraph(N)\n",
    "circle_graph!(G, m)\n",
    "A = adjacency_matrix(G)\n",
    "graphplot(G, curves=false, method=:circular, names=1:N, markersize=0.2)"
   ]
  },
  {
   "cell_type": "code",
   "execution_count": 27,
   "metadata": {},
   "outputs": [
    {
     "data": {
      "text/plain": [
       "15"
      ]
     },
     "execution_count": 27,
     "metadata": {},
     "output_type": "execute_result"
    }
   ],
   "source": [
    "# Number of triads\n",
    "m * (2m-1)"
   ]
  },
  {
   "cell_type": "code",
   "execution_count": 23,
   "metadata": {},
   "outputs": [
    {
     "data": {
      "text/plain": [
       "0.46875"
      ]
     },
     "execution_count": 23,
     "metadata": {},
     "output_type": "execute_result"
    }
   ],
   "source": [
    "6binomial(2m, 2) / tr(A ^ 3) "
   ]
  },
  {
   "cell_type": "code",
   "execution_count": 35,
   "metadata": {},
   "outputs": [
    {
     "data": {
      "text/plain": [
       "6.4"
      ]
     },
     "execution_count": 35,
     "metadata": {},
     "output_type": "execute_result"
    }
   ],
   "source": [
    "3tr(A ^ 3) / 6binomial(2m, 2)"
   ]
  },
  {
   "cell_type": "code",
   "execution_count": 39,
   "metadata": {},
   "outputs": [
    {
     "data": {
      "text/plain": [
       "8-element SparseArrays.SparseVector{Float64,Int64} with 8 stored entries:\n",
       "  [1]  =  12.0\n",
       "  [2]  =  12.0\n",
       "  [3]  =  12.0\n",
       "  [4]  =  12.0\n",
       "  [5]  =  12.0\n",
       "  [6]  =  12.0\n",
       "  [7]  =  12.0\n",
       "  [8]  =  12.0"
      ]
     },
     "execution_count": 39,
     "metadata": {},
     "output_type": "execute_result"
    }
   ],
   "source": [
    "diag(A ^ 3) / 2"
   ]
  },
  {
   "cell_type": "code",
   "execution_count": 45,
   "metadata": {},
   "outputs": [
    {
     "data": {
      "text/plain": [
       "6"
      ]
     },
     "execution_count": 45,
     "metadata": {},
     "output_type": "execute_result"
    }
   ],
   "source": [
    "2m"
   ]
  },
  {
   "cell_type": "code",
   "execution_count": 46,
   "metadata": {},
   "outputs": [
    {
     "data": {
      "text/plain": [
       "8-element SparseArrays.SparseVector{Float64,Int64} with 8 stored entries:\n",
       "  [1]  =  0.8\n",
       "  [2]  =  0.8\n",
       "  [3]  =  0.8\n",
       "  [4]  =  0.8\n",
       "  [5]  =  0.8\n",
       "  [6]  =  0.8\n",
       "  [7]  =  0.8\n",
       "  [8]  =  0.8"
      ]
     },
     "execution_count": 46,
     "metadata": {},
     "output_type": "execute_result"
    }
   ],
   "source": [
    "diag(A ^ 3) ./ (2m * (2m - 1))"
   ]
  },
  {
   "cell_type": "code",
   "execution_count": 52,
   "metadata": {},
   "outputs": [
    {
     "data": {
      "text/plain": [
       "0.6"
      ]
     },
     "execution_count": 52,
     "metadata": {},
     "output_type": "execute_result"
    }
   ],
   "source": [
    "3(m - 1) / 2(2m - 1)"
   ]
  },
  {
   "cell_type": "code",
   "execution_count": 28,
   "metadata": {},
   "outputs": [
    {
     "data": {
      "text/plain": [
       "15"
      ]
     },
     "execution_count": 28,
     "metadata": {},
     "output_type": "execute_result"
    }
   ],
   "source": [
    "n_triads = binomial(2m, 2)"
   ]
  },
  {
   "cell_type": "code",
   "execution_count": 11,
   "metadata": {},
   "outputs": [
    {
     "data": {
      "text/plain": [
       "15"
      ]
     },
     "execution_count": 11,
     "metadata": {},
     "output_type": "execute_result"
    }
   ],
   "source": [
    "binomial(2m, 2)"
   ]
  },
  {
   "cell_type": "code",
   "execution_count": 12,
   "metadata": {},
   "outputs": [
    {
     "data": {
      "text/plain": [
       "3"
      ]
     },
     "execution_count": 12,
     "metadata": {},
     "output_type": "execute_result"
    }
   ],
   "source": [
    "m"
   ]
  },
  {
   "cell_type": "code",
   "execution_count": 13,
   "metadata": {},
   "outputs": [
    {
     "data": {
      "text/plain": [
       "9.0"
      ]
     },
     "execution_count": 13,
     "metadata": {},
     "output_type": "execute_result"
    }
   ],
   "source": [
    "3m * (m - 1) / 2"
   ]
  },
  {
   "cell_type": "code",
   "execution_count": 14,
   "metadata": {},
   "outputs": [
    {
     "data": {
      "text/plain": [
       "8×8 Array{Int64,2}:\n",
       " 0  1  1  1  0  1  1  1\n",
       " 1  0  1  1  1  0  1  1\n",
       " 1  1  0  1  1  1  0  1\n",
       " 1  1  1  0  1  1  1  0\n",
       " 0  1  1  1  0  1  1  1\n",
       " 1  0  1  1  1  0  1  1\n",
       " 1  1  0  1  1  1  0  1\n",
       " 1  1  1  0  1  1  1  0"
      ]
     },
     "execution_count": 14,
     "metadata": {},
     "output_type": "execute_result"
    }
   ],
   "source": [
    "Matrix(A)"
   ]
  },
  {
   "cell_type": "code",
   "execution_count": 16,
   "metadata": {},
   "outputs": [
    {
     "data": {
      "text/plain": [
       "0.8"
      ]
     },
     "execution_count": 16,
     "metadata": {},
     "output_type": "execute_result"
    }
   ],
   "source": [
    "global_clustering_coefficient(G)"
   ]
  },
  {
   "cell_type": "code",
   "execution_count": 17,
   "metadata": {},
   "outputs": [
    {
     "data": {
      "text/plain": [
       "8-element Array{Int64,1}:\n",
       " 6\n",
       " 6\n",
       " 6\n",
       " 6\n",
       " 6\n",
       " 6\n",
       " 6\n",
       " 6"
      ]
     },
     "execution_count": 17,
     "metadata": {},
     "output_type": "execute_result"
    }
   ],
   "source": [
    "degree(G)"
   ]
  },
  {
   "cell_type": "code",
   "execution_count": 18,
   "metadata": {},
   "outputs": [
    {
     "data": {
      "text/plain": [
       "0.6"
      ]
     },
     "execution_count": 18,
     "metadata": {},
     "output_type": "execute_result"
    }
   ],
   "source": [
    "(3 * (m - 1)) / (2 * (2m - 1))"
   ]
  },
  {
   "cell_type": "code",
   "execution_count": 24,
   "metadata": {},
   "outputs": [
    {
     "data": {
      "text/plain": [
       "9"
      ]
     },
     "execution_count": 24,
     "metadata": {},
     "output_type": "execute_result"
    }
   ],
   "source": [
    "3 * binomial(m, 2)"
   ]
  },
  {
   "cell_type": "code",
   "execution_count": 58,
   "metadata": {},
   "outputs": [
    {
     "data": {
      "text/plain": [
       "18.0"
      ]
     },
     "execution_count": 58,
     "metadata": {},
     "output_type": "execute_result"
    }
   ],
   "source": [
    "3/2 * m * (m - 1)"
   ]
  },
  {
   "cell_type": "code",
   "execution_count": 59,
   "metadata": {},
   "outputs": [
    {
     "data": {
      "text/plain": [
       "12-element SparseArrays.SparseVector{Float64,Int64} with 12 stored entries:\n",
       "  [1 ]  =  9.0\n",
       "  [2 ]  =  9.0\n",
       "  [3 ]  =  9.0\n",
       "  [4 ]  =  9.0\n",
       "  [5 ]  =  9.0\n",
       "  [6 ]  =  9.0\n",
       "  [7 ]  =  9.0\n",
       "  [8 ]  =  9.0\n",
       "  [9 ]  =  9.0\n",
       "  [10]  =  9.0\n",
       "  [11]  =  9.0\n",
       "  [12]  =  9.0"
      ]
     },
     "execution_count": 59,
     "metadata": {},
     "output_type": "execute_result"
    }
   ],
   "source": [
    "diag(A ^ 3) / 2"
   ]
  },
  {
   "cell_type": "code",
   "execution_count": 289,
   "metadata": {},
   "outputs": [
    {
     "data": {
      "text/plain": [
       "6-element SparseArrays.SparseVector{Float64,Int64} with 6 stored entries:\n",
       "  [1]  =  0.666667\n",
       "  [2]  =  0.666667\n",
       "  [3]  =  0.666667\n",
       "  [4]  =  0.666667\n",
       "  [5]  =  0.666667\n",
       "  [6]  =  0.666667"
      ]
     },
     "execution_count": 289,
     "metadata": {},
     "output_type": "execute_result"
    }
   ],
   "source": [
    "(diag(A ^ 3) / 2) ./ n_triads"
   ]
  },
  {
   "cell_type": "code",
   "execution_count": 275,
   "metadata": {},
   "outputs": [
    {
     "data": {
      "text/plain": [
       "0.5"
      ]
     },
     "execution_count": 275,
     "metadata": {},
     "output_type": "execute_result"
    }
   ],
   "source": [
    "3(m - 1) / 2(2m - 1)"
   ]
  },
  {
   "cell_type": "code",
   "execution_count": 163,
   "metadata": {},
   "outputs": [
    {
     "data": {
      "text/plain": [
       "6×1 Array{Int64,2}:\n",
       " 12\n",
       " 12\n",
       " 12\n",
       " 12\n",
       " 12\n",
       " 12"
      ]
     },
     "execution_count": 163,
     "metadata": {},
     "output_type": "execute_result"
    }
   ],
   "source": [
    "sum(A, dims=2) .* (sum(A, dims=2) .- 1)"
   ]
  },
  {
   "cell_type": "code",
   "execution_count": 159,
   "metadata": {},
   "outputs": [
    {
     "data": {
      "text/plain": [
       "6-element Array{Int64,1}:\n",
       " 12\n",
       " 12\n",
       " 12\n",
       " 12\n",
       " 12\n",
       " 12"
      ]
     },
     "execution_count": 159,
     "metadata": {},
     "output_type": "execute_result"
    }
   ],
   "source": [
    "degree(G) .* (degree(G) .- 1)"
   ]
  },
  {
   "cell_type": "code",
   "execution_count": 160,
   "metadata": {},
   "outputs": [
    {
     "data": {
      "text/plain": [
       "6-element Array{Float64,1}:\n",
       " 0.3333333333333333\n",
       " 0.3333333333333333\n",
       " 0.3333333333333333\n",
       " 0.3333333333333333\n",
       " 0.3333333333333333\n",
       " 0.3333333333333333"
      ]
     },
     "execution_count": 160,
     "metadata": {},
     "output_type": "execute_result"
    }
   ],
   "source": [
    "local_clustering_coefficient(G) / 2"
   ]
  },
  {
   "cell_type": "markdown",
   "metadata": {},
   "source": [
    "## 3) Watts-Strogatz model\n",
    "\n",
    "Start with a $(N,m)$ circle graph. A $(N, m, p)$ Watts-Strogatz grapg is constructed by considering each of the links of the circle graph and independently rewriting each of the with some probability $p$"
   ]
  },
  {
   "cell_type": "code",
   "execution_count": 24,
   "metadata": {},
   "outputs": [
    {
     "data": {
      "text/plain": [
       "{8, 24} undirected simple Int64 graph"
      ]
     },
     "execution_count": 24,
     "metadata": {},
     "output_type": "execute_result"
    }
   ],
   "source": [
    "N = 8\n",
    "m = 4\n",
    "G = SimpleGraph(N)\n",
    "G = circle_graph!(G, m)"
   ]
  },
  {
   "cell_type": "code",
   "execution_count": 26,
   "metadata": {},
   "outputs": [
    {
     "data": {
      "image/svg+xml": [
       "<?xml version=\"1.0\" encoding=\"utf-8\"?>\n",
       "<svg xmlns=\"http://www.w3.org/2000/svg\" xmlns:xlink=\"http://www.w3.org/1999/xlink\" width=\"600\" height=\"400\" viewBox=\"0 0 2400 1600\">\n",
       "<defs>\n",
       "  <clipPath id=\"clip360\">\n",
       "    <rect x=\"0\" y=\"0\" width=\"2400\" height=\"1600\"/>\n",
       "  </clipPath>\n",
       "</defs>\n",
       "<path clip-path=\"url(#clip360)\" d=\"\n",
       "M0 1600 L2400 1600 L2400 0 L0 0  Z\n",
       "  \" fill=\"#ffffff\" fill-rule=\"evenodd\" fill-opacity=\"1\"/>\n",
       "<defs>\n",
       "  <clipPath id=\"clip361\">\n",
       "    <rect x=\"480\" y=\"0\" width=\"1681\" height=\"1600\"/>\n",
       "  </clipPath>\n",
       "</defs>\n",
       "<path clip-path=\"url(#clip360)\" d=\"\n",
       "M482.992 1521.01 L1956.76 1521.01 L1956.76 47.2441 L482.992 47.2441  Z\n",
       "  \" fill=\"#ffffff\" fill-rule=\"evenodd\" fill-opacity=\"1\"/>\n",
       "<defs>\n",
       "  <clipPath id=\"clip362\">\n",
       "    <rect x=\"482\" y=\"47\" width=\"1475\" height=\"1475\"/>\n",
       "  </clipPath>\n",
       "</defs>\n",
       "<polyline clip-path=\"url(#clip362)\" style=\"stroke:#000000; stroke-width:4; stroke-opacity:1; fill:none\" points=\"\n",
       "  1746.22,784.126 1592.06,411.944 \n",
       "  \"/>\n",
       "<polyline clip-path=\"url(#clip362)\" style=\"stroke:#000000; stroke-width:4; stroke-opacity:1; fill:none\" points=\"\n",
       "  1746.22,784.126 1219.87,257.782 \n",
       "  \"/>\n",
       "<polyline clip-path=\"url(#clip362)\" style=\"stroke:#000000; stroke-width:4; stroke-opacity:1; fill:none\" points=\"\n",
       "  1746.22,784.126 847.692,411.944 \n",
       "  \"/>\n",
       "<polyline clip-path=\"url(#clip362)\" style=\"stroke:#000000; stroke-width:4; stroke-opacity:1; fill:none\" points=\"\n",
       "  1746.22,784.126 847.692,1156.31 \n",
       "  \"/>\n",
       "<polyline clip-path=\"url(#clip362)\" style=\"stroke:#000000; stroke-width:4; stroke-opacity:1; fill:none\" points=\"\n",
       "  1746.22,784.126 1219.87,1310.47 \n",
       "  \"/>\n",
       "<polyline clip-path=\"url(#clip362)\" style=\"stroke:#000000; stroke-width:4; stroke-opacity:1; fill:none\" points=\"\n",
       "  1746.22,784.126 1592.06,1156.31 \n",
       "  \"/>\n",
       "<polyline clip-path=\"url(#clip362)\" style=\"stroke:#000000; stroke-width:4; stroke-opacity:1; fill:none\" points=\"\n",
       "  1592.06,411.944 1219.87,257.782 \n",
       "  \"/>\n",
       "<polyline clip-path=\"url(#clip362)\" style=\"stroke:#000000; stroke-width:4; stroke-opacity:1; fill:none\" points=\"\n",
       "  1592.06,411.944 847.692,411.944 \n",
       "  \"/>\n",
       "<polyline clip-path=\"url(#clip362)\" style=\"stroke:#000000; stroke-width:4; stroke-opacity:1; fill:none\" points=\"\n",
       "  1592.06,411.944 693.53,784.126 \n",
       "  \"/>\n",
       "<polyline clip-path=\"url(#clip362)\" style=\"stroke:#000000; stroke-width:4; stroke-opacity:1; fill:none\" points=\"\n",
       "  1592.06,411.944 1219.87,1310.47 \n",
       "  \"/>\n",
       "<polyline clip-path=\"url(#clip362)\" style=\"stroke:#000000; stroke-width:4; stroke-opacity:1; fill:none\" points=\"\n",
       "  1592.06,411.944 1592.06,1156.31 \n",
       "  \"/>\n",
       "<polyline clip-path=\"url(#clip362)\" style=\"stroke:#000000; stroke-width:4; stroke-opacity:1; fill:none\" points=\"\n",
       "  1219.87,257.782 847.692,411.944 \n",
       "  \"/>\n",
       "<polyline clip-path=\"url(#clip362)\" style=\"stroke:#000000; stroke-width:4; stroke-opacity:1; fill:none\" points=\"\n",
       "  1219.87,257.782 693.53,784.126 \n",
       "  \"/>\n",
       "<polyline clip-path=\"url(#clip362)\" style=\"stroke:#000000; stroke-width:4; stroke-opacity:1; fill:none\" points=\"\n",
       "  1219.87,257.782 847.692,1156.31 \n",
       "  \"/>\n",
       "<polyline clip-path=\"url(#clip362)\" style=\"stroke:#000000; stroke-width:4; stroke-opacity:1; fill:none\" points=\"\n",
       "  1219.87,257.782 1592.06,1156.31 \n",
       "  \"/>\n",
       "<polyline clip-path=\"url(#clip362)\" style=\"stroke:#000000; stroke-width:4; stroke-opacity:1; fill:none\" points=\"\n",
       "  847.692,411.944 693.53,784.126 \n",
       "  \"/>\n",
       "<polyline clip-path=\"url(#clip362)\" style=\"stroke:#000000; stroke-width:4; stroke-opacity:1; fill:none\" points=\"\n",
       "  847.692,411.944 847.692,1156.31 \n",
       "  \"/>\n",
       "<polyline clip-path=\"url(#clip362)\" style=\"stroke:#000000; stroke-width:4; stroke-opacity:1; fill:none\" points=\"\n",
       "  847.692,411.944 1219.87,1310.47 \n",
       "  \"/>\n",
       "<polyline clip-path=\"url(#clip362)\" style=\"stroke:#000000; stroke-width:4; stroke-opacity:1; fill:none\" points=\"\n",
       "  693.53,784.126 847.692,1156.31 \n",
       "  \"/>\n",
       "<polyline clip-path=\"url(#clip362)\" style=\"stroke:#000000; stroke-width:4; stroke-opacity:1; fill:none\" points=\"\n",
       "  693.53,784.126 1219.87,1310.47 \n",
       "  \"/>\n",
       "<polyline clip-path=\"url(#clip362)\" style=\"stroke:#000000; stroke-width:4; stroke-opacity:1; fill:none\" points=\"\n",
       "  693.53,784.126 1592.06,1156.31 \n",
       "  \"/>\n",
       "<polyline clip-path=\"url(#clip362)\" style=\"stroke:#000000; stroke-width:4; stroke-opacity:1; fill:none\" points=\"\n",
       "  847.692,1156.31 1219.87,1310.47 \n",
       "  \"/>\n",
       "<polyline clip-path=\"url(#clip362)\" style=\"stroke:#000000; stroke-width:4; stroke-opacity:1; fill:none\" points=\"\n",
       "  847.692,1156.31 1592.06,1156.31 \n",
       "  \"/>\n",
       "<polyline clip-path=\"url(#clip362)\" style=\"stroke:#000000; stroke-width:4; stroke-opacity:1; fill:none\" points=\"\n",
       "  1219.87,1310.47 1592.06,1156.31 \n",
       "  \"/>\n",
       "<path clip-path=\"url(#clip362)\" d=\"\n",
       "M1803.06 784.126 L1774.64 734.897 L1717.8 734.897 L1689.37 784.126 L1717.8 833.355 L1774.64 833.355 L1803.06 784.126 L1803.06 784.126  Z\n",
       "  \" fill=\"#009af9\" fill-rule=\"evenodd\" fill-opacity=\"1\"/>\n",
       "<polyline clip-path=\"url(#clip362)\" style=\"stroke:#000000; stroke-width:4; stroke-opacity:1; fill:none\" points=\"\n",
       "  1803.06,784.126 1774.64,734.897 1717.8,734.897 1689.37,784.126 1717.8,833.355 1774.64,833.355 1803.06,784.126 \n",
       "  \"/>\n",
       "<path clip-path=\"url(#clip362)\" d=\"\n",
       "M1648.9 411.944 L1620.48 362.715 L1563.63 362.715 L1535.21 411.944 L1563.63 461.174 L1620.48 461.174 L1648.9 411.944 L1648.9 411.944  Z\n",
       "  \" fill=\"#009af9\" fill-rule=\"evenodd\" fill-opacity=\"1\"/>\n",
       "<polyline clip-path=\"url(#clip362)\" style=\"stroke:#000000; stroke-width:4; stroke-opacity:1; fill:none\" points=\"\n",
       "  1648.9,411.944 1620.48,362.715 1563.63,362.715 1535.21,411.944 1563.63,461.174 1620.48,461.174 1648.9,411.944 \n",
       "  \"/>\n",
       "<path clip-path=\"url(#clip362)\" d=\"\n",
       "M1276.72 257.782 L1248.3 208.552 L1191.45 208.552 L1163.03 257.782 L1191.45 307.011 L1248.3 307.011 L1276.72 257.782 L1276.72 257.782  Z\n",
       "  \" fill=\"#009af9\" fill-rule=\"evenodd\" fill-opacity=\"1\"/>\n",
       "<polyline clip-path=\"url(#clip362)\" style=\"stroke:#000000; stroke-width:4; stroke-opacity:1; fill:none\" points=\"\n",
       "  1276.72,257.782 1248.3,208.552 1191.45,208.552 1163.03,257.782 1191.45,307.011 1248.3,307.011 1276.72,257.782 \n",
       "  \"/>\n",
       "<path clip-path=\"url(#clip362)\" d=\"\n",
       "M904.538 411.944 L876.115 362.715 L819.27 362.715 L790.847 411.944 L819.27 461.174 L876.115 461.174 L904.538 411.944 L904.538 411.944  Z\n",
       "  \" fill=\"#009af9\" fill-rule=\"evenodd\" fill-opacity=\"1\"/>\n",
       "<polyline clip-path=\"url(#clip362)\" style=\"stroke:#000000; stroke-width:4; stroke-opacity:1; fill:none\" points=\"\n",
       "  904.538,411.944 876.115,362.715 819.27,362.715 790.847,411.944 819.27,461.174 876.115,461.174 904.538,411.944 \n",
       "  \"/>\n",
       "<path clip-path=\"url(#clip362)\" d=\"\n",
       "M750.375 784.126 L721.952 734.897 L665.107 734.897 L636.685 784.126 L665.107 833.355 L721.952 833.355 L750.375 784.126 L750.375 784.126  Z\n",
       "  \" fill=\"#009af9\" fill-rule=\"evenodd\" fill-opacity=\"1\"/>\n",
       "<polyline clip-path=\"url(#clip362)\" style=\"stroke:#000000; stroke-width:4; stroke-opacity:1; fill:none\" points=\"\n",
       "  750.375,784.126 721.952,734.897 665.107,734.897 636.685,784.126 665.107,833.355 721.952,833.355 750.375,784.126 750.375,784.126 \n",
       "  \"/>\n",
       "<path clip-path=\"url(#clip362)\" d=\"\n",
       "M904.538 1156.31 L876.115 1107.08 L819.27 1107.08 L790.847 1156.31 L819.27 1205.54 L876.115 1205.54 L904.538 1156.31 L904.538 1156.31  Z\n",
       "  \" fill=\"#009af9\" fill-rule=\"evenodd\" fill-opacity=\"1\"/>\n",
       "<polyline clip-path=\"url(#clip362)\" style=\"stroke:#000000; stroke-width:4; stroke-opacity:1; fill:none\" points=\"\n",
       "  904.538,1156.31 876.115,1107.08 819.27,1107.08 790.847,1156.31 819.27,1205.54 876.115,1205.54 904.538,1156.31 \n",
       "  \"/>\n",
       "<path clip-path=\"url(#clip362)\" d=\"\n",
       "M1276.72 1310.47 L1248.3 1261.24 L1191.45 1261.24 L1163.03 1310.47 L1191.45 1359.7 L1248.3 1359.7 L1276.72 1310.47 L1276.72 1310.47  Z\n",
       "  \" fill=\"#009af9\" fill-rule=\"evenodd\" fill-opacity=\"1\"/>\n",
       "<polyline clip-path=\"url(#clip362)\" style=\"stroke:#000000; stroke-width:4; stroke-opacity:1; fill:none\" points=\"\n",
       "  1276.72,1310.47 1248.3,1261.24 1191.45,1261.24 1163.03,1310.47 1191.45,1359.7 1248.3,1359.7 1276.72,1310.47 \n",
       "  \"/>\n",
       "<path clip-path=\"url(#clip362)\" d=\"\n",
       "M1648.9 1156.31 L1620.48 1107.08 L1563.63 1107.08 L1535.21 1156.31 L1563.63 1205.54 L1620.48 1205.54 L1648.9 1156.31 L1648.9 1156.31  Z\n",
       "  \" fill=\"#009af9\" fill-rule=\"evenodd\" fill-opacity=\"1\"/>\n",
       "<polyline clip-path=\"url(#clip362)\" style=\"stroke:#000000; stroke-width:4; stroke-opacity:1; fill:none\" points=\"\n",
       "  1648.9,1156.31 1620.48,1107.08 1563.63,1107.08 1535.21,1156.31 1563.63,1205.54 1620.48,1205.54 1648.9,1156.31 \n",
       "  \"/>\n",
       "<circle clip-path=\"url(#clip362)\" style=\"fill:#009af9; stroke:none; fill-opacity:1\" cx=\"1746.22\" cy=\"784.126\" r=\"2\"/>\n",
       "<circle clip-path=\"url(#clip362)\" style=\"fill:#009af9; stroke:none; fill-opacity:1\" cx=\"1592.06\" cy=\"411.944\" r=\"2\"/>\n",
       "<circle clip-path=\"url(#clip362)\" style=\"fill:#009af9; stroke:none; fill-opacity:1\" cx=\"1219.87\" cy=\"257.782\" r=\"2\"/>\n",
       "<circle clip-path=\"url(#clip362)\" style=\"fill:#009af9; stroke:none; fill-opacity:1\" cx=\"847.692\" cy=\"411.944\" r=\"2\"/>\n",
       "<circle clip-path=\"url(#clip362)\" style=\"fill:#009af9; stroke:none; fill-opacity:1\" cx=\"693.53\" cy=\"784.126\" r=\"2\"/>\n",
       "<circle clip-path=\"url(#clip362)\" style=\"fill:#009af9; stroke:none; fill-opacity:1\" cx=\"847.692\" cy=\"1156.31\" r=\"2\"/>\n",
       "<circle clip-path=\"url(#clip362)\" style=\"fill:#009af9; stroke:none; fill-opacity:1\" cx=\"1219.87\" cy=\"1310.47\" r=\"2\"/>\n",
       "<circle clip-path=\"url(#clip362)\" style=\"fill:#009af9; stroke:none; fill-opacity:1\" cx=\"1592.06\" cy=\"1156.31\" r=\"2\"/>\n",
       "<path clip-path=\"url(#clip360)\" d=\"M 0 0 M1734.2 800.807 L1743.74 800.807 L1743.74 767.85 L1733.36 769.933 L1733.36 764.609 L1743.69 762.526 L1749.53 762.526 L1749.53 800.807 L1759.08 800.807 L1759.08 805.726 L1734.2 805.726 L1734.2 800.807 Z\" fill=\"#000000\" fill-rule=\"evenodd\" fill-opacity=\"1\" /><path clip-path=\"url(#clip360)\" d=\"M 0 0 M1585.37 428.625 L1605.77 428.625 L1605.77 433.544 L1578.34 433.544 L1578.34 428.625 Q1581.67 425.182 1587.4 419.395 Q1593.16 413.579 1594.63 411.901 Q1597.44 408.747 1598.54 406.577 Q1599.67 404.378 1599.67 402.266 Q1599.67 398.822 1597.23 396.652 Q1594.83 394.482 1590.96 394.482 Q1588.21 394.482 1585.14 395.437 Q1582.1 396.392 1578.63 398.33 L1578.63 392.428 Q1582.16 391.01 1585.23 390.287 Q1588.29 389.563 1590.84 389.563 Q1597.55 389.563 1601.55 392.92 Q1605.54 396.276 1605.54 401.89 Q1605.54 404.552 1604.53 406.953 Q1603.54 409.326 1600.91 412.567 Q1600.19 413.406 1596.31 417.428 Q1592.43 421.421 1585.37 428.625 Z\" fill=\"#000000\" fill-rule=\"evenodd\" fill-opacity=\"1\" /><path clip-path=\"url(#clip360)\" d=\"M 0 0 M1225.18 256.089 Q1229.38 256.986 1231.72 259.822 Q1234.1 262.657 1234.1 266.824 Q1234.1 273.219 1229.7 276.72 Q1225.3 280.221 1217.2 280.221 Q1214.48 280.221 1211.58 279.671 Q1208.72 279.15 1205.65 278.08 L1205.65 272.437 Q1208.08 273.855 1210.98 274.579 Q1213.87 275.302 1217.02 275.302 Q1222.52 275.302 1225.39 273.132 Q1228.28 270.962 1228.28 266.824 Q1228.28 263.005 1225.59 260.863 Q1222.93 258.693 1218.15 258.693 L1213.12 258.693 L1213.12 253.89 L1218.38 253.89 Q1222.7 253.89 1224.98 252.183 Q1227.27 250.447 1227.27 247.206 Q1227.27 243.878 1224.89 242.113 Q1222.55 240.319 1218.15 240.319 Q1215.75 240.319 1213 240.84 Q1210.25 241.361 1206.95 242.461 L1206.95 237.252 Q1210.28 236.326 1213.18 235.863 Q1216.1 235.401 1218.67 235.401 Q1225.33 235.401 1229.21 238.439 Q1233.08 241.448 1233.08 246.598 Q1233.08 250.186 1231.03 252.675 Q1228.97 255.134 1225.18 256.089 Z\" fill=\"#000000\" fill-rule=\"evenodd\" fill-opacity=\"1\" /><path clip-path=\"url(#clip360)\" d=\"M 0 0 M851.454 395.437 L836.697 418.498 L851.454 418.498 L851.454 395.437 M849.92 390.344 L857.27 390.344 L857.27 418.498 L863.433 418.498 L863.433 423.359 L857.27 423.359 L857.27 433.544 L851.454 433.544 L851.454 423.359 L831.952 423.359 L831.952 417.717 L849.92 390.344 Z\" fill=\"#000000\" fill-rule=\"evenodd\" fill-opacity=\"1\" /><path clip-path=\"url(#clip360)\" d=\"M 0 0 M681.377 762.526 L704.323 762.526 L704.323 767.445 L686.73 767.445 L686.73 778.035 Q688.003 777.601 689.276 777.399 Q690.55 777.167 691.823 777.167 Q699.056 777.167 703.281 781.131 Q707.505 785.095 707.505 791.866 Q707.505 798.839 703.165 802.717 Q698.825 806.565 690.926 806.565 Q688.206 806.565 685.37 806.102 Q682.563 805.639 679.554 804.713 L679.554 798.839 Q682.158 800.257 684.936 800.952 Q687.714 801.646 690.81 801.646 Q695.816 801.646 698.738 799.013 Q701.661 796.38 701.661 791.866 Q701.661 787.352 698.738 784.719 Q695.816 782.086 690.81 782.086 Q688.466 782.086 686.122 782.607 Q683.808 783.128 681.377 784.227 L681.377 762.526 Z\" fill=\"#000000\" fill-rule=\"evenodd\" fill-opacity=\"1\" /><path clip-path=\"url(#clip360)\" d=\"M 0 0 M848.199 1153.98 Q844.264 1153.98 841.949 1156.67 Q839.663 1159.36 839.663 1164.05 Q839.663 1168.71 841.949 1171.43 Q844.264 1174.12 848.199 1174.12 Q852.134 1174.12 854.42 1171.43 Q856.735 1168.71 856.735 1164.05 Q856.735 1159.36 854.42 1156.67 Q852.134 1153.98 848.199 1153.98 M859.802 1135.66 L859.802 1140.99 Q857.603 1139.94 855.346 1139.4 Q853.118 1138.85 850.919 1138.85 Q845.132 1138.85 842.065 1142.75 Q839.026 1146.66 838.592 1154.56 Q840.3 1152.04 842.875 1150.71 Q845.45 1149.35 848.546 1149.35 Q855.056 1149.35 858.818 1153.31 Q862.608 1157.25 862.608 1164.05 Q862.608 1170.7 858.673 1174.72 Q854.738 1178.75 848.199 1178.75 Q840.705 1178.75 836.741 1173.02 Q832.776 1167.26 832.776 1156.35 Q832.776 1146.11 837.638 1140.03 Q842.499 1133.93 850.687 1133.93 Q852.886 1133.93 855.114 1134.36 Q857.371 1134.79 859.802 1135.66 Z\" fill=\"#000000\" fill-rule=\"evenodd\" fill-opacity=\"1\" /><path clip-path=\"url(#clip360)\" d=\"M 0 0 M1205.99 1288.87 L1233.76 1288.87 L1233.76 1291.36 L1218.08 1332.07 L1211.97 1332.07 L1226.73 1293.79 L1205.99 1293.79 L1205.99 1288.87 Z\" fill=\"#000000\" fill-rule=\"evenodd\" fill-opacity=\"1\" /><path clip-path=\"url(#clip360)\" d=\"M 0 0 M1592.06 1157.39 Q1587.89 1157.39 1585.49 1159.62 Q1583.11 1161.85 1583.11 1165.75 Q1583.11 1169.66 1585.49 1171.89 Q1587.89 1174.12 1592.06 1174.12 Q1596.22 1174.12 1598.62 1171.89 Q1601.03 1169.63 1601.03 1165.75 Q1601.03 1161.85 1598.62 1159.62 Q1596.25 1157.39 1592.06 1157.39 M1586.21 1154.9 Q1582.45 1153.98 1580.34 1151.4 Q1578.25 1148.83 1578.25 1145.12 Q1578.25 1139.94 1581.93 1136.94 Q1585.63 1133.93 1592.06 1133.93 Q1598.51 1133.93 1602.18 1136.94 Q1605.86 1139.94 1605.86 1145.12 Q1605.86 1148.83 1603.75 1151.4 Q1601.66 1153.98 1597.93 1154.9 Q1602.15 1155.89 1604.5 1158.75 Q1606.87 1161.62 1606.87 1165.75 Q1606.87 1172.03 1603.02 1175.39 Q1599.2 1178.75 1592.06 1178.75 Q1584.91 1178.75 1581.06 1175.39 Q1577.24 1172.03 1577.24 1165.75 Q1577.24 1161.62 1579.61 1158.75 Q1581.99 1155.89 1586.21 1154.9 M1584.07 1145.67 Q1584.07 1149.03 1586.15 1150.91 Q1588.27 1152.79 1592.06 1152.79 Q1595.82 1152.79 1597.93 1150.91 Q1600.07 1149.03 1600.07 1145.67 Q1600.07 1142.32 1597.93 1140.44 Q1595.82 1138.56 1592.06 1138.56 Q1588.27 1138.56 1586.15 1140.44 Q1584.07 1142.32 1584.07 1145.67 Z\" fill=\"#000000\" fill-rule=\"evenodd\" fill-opacity=\"1\" /></svg>\n"
      ]
     },
     "execution_count": 26,
     "metadata": {},
     "output_type": "execute_result"
    }
   ],
   "source": [
    "graphplot(G, curves=false, names=1:N, fontsize=10, markersize=0.2, method=:circular)"
   ]
  },
  {
   "cell_type": "code",
   "execution_count": 244,
   "metadata": {},
   "outputs": [
    {
     "data": {
      "text/plain": [
       "watts_strogatz"
      ]
     },
     "execution_count": 244,
     "metadata": {},
     "output_type": "execute_result"
    }
   ],
   "source": [
    "function watts_strogatz(N::Int64, m::Int64, p::Float64)\n",
    "    G = SimpleGraph(N)\n",
    "    circle_nodes = circle_graph(N, m)\n",
    "    for (n1, n2) in eachrow(circle_nodes)\n",
    "        add_edge!(G, n1, n2)\n",
    "    end\n",
    "    for n=1:N\n",
    "        neighs = neighbors(G, n)\n",
    "        for neigh in neighs\n",
    "            if p > rand()\n",
    "                new_neigh = rand([i for i in 1:N if i != n])\n",
    "                add_edge!(G, n, new_neigh)\n",
    "                rem_edge!(G, n, neigh)\n",
    "            end\n",
    "        end\n",
    "    end\n",
    "    return G\n",
    "end\n",
    "\n",
    "\"\"\"\n",
    "Watz-strogatz model if G is already a circular(N, m)\n",
    "graph\n",
    "\"\"\"\n",
    "function watts_strogatz(G::SimpleGraph{Int64}, m::Int64, p::Float64)\n",
    "    G = copy(G)\n",
    "    N = nv(G)\n",
    "    for n=1:N\n",
    "        neighs = neighbors(G, n)\n",
    "        for neigh in neighs\n",
    "            if p > rand()\n",
    "                possible = [i for i in 1:N if !(i in neighs) & (i != n)]\n",
    "                if length(possible) > 0\n",
    "                    new_neigh = rand(possible)\n",
    "                    add_edge!(G, n, new_neigh)\n",
    "                    rem_edge!(G, n, neigh)\n",
    "                end\n",
    "            end\n",
    "        end\n",
    "    end\n",
    "    return G\n",
    "end"
   ]
  },
  {
   "cell_type": "code",
   "execution_count": 245,
   "metadata": {},
   "outputs": [
    {
     "data": {
      "image/svg+xml": [
       "<?xml version=\"1.0\" encoding=\"utf-8\"?>\n",
       "<svg xmlns=\"http://www.w3.org/2000/svg\" xmlns:xlink=\"http://www.w3.org/1999/xlink\" width=\"600\" height=\"400\" viewBox=\"0 0 2400 1600\">\n",
       "<defs>\n",
       "  <clipPath id=\"clip000\">\n",
       "    <rect x=\"0\" y=\"0\" width=\"2400\" height=\"1600\"/>\n",
       "  </clipPath>\n",
       "</defs>\n",
       "<path clip-path=\"url(#clip000)\" d=\"\n",
       "M0 1600 L2400 1600 L2400 0 L0 0  Z\n",
       "  \" fill=\"#ffffff\" fill-rule=\"evenodd\" fill-opacity=\"1\"/>\n",
       "<defs>\n",
       "  <clipPath id=\"clip001\">\n",
       "    <rect x=\"480\" y=\"0\" width=\"1681\" height=\"1600\"/>\n",
       "  </clipPath>\n",
       "</defs>\n",
       "<path clip-path=\"url(#clip000)\" d=\"\n",
       "M482.992 1521.01 L1956.76 1521.01 L1956.76 47.2441 L482.992 47.2441  Z\n",
       "  \" fill=\"#ffffff\" fill-rule=\"evenodd\" fill-opacity=\"1\"/>\n",
       "<defs>\n",
       "  <clipPath id=\"clip002\">\n",
       "    <rect x=\"482\" y=\"47\" width=\"1475\" height=\"1475\"/>\n",
       "  </clipPath>\n",
       "</defs>\n",
       "<polyline clip-path=\"url(#clip002)\" style=\"stroke:#000000; stroke-width:4; stroke-opacity:1; fill:none\" points=\"\n",
       "  1746.22,784.126 1645.7,458.827 \n",
       "  \"/>\n",
       "<polyline clip-path=\"url(#clip002)\" style=\"stroke:#000000; stroke-width:4; stroke-opacity:1; fill:none\" points=\"\n",
       "  1746.22,784.126 1382.52,257.782 \n",
       "  \"/>\n",
       "<polyline clip-path=\"url(#clip002)\" style=\"stroke:#000000; stroke-width:4; stroke-opacity:1; fill:none\" points=\"\n",
       "  1746.22,784.126 1057.22,257.782 \n",
       "  \"/>\n",
       "<polyline clip-path=\"url(#clip002)\" style=\"stroke:#000000; stroke-width:4; stroke-opacity:1; fill:none\" points=\"\n",
       "  1746.22,784.126 794.053,458.827 \n",
       "  \"/>\n",
       "<polyline clip-path=\"url(#clip002)\" style=\"stroke:#000000; stroke-width:4; stroke-opacity:1; fill:none\" points=\"\n",
       "  1746.22,784.126 693.53,784.126 \n",
       "  \"/>\n",
       "<polyline clip-path=\"url(#clip002)\" style=\"stroke:#000000; stroke-width:4; stroke-opacity:1; fill:none\" points=\"\n",
       "  1746.22,784.126 794.053,1109.42 \n",
       "  \"/>\n",
       "<polyline clip-path=\"url(#clip002)\" style=\"stroke:#000000; stroke-width:4; stroke-opacity:1; fill:none\" points=\"\n",
       "  1746.22,784.126 1057.22,1310.47 \n",
       "  \"/>\n",
       "<polyline clip-path=\"url(#clip002)\" style=\"stroke:#000000; stroke-width:4; stroke-opacity:1; fill:none\" points=\"\n",
       "  1746.22,784.126 1382.52,1310.47 \n",
       "  \"/>\n",
       "<polyline clip-path=\"url(#clip002)\" style=\"stroke:#000000; stroke-width:4; stroke-opacity:1; fill:none\" points=\"\n",
       "  1645.7,458.827 1382.52,257.782 \n",
       "  \"/>\n",
       "<polyline clip-path=\"url(#clip002)\" style=\"stroke:#000000; stroke-width:4; stroke-opacity:1; fill:none\" points=\"\n",
       "  1645.7,458.827 1057.22,257.782 \n",
       "  \"/>\n",
       "<polyline clip-path=\"url(#clip002)\" style=\"stroke:#000000; stroke-width:4; stroke-opacity:1; fill:none\" points=\"\n",
       "  1645.7,458.827 794.053,458.827 \n",
       "  \"/>\n",
       "<polyline clip-path=\"url(#clip002)\" style=\"stroke:#000000; stroke-width:4; stroke-opacity:1; fill:none\" points=\"\n",
       "  1645.7,458.827 693.53,784.126 \n",
       "  \"/>\n",
       "<polyline clip-path=\"url(#clip002)\" style=\"stroke:#000000; stroke-width:4; stroke-opacity:1; fill:none\" points=\"\n",
       "  1645.7,458.827 1057.22,1310.47 \n",
       "  \"/>\n",
       "<polyline clip-path=\"url(#clip002)\" style=\"stroke:#000000; stroke-width:4; stroke-opacity:1; fill:none\" points=\"\n",
       "  1645.7,458.827 1382.52,1310.47 \n",
       "  \"/>\n",
       "<polyline clip-path=\"url(#clip002)\" style=\"stroke:#000000; stroke-width:4; stroke-opacity:1; fill:none\" points=\"\n",
       "  1382.52,257.782 1057.22,257.782 \n",
       "  \"/>\n",
       "<polyline clip-path=\"url(#clip002)\" style=\"stroke:#000000; stroke-width:4; stroke-opacity:1; fill:none\" points=\"\n",
       "  1382.52,257.782 794.053,1109.42 \n",
       "  \"/>\n",
       "<polyline clip-path=\"url(#clip002)\" style=\"stroke:#000000; stroke-width:4; stroke-opacity:1; fill:none\" points=\"\n",
       "  1057.22,257.782 794.053,458.827 \n",
       "  \"/>\n",
       "<polyline clip-path=\"url(#clip002)\" style=\"stroke:#000000; stroke-width:4; stroke-opacity:1; fill:none\" points=\"\n",
       "  1057.22,257.782 693.53,784.126 \n",
       "  \"/>\n",
       "<polyline clip-path=\"url(#clip002)\" style=\"stroke:#000000; stroke-width:4; stroke-opacity:1; fill:none\" points=\"\n",
       "  1057.22,257.782 794.053,1109.42 \n",
       "  \"/>\n",
       "<polyline clip-path=\"url(#clip002)\" style=\"stroke:#000000; stroke-width:4; stroke-opacity:1; fill:none\" points=\"\n",
       "  1057.22,257.782 1057.22,1310.47 \n",
       "  \"/>\n",
       "<polyline clip-path=\"url(#clip002)\" style=\"stroke:#000000; stroke-width:4; stroke-opacity:1; fill:none\" points=\"\n",
       "  1057.22,257.782 1645.7,1109.42 \n",
       "  \"/>\n",
       "<polyline clip-path=\"url(#clip002)\" style=\"stroke:#000000; stroke-width:4; stroke-opacity:1; fill:none\" points=\"\n",
       "  794.053,458.827 693.53,784.126 \n",
       "  \"/>\n",
       "<polyline clip-path=\"url(#clip002)\" style=\"stroke:#000000; stroke-width:4; stroke-opacity:1; fill:none\" points=\"\n",
       "  794.053,458.827 794.053,1109.42 \n",
       "  \"/>\n",
       "<polyline clip-path=\"url(#clip002)\" style=\"stroke:#000000; stroke-width:4; stroke-opacity:1; fill:none\" points=\"\n",
       "  794.053,458.827 1057.22,1310.47 \n",
       "  \"/>\n",
       "<polyline clip-path=\"url(#clip002)\" style=\"stroke:#000000; stroke-width:4; stroke-opacity:1; fill:none\" points=\"\n",
       "  794.053,458.827 1382.52,1310.47 \n",
       "  \"/>\n",
       "<polyline clip-path=\"url(#clip002)\" style=\"stroke:#000000; stroke-width:4; stroke-opacity:1; fill:none\" points=\"\n",
       "  693.53,784.126 794.053,1109.42 \n",
       "  \"/>\n",
       "<polyline clip-path=\"url(#clip002)\" style=\"stroke:#000000; stroke-width:4; stroke-opacity:1; fill:none\" points=\"\n",
       "  693.53,784.126 1057.22,1310.47 \n",
       "  \"/>\n",
       "<polyline clip-path=\"url(#clip002)\" style=\"stroke:#000000; stroke-width:4; stroke-opacity:1; fill:none\" points=\"\n",
       "  794.053,1109.42 1057.22,1310.47 \n",
       "  \"/>\n",
       "<polyline clip-path=\"url(#clip002)\" style=\"stroke:#000000; stroke-width:4; stroke-opacity:1; fill:none\" points=\"\n",
       "  794.053,1109.42 1382.52,1310.47 \n",
       "  \"/>\n",
       "<polyline clip-path=\"url(#clip002)\" style=\"stroke:#000000; stroke-width:4; stroke-opacity:1; fill:none\" points=\"\n",
       "  1382.52,1310.47 1645.7,1109.42 \n",
       "  \"/>\n",
       "<path clip-path=\"url(#clip002)\" d=\"\n",
       "M1786.64 784.126 L1766.43 749.118 L1726.01 749.118 L1705.79 784.126 L1726.01 819.134 L1766.43 819.134 L1786.64 784.126 L1786.64 784.126  Z\n",
       "  \" fill=\"#009af9\" fill-rule=\"evenodd\" fill-opacity=\"1\"/>\n",
       "<polyline clip-path=\"url(#clip002)\" style=\"stroke:#000000; stroke-width:4; stroke-opacity:1; fill:none\" points=\"\n",
       "  1786.64,784.126 1766.43,749.118 1726.01,749.118 1705.79,784.126 1726.01,819.134 1766.43,819.134 1786.64,784.126 \n",
       "  \"/>\n",
       "<path clip-path=\"url(#clip002)\" d=\"\n",
       "M1686.12 458.827 L1665.91 423.82 L1625.48 423.82 L1605.27 458.827 L1625.48 493.835 L1665.91 493.835 L1686.12 458.827 L1686.12 458.827  Z\n",
       "  \" fill=\"#009af9\" fill-rule=\"evenodd\" fill-opacity=\"1\"/>\n",
       "<polyline clip-path=\"url(#clip002)\" style=\"stroke:#000000; stroke-width:4; stroke-opacity:1; fill:none\" points=\"\n",
       "  1686.12,458.827 1665.91,423.82 1625.48,423.82 1605.27,458.827 1625.48,493.835 1665.91,493.835 1686.12,458.827 \n",
       "  \"/>\n",
       "<path clip-path=\"url(#clip002)\" d=\"\n",
       "M1422.95 257.782 L1402.73 222.774 L1362.31 222.774 L1342.1 257.782 L1362.31 292.789 L1402.73 292.789 L1422.95 257.782 L1422.95 257.782  Z\n",
       "  \" fill=\"#009af9\" fill-rule=\"evenodd\" fill-opacity=\"1\"/>\n",
       "<polyline clip-path=\"url(#clip002)\" style=\"stroke:#000000; stroke-width:4; stroke-opacity:1; fill:none\" points=\"\n",
       "  1422.95,257.782 1402.73,222.774 1362.31,222.774 1342.1,257.782 1362.31,292.789 1402.73,292.789 1422.95,257.782 \n",
       "  \"/>\n",
       "<path clip-path=\"url(#clip002)\" d=\"\n",
       "M1097.65 257.782 L1077.44 222.774 L1037.01 222.774 L1016.8 257.782 L1037.01 292.789 L1077.44 292.789 L1097.65 257.782 L1097.65 257.782  Z\n",
       "  \" fill=\"#009af9\" fill-rule=\"evenodd\" fill-opacity=\"1\"/>\n",
       "<polyline clip-path=\"url(#clip002)\" style=\"stroke:#000000; stroke-width:4; stroke-opacity:1; fill:none\" points=\"\n",
       "  1097.65,257.782 1077.44,222.774 1037.01,222.774 1016.8,257.782 1037.01,292.789 1077.44,292.789 1097.65,257.782 \n",
       "  \"/>\n",
       "<path clip-path=\"url(#clip002)\" d=\"\n",
       "M834.476 458.827 L814.264 423.82 L773.841 423.82 L753.629 458.827 L773.841 493.835 L814.264 493.835 L834.476 458.827 L834.476 458.827  Z\n",
       "  \" fill=\"#009af9\" fill-rule=\"evenodd\" fill-opacity=\"1\"/>\n",
       "<polyline clip-path=\"url(#clip002)\" style=\"stroke:#000000; stroke-width:4; stroke-opacity:1; fill:none\" points=\"\n",
       "  834.476,458.827 814.264,423.82 773.841,423.82 753.629,458.827 773.841,493.835 814.264,493.835 834.476,458.827 \n",
       "  \"/>\n",
       "<path clip-path=\"url(#clip002)\" d=\"\n",
       "M733.953 784.126 L713.741 749.118 L673.318 749.118 L653.107 784.126 L673.318 819.134 L713.741 819.134 L733.953 784.126 L733.953 784.126  Z\n",
       "  \" fill=\"#009af9\" fill-rule=\"evenodd\" fill-opacity=\"1\"/>\n",
       "<polyline clip-path=\"url(#clip002)\" style=\"stroke:#000000; stroke-width:4; stroke-opacity:1; fill:none\" points=\"\n",
       "  733.953,784.126 713.741,749.118 673.318,749.118 653.107,784.126 673.318,819.134 713.741,819.134 733.953,784.126 733.953,784.126 \n",
       "  \"/>\n",
       "<path clip-path=\"url(#clip002)\" d=\"\n",
       "M834.476 1109.42 L814.264 1074.42 L773.841 1074.42 L753.629 1109.42 L773.841 1144.43 L814.264 1144.43 L834.476 1109.42 L834.476 1109.42  Z\n",
       "  \" fill=\"#009af9\" fill-rule=\"evenodd\" fill-opacity=\"1\"/>\n",
       "<polyline clip-path=\"url(#clip002)\" style=\"stroke:#000000; stroke-width:4; stroke-opacity:1; fill:none\" points=\"\n",
       "  834.476,1109.42 814.264,1074.42 773.841,1074.42 753.629,1109.42 773.841,1144.43 814.264,1144.43 834.476,1109.42 \n",
       "  \"/>\n",
       "<path clip-path=\"url(#clip002)\" d=\"\n",
       "M1097.65 1310.47 L1077.44 1275.46 L1037.01 1275.46 L1016.8 1310.47 L1037.01 1345.48 L1077.44 1345.48 L1097.65 1310.47 L1097.65 1310.47  Z\n",
       "  \" fill=\"#009af9\" fill-rule=\"evenodd\" fill-opacity=\"1\"/>\n",
       "<polyline clip-path=\"url(#clip002)\" style=\"stroke:#000000; stroke-width:4; stroke-opacity:1; fill:none\" points=\"\n",
       "  1097.65,1310.47 1077.44,1275.46 1037.01,1275.46 1016.8,1310.47 1037.01,1345.48 1077.44,1345.48 1097.65,1310.47 \n",
       "  \"/>\n",
       "<path clip-path=\"url(#clip002)\" d=\"\n",
       "M1422.95 1310.47 L1402.73 1275.46 L1362.31 1275.46 L1342.1 1310.47 L1362.31 1345.48 L1402.73 1345.48 L1422.95 1310.47 L1422.95 1310.47  Z\n",
       "  \" fill=\"#009af9\" fill-rule=\"evenodd\" fill-opacity=\"1\"/>\n",
       "<polyline clip-path=\"url(#clip002)\" style=\"stroke:#000000; stroke-width:4; stroke-opacity:1; fill:none\" points=\"\n",
       "  1422.95,1310.47 1402.73,1275.46 1362.31,1275.46 1342.1,1310.47 1362.31,1345.48 1402.73,1345.48 1422.95,1310.47 \n",
       "  \"/>\n",
       "<path clip-path=\"url(#clip002)\" d=\"\n",
       "M1716.08 1109.42 L1680.89 1048.47 L1610.5 1048.47 L1575.31 1109.42 L1610.5 1170.38 L1680.89 1170.38 L1716.08 1109.42 L1716.08 1109.42  Z\n",
       "  \" fill=\"#009af9\" fill-rule=\"evenodd\" fill-opacity=\"1\"/>\n",
       "<polyline clip-path=\"url(#clip002)\" style=\"stroke:#000000; stroke-width:4; stroke-opacity:1; fill:none\" points=\"\n",
       "  1716.08,1109.42 1680.89,1048.47 1610.5,1048.47 1575.31,1109.42 1610.5,1170.38 1680.89,1170.38 1716.08,1109.42 \n",
       "  \"/>\n",
       "<circle clip-path=\"url(#clip002)\" style=\"fill:#009af9; stroke:none; fill-opacity:1\" cx=\"1746.22\" cy=\"784.126\" r=\"2\"/>\n",
       "<circle clip-path=\"url(#clip002)\" style=\"fill:#009af9; stroke:none; fill-opacity:1\" cx=\"1645.7\" cy=\"458.827\" r=\"2\"/>\n",
       "<circle clip-path=\"url(#clip002)\" style=\"fill:#009af9; stroke:none; fill-opacity:1\" cx=\"1382.52\" cy=\"257.782\" r=\"2\"/>\n",
       "<circle clip-path=\"url(#clip002)\" style=\"fill:#009af9; stroke:none; fill-opacity:1\" cx=\"1057.22\" cy=\"257.782\" r=\"2\"/>\n",
       "<circle clip-path=\"url(#clip002)\" style=\"fill:#009af9; stroke:none; fill-opacity:1\" cx=\"794.053\" cy=\"458.827\" r=\"2\"/>\n",
       "<circle clip-path=\"url(#clip002)\" style=\"fill:#009af9; stroke:none; fill-opacity:1\" cx=\"693.53\" cy=\"784.126\" r=\"2\"/>\n",
       "<circle clip-path=\"url(#clip002)\" style=\"fill:#009af9; stroke:none; fill-opacity:1\" cx=\"794.053\" cy=\"1109.42\" r=\"2\"/>\n",
       "<circle clip-path=\"url(#clip002)\" style=\"fill:#009af9; stroke:none; fill-opacity:1\" cx=\"1057.22\" cy=\"1310.47\" r=\"2\"/>\n",
       "<circle clip-path=\"url(#clip002)\" style=\"fill:#009af9; stroke:none; fill-opacity:1\" cx=\"1382.52\" cy=\"1310.47\" r=\"2\"/>\n",
       "<circle clip-path=\"url(#clip002)\" style=\"fill:#009af9; stroke:none; fill-opacity:1\" cx=\"1645.7\" cy=\"1109.42\" r=\"2\"/>\n",
       "<path clip-path=\"url(#clip000)\" d=\"M 0 0 M1736.6 797.471 L1744.24 797.471 L1744.24 771.105 L1735.93 772.772 L1735.93 768.513 L1744.19 766.846 L1748.87 766.846 L1748.87 797.471 L1756.51 797.471 L1756.51 801.406 L1736.6 801.406 L1736.6 797.471 Z\" fill=\"#000000\" fill-rule=\"evenodd\" fill-opacity=\"1\" /><path clip-path=\"url(#clip000)\" d=\"M 0 0 M1640.35 472.172 L1656.67 472.172 L1656.67 476.107 L1634.72 476.107 L1634.72 472.172 Q1637.39 469.418 1641.97 464.788 Q1646.58 460.135 1647.76 458.793 Q1650 456.27 1650.88 454.533 Q1651.78 452.774 1651.78 451.084 Q1651.78 448.33 1649.84 446.594 Q1647.92 444.858 1644.82 444.858 Q1642.62 444.858 1640.16 445.621 Q1637.73 446.385 1634.95 447.936 L1634.95 443.214 Q1637.78 442.08 1640.23 441.501 Q1642.69 440.922 1644.72 440.922 Q1650.09 440.922 1653.29 443.608 Q1656.48 446.293 1656.48 450.783 Q1656.48 452.913 1655.67 454.834 Q1654.89 456.732 1652.78 459.325 Q1652.2 459.996 1649.1 463.214 Q1646 466.408 1640.35 472.172 Z\" fill=\"#000000\" fill-rule=\"evenodd\" fill-opacity=\"1\" /><path clip-path=\"url(#clip000)\" d=\"M 0 0 M1386.77 256.428 Q1390.13 257.145 1392 259.414 Q1393.9 261.682 1393.9 265.016 Q1393.9 270.131 1390.38 272.932 Q1386.86 275.733 1380.38 275.733 Q1378.21 275.733 1375.89 275.293 Q1373.6 274.877 1371.15 274.02 L1371.15 269.506 Q1373.09 270.641 1375.41 271.219 Q1377.72 271.798 1380.24 271.798 Q1384.64 271.798 1386.93 270.062 Q1389.25 268.326 1389.25 265.016 Q1389.25 261.96 1387.1 260.247 Q1384.97 258.511 1381.15 258.511 L1377.12 258.511 L1377.12 254.668 L1381.33 254.668 Q1384.78 254.668 1386.61 253.303 Q1388.44 251.914 1388.44 249.321 Q1388.44 246.659 1386.54 245.247 Q1384.66 243.812 1381.15 243.812 Q1379.22 243.812 1377.03 244.229 Q1374.83 244.645 1372.19 245.525 L1372.19 241.358 Q1374.85 240.618 1377.16 240.247 Q1379.5 239.877 1381.56 239.877 Q1386.89 239.877 1389.99 242.307 Q1393.09 244.715 1393.09 248.835 Q1393.09 251.705 1391.45 253.696 Q1389.8 255.664 1386.77 256.428 Z\" fill=\"#000000\" fill-rule=\"evenodd\" fill-opacity=\"1\" /><path clip-path=\"url(#clip000)\" d=\"M 0 0 M1060.23 244.576 L1048.43 263.025 L1060.23 263.025 L1060.23 244.576 M1059.01 240.502 L1064.89 240.502 L1064.89 263.025 L1069.82 263.025 L1069.82 266.914 L1064.89 266.914 L1064.89 275.062 L1060.23 275.062 L1060.23 266.914 L1044.63 266.914 L1044.63 262.4 L1059.01 240.502 Z\" fill=\"#000000\" fill-rule=\"evenodd\" fill-opacity=\"1\" /><path clip-path=\"url(#clip000)\" d=\"M 0 0 M784.33 441.547 L802.687 441.547 L802.687 445.483 L788.613 445.483 L788.613 453.955 Q789.631 453.607 790.65 453.445 Q791.668 453.26 792.687 453.26 Q798.474 453.26 801.853 456.432 Q805.233 459.603 805.233 465.019 Q805.233 470.598 801.761 473.7 Q798.289 476.779 791.969 476.779 Q789.793 476.779 787.525 476.408 Q785.28 476.038 782.872 475.297 L782.872 470.598 Q784.955 471.732 787.178 472.288 Q789.4 472.844 791.877 472.844 Q795.881 472.844 798.219 470.737 Q800.557 468.631 800.557 465.019 Q800.557 461.408 798.219 459.302 Q795.881 457.195 791.877 457.195 Q790.002 457.195 788.127 457.612 Q786.275 458.029 784.33 458.908 L784.33 441.547 Z\" fill=\"#000000\" fill-rule=\"evenodd\" fill-opacity=\"1\" /><path clip-path=\"url(#clip000)\" d=\"M 0 0 M693.935 782.263 Q690.787 782.263 688.935 784.415 Q687.106 786.568 687.106 790.318 Q687.106 794.045 688.935 796.221 Q690.787 798.374 693.935 798.374 Q697.083 798.374 698.912 796.221 Q700.764 794.045 700.764 790.318 Q700.764 786.568 698.912 784.415 Q697.083 782.263 693.935 782.263 M703.217 767.61 L703.217 771.869 Q701.458 771.036 699.652 770.596 Q697.87 770.156 696.111 770.156 Q691.481 770.156 689.028 773.281 Q686.597 776.406 686.25 782.726 Q687.615 780.712 689.676 779.647 Q691.736 778.559 694.213 778.559 Q699.421 778.559 702.43 781.73 Q705.463 784.878 705.463 790.318 Q705.463 795.642 702.314 798.86 Q699.166 802.077 693.935 802.077 Q687.94 802.077 684.768 797.494 Q681.597 792.888 681.597 784.161 Q681.597 775.966 685.486 771.105 Q689.375 766.221 695.926 766.221 Q697.685 766.221 699.467 766.568 Q701.273 766.915 703.217 767.61 Z\" fill=\"#000000\" fill-rule=\"evenodd\" fill-opacity=\"1\" /><path clip-path=\"url(#clip000)\" d=\"M 0 0 M782.942 1092.14 L805.164 1092.14 L805.164 1094.14 L792.617 1126.7 L787.733 1126.7 L799.539 1096.08 L782.942 1096.08 L782.942 1092.14 Z\" fill=\"#000000\" fill-rule=\"evenodd\" fill-opacity=\"1\" /><path clip-path=\"url(#clip000)\" d=\"M 0 0 M1057.22 1311.34 Q1053.89 1311.34 1051.97 1313.12 Q1050.07 1314.9 1050.07 1318.03 Q1050.07 1321.15 1051.97 1322.94 Q1053.89 1324.72 1057.22 1324.72 Q1060.56 1324.72 1062.48 1322.94 Q1064.4 1321.13 1064.4 1318.03 Q1064.4 1314.9 1062.48 1313.12 Q1060.58 1311.34 1057.22 1311.34 M1052.55 1309.35 Q1049.54 1308.61 1047.85 1306.55 Q1046.18 1304.49 1046.18 1301.52 Q1046.18 1297.38 1049.12 1294.97 Q1052.09 1292.57 1057.22 1292.57 Q1062.39 1292.57 1065.33 1294.97 Q1068.27 1297.38 1068.27 1301.52 Q1068.27 1304.49 1066.58 1306.55 Q1064.91 1308.61 1061.92 1309.35 Q1065.3 1310.13 1067.18 1312.43 Q1069.08 1314.72 1069.08 1318.03 Q1069.08 1323.05 1066 1325.74 Q1062.94 1328.42 1057.22 1328.42 Q1051.51 1328.42 1048.43 1325.74 Q1045.37 1323.05 1045.37 1318.03 Q1045.37 1314.72 1047.27 1312.43 Q1049.17 1310.13 1052.55 1309.35 M1050.84 1301.96 Q1050.84 1304.65 1052.5 1306.15 Q1054.19 1307.66 1057.22 1307.66 Q1060.23 1307.66 1061.92 1306.15 Q1063.64 1304.65 1063.64 1301.96 Q1063.64 1299.28 1061.92 1297.77 Q1060.23 1296.27 1057.22 1296.27 Q1054.19 1296.27 1052.5 1297.77 Q1050.84 1299.28 1050.84 1301.96 Z\" fill=\"#000000\" fill-rule=\"evenodd\" fill-opacity=\"1\" /><path clip-path=\"url(#clip000)\" d=\"M 0 0 M1372.82 1327.03 L1372.82 1322.77 Q1374.58 1323.61 1376.39 1324.05 Q1378.19 1324.49 1379.93 1324.49 Q1384.56 1324.49 1386.99 1321.38 Q1389.44 1318.26 1389.79 1311.92 Q1388.45 1313.91 1386.39 1314.97 Q1384.33 1316.04 1381.83 1316.04 Q1376.64 1316.04 1373.61 1312.91 Q1370.6 1309.76 1370.6 1304.32 Q1370.6 1299 1373.75 1295.78 Q1376.9 1292.57 1382.13 1292.57 Q1388.13 1292.57 1391.27 1297.17 Q1394.44 1301.75 1394.44 1310.5 Q1394.44 1318.68 1390.56 1323.56 Q1386.69 1328.42 1380.14 1328.42 Q1378.38 1328.42 1376.57 1328.07 Q1374.77 1327.73 1372.82 1327.03 M1382.13 1312.38 Q1385.28 1312.38 1387.11 1310.23 Q1388.96 1308.07 1388.96 1304.32 Q1388.96 1300.6 1387.11 1298.44 Q1385.28 1296.27 1382.13 1296.27 Q1378.98 1296.27 1377.13 1298.44 Q1375.3 1300.6 1375.3 1304.32 Q1375.3 1308.07 1377.13 1310.23 Q1378.98 1312.38 1382.13 1312.38 Z\" fill=\"#000000\" fill-rule=\"evenodd\" fill-opacity=\"1\" /><path clip-path=\"url(#clip000)\" d=\"M 0 0 M1622.57 1122.77 L1630.21 1122.77 L1630.21 1096.4 L1621.9 1098.07 L1621.9 1093.81 L1630.16 1092.14 L1634.84 1092.14 L1634.84 1122.77 L1642.48 1122.77 L1642.48 1126.7 L1622.57 1126.7 L1622.57 1122.77 Z\" fill=\"#000000\" fill-rule=\"evenodd\" fill-opacity=\"1\" /><path clip-path=\"url(#clip000)\" d=\"M 0 0 M1657.55 1095.22 Q1653.94 1095.22 1652.11 1098.79 Q1650.3 1102.33 1650.3 1109.46 Q1650.3 1116.57 1652.11 1120.13 Q1653.94 1123.67 1657.55 1123.67 Q1661.18 1123.67 1662.99 1120.13 Q1664.82 1116.57 1664.82 1109.46 Q1664.82 1102.33 1662.99 1098.79 Q1661.18 1095.22 1657.55 1095.22 M1657.55 1091.52 Q1663.36 1091.52 1666.41 1096.13 Q1669.49 1100.71 1669.49 1109.46 Q1669.49 1118.19 1666.41 1122.79 Q1663.36 1127.38 1657.55 1127.38 Q1651.74 1127.38 1648.66 1122.79 Q1645.6 1118.19 1645.6 1109.46 Q1645.6 1100.71 1648.66 1096.13 Q1651.74 1091.52 1657.55 1091.52 Z\" fill=\"#000000\" fill-rule=\"evenodd\" fill-opacity=\"1\" /></svg>\n"
      ]
     },
     "execution_count": 245,
     "metadata": {},
     "output_type": "execute_result"
    }
   ],
   "source": [
    "N = 10\n",
    "m = 4\n",
    "p = 0.6\n",
    "G = SimpleGraph(N)\n",
    "circle_graph!(G, m)\n",
    "\n",
    "Gws = watts_strogatz(G, m, p)\n",
    "graphplot(Gws, names=1:N, fontsize=8, markersize=0.2, method=:circular, curves=false)"
   ]
  },
  {
   "cell_type": "code",
   "execution_count": 246,
   "metadata": {},
   "outputs": [
    {
     "data": {
      "text/plain": [
       "21"
      ]
     },
     "execution_count": 246,
     "metadata": {},
     "output_type": "execute_result"
    }
   ],
   "source": [
    "N = 1000\n",
    "m = 10\n",
    "M = 100\n",
    "p_vals = 0:0.05:1\n",
    "np_vals = length(p_vals)"
   ]
  },
  {
   "cell_type": "code",
   "execution_count": 247,
   "metadata": {},
   "outputs": [
    {
     "name": "stdout",
     "output_type": "stream",
     "text": [
      "106.225686 seconds (129.79 M allocations: 180.020 GiB, 38.73% gc time)\n"
     ]
    }
   ],
   "source": [
    "Vm = zeros(np_vals, M)\n",
    "\n",
    "\n",
    "@time begin\n",
    "    G = SimpleGraph(N)\n",
    "    circle_graph!(G, m)\n",
    "    Threads.@threads for i=1:np_vals\n",
    "        p = p_vals[i]\n",
    "        for j=1:M\n",
    "            Gws = watts_strogatz(G, m, p)\n",
    "            Vm[i, j] = global_clustering_coefficient(Gws)\n",
    "        end\n",
    "    end\n",
    "end"
   ]
  },
  {
   "cell_type": "code",
   "execution_count": 248,
   "metadata": {},
   "outputs": [
    {
     "data": {
      "image/svg+xml": [
       "<?xml version=\"1.0\" encoding=\"utf-8\"?>\n",
       "<svg xmlns=\"http://www.w3.org/2000/svg\" xmlns:xlink=\"http://www.w3.org/1999/xlink\" width=\"600\" height=\"400\" viewBox=\"0 0 2400 1600\">\n",
       "<defs>\n",
       "  <clipPath id=\"clip040\">\n",
       "    <rect x=\"0\" y=\"0\" width=\"2400\" height=\"1600\"/>\n",
       "  </clipPath>\n",
       "</defs>\n",
       "<path clip-path=\"url(#clip040)\" d=\"\n",
       "M0 1600 L2400 1600 L2400 0 L0 0  Z\n",
       "  \" fill=\"#ffffff\" fill-rule=\"evenodd\" fill-opacity=\"1\"/>\n",
       "<defs>\n",
       "  <clipPath id=\"clip041\">\n",
       "    <rect x=\"480\" y=\"0\" width=\"1681\" height=\"1600\"/>\n",
       "  </clipPath>\n",
       "</defs>\n",
       "<path clip-path=\"url(#clip040)\" d=\"\n",
       "M211.602 1486.45 L2352.76 1486.45 L2352.76 47.2441 L211.602 47.2441  Z\n",
       "  \" fill=\"#ffffff\" fill-rule=\"evenodd\" fill-opacity=\"1\"/>\n",
       "<defs>\n",
       "  <clipPath id=\"clip042\">\n",
       "    <rect x=\"211\" y=\"47\" width=\"2142\" height=\"1440\"/>\n",
       "  </clipPath>\n",
       "</defs>\n",
       "<polyline clip-path=\"url(#clip042)\" style=\"stroke:#000000; stroke-width:2; stroke-opacity:0.1; fill:none\" points=\"\n",
       "  272.201,1486.45 272.201,47.2441 \n",
       "  \"/>\n",
       "<polyline clip-path=\"url(#clip042)\" style=\"stroke:#000000; stroke-width:2; stroke-opacity:0.1; fill:none\" points=\"\n",
       "  777.19,1486.45 777.19,47.2441 \n",
       "  \"/>\n",
       "<polyline clip-path=\"url(#clip042)\" style=\"stroke:#000000; stroke-width:2; stroke-opacity:0.1; fill:none\" points=\"\n",
       "  1282.18,1486.45 1282.18,47.2441 \n",
       "  \"/>\n",
       "<polyline clip-path=\"url(#clip042)\" style=\"stroke:#000000; stroke-width:2; stroke-opacity:0.1; fill:none\" points=\"\n",
       "  1787.17,1486.45 1787.17,47.2441 \n",
       "  \"/>\n",
       "<polyline clip-path=\"url(#clip042)\" style=\"stroke:#000000; stroke-width:2; stroke-opacity:0.1; fill:none\" points=\"\n",
       "  2292.16,1486.45 2292.16,47.2441 \n",
       "  \"/>\n",
       "<polyline clip-path=\"url(#clip040)\" style=\"stroke:#000000; stroke-width:4; stroke-opacity:1; fill:none\" points=\"\n",
       "  211.602,1486.45 2352.76,1486.45 \n",
       "  \"/>\n",
       "<polyline clip-path=\"url(#clip040)\" style=\"stroke:#000000; stroke-width:4; stroke-opacity:1; fill:none\" points=\"\n",
       "  272.201,1486.45 272.201,1469.18 \n",
       "  \"/>\n",
       "<polyline clip-path=\"url(#clip040)\" style=\"stroke:#000000; stroke-width:4; stroke-opacity:1; fill:none\" points=\"\n",
       "  777.19,1486.45 777.19,1469.18 \n",
       "  \"/>\n",
       "<polyline clip-path=\"url(#clip040)\" style=\"stroke:#000000; stroke-width:4; stroke-opacity:1; fill:none\" points=\"\n",
       "  1282.18,1486.45 1282.18,1469.18 \n",
       "  \"/>\n",
       "<polyline clip-path=\"url(#clip040)\" style=\"stroke:#000000; stroke-width:4; stroke-opacity:1; fill:none\" points=\"\n",
       "  1787.17,1486.45 1787.17,1469.18 \n",
       "  \"/>\n",
       "<polyline clip-path=\"url(#clip040)\" style=\"stroke:#000000; stroke-width:4; stroke-opacity:1; fill:none\" points=\"\n",
       "  2292.16,1486.45 2292.16,1469.18 \n",
       "  \"/>\n",
       "<path clip-path=\"url(#clip040)\" d=\"M 0 0 M240.211 1515.64 Q236.599 1515.64 234.771 1519.2 Q232.965 1522.75 232.965 1529.87 Q232.965 1536.98 234.771 1540.55 Q236.599 1544.09 240.211 1544.09 Q243.845 1544.09 245.65 1540.55 Q247.479 1536.98 247.479 1529.87 Q247.479 1522.75 245.65 1519.2 Q243.845 1515.64 240.211 1515.64 M240.211 1511.93 Q246.021 1511.93 249.076 1516.54 Q252.155 1521.12 252.155 1529.87 Q252.155 1538.6 249.076 1543.21 Q246.021 1547.79 240.211 1547.79 Q234.4 1547.79 231.322 1543.21 Q228.266 1538.6 228.266 1529.87 Q228.266 1521.12 231.322 1516.54 Q234.4 1511.93 240.211 1511.93 Z\" fill=\"#000000\" fill-rule=\"evenodd\" fill-opacity=\"1\" /><path clip-path=\"url(#clip040)\" d=\"M 0 0 M257.224 1541.24 L262.109 1541.24 L262.109 1547.12 L257.224 1547.12 L257.224 1541.24 Z\" fill=\"#000000\" fill-rule=\"evenodd\" fill-opacity=\"1\" /><path clip-path=\"url(#clip040)\" d=\"M 0 0 M277.178 1515.64 Q273.567 1515.64 271.738 1519.2 Q269.933 1522.75 269.933 1529.87 Q269.933 1536.98 271.738 1540.55 Q273.567 1544.09 277.178 1544.09 Q280.812 1544.09 282.618 1540.55 Q284.446 1536.98 284.446 1529.87 Q284.446 1522.75 282.618 1519.2 Q280.812 1515.64 277.178 1515.64 M277.178 1511.93 Q282.988 1511.93 286.044 1516.54 Q289.122 1521.12 289.122 1529.87 Q289.122 1538.6 286.044 1543.21 Q282.988 1547.79 277.178 1547.79 Q271.368 1547.79 268.289 1543.21 Q265.234 1538.6 265.234 1529.87 Q265.234 1521.12 268.289 1516.54 Q271.368 1511.93 277.178 1511.93 Z\" fill=\"#000000\" fill-rule=\"evenodd\" fill-opacity=\"1\" /><path clip-path=\"url(#clip040)\" d=\"M 0 0 M304.192 1515.64 Q300.581 1515.64 298.752 1519.2 Q296.946 1522.75 296.946 1529.87 Q296.946 1536.98 298.752 1540.55 Q300.581 1544.09 304.192 1544.09 Q307.826 1544.09 309.631 1540.55 Q311.46 1536.98 311.46 1529.87 Q311.46 1522.75 309.631 1519.2 Q307.826 1515.64 304.192 1515.64 M304.192 1511.93 Q310.002 1511.93 313.057 1516.54 Q316.136 1521.12 316.136 1529.87 Q316.136 1538.6 313.057 1543.21 Q310.002 1547.79 304.192 1547.79 Q298.382 1547.79 295.303 1543.21 Q292.247 1538.6 292.247 1529.87 Q292.247 1521.12 295.303 1516.54 Q298.382 1511.93 304.192 1511.93 Z\" fill=\"#000000\" fill-rule=\"evenodd\" fill-opacity=\"1\" /><path clip-path=\"url(#clip040)\" d=\"M 0 0 M746.496 1515.64 Q742.885 1515.64 741.056 1519.2 Q739.251 1522.75 739.251 1529.87 Q739.251 1536.98 741.056 1540.55 Q742.885 1544.09 746.496 1544.09 Q750.13 1544.09 751.936 1540.55 Q753.764 1536.98 753.764 1529.87 Q753.764 1522.75 751.936 1519.2 Q750.13 1515.64 746.496 1515.64 M746.496 1511.93 Q752.306 1511.93 755.362 1516.54 Q758.44 1521.12 758.44 1529.87 Q758.44 1538.6 755.362 1543.21 Q752.306 1547.79 746.496 1547.79 Q740.686 1547.79 737.607 1543.21 Q734.551 1538.6 734.551 1529.87 Q734.551 1521.12 737.607 1516.54 Q740.686 1511.93 746.496 1511.93 Z\" fill=\"#000000\" fill-rule=\"evenodd\" fill-opacity=\"1\" /><path clip-path=\"url(#clip040)\" d=\"M 0 0 M763.51 1541.24 L768.394 1541.24 L768.394 1547.12 L763.51 1547.12 L763.51 1541.24 Z\" fill=\"#000000\" fill-rule=\"evenodd\" fill-opacity=\"1\" /><path clip-path=\"url(#clip040)\" d=\"M 0 0 M777.491 1543.18 L793.81 1543.18 L793.81 1547.12 L771.866 1547.12 L771.866 1543.18 Q774.528 1540.43 779.111 1535.8 Q783.718 1531.15 784.898 1529.81 Q787.144 1527.28 788.023 1525.55 Q788.926 1523.79 788.926 1522.1 Q788.926 1519.34 786.982 1517.61 Q785.06 1515.87 781.959 1515.87 Q779.76 1515.87 777.306 1516.63 Q774.875 1517.4 772.098 1518.95 L772.098 1514.23 Q774.922 1513.09 777.375 1512.51 Q779.829 1511.93 781.866 1511.93 Q787.236 1511.93 790.431 1514.62 Q793.625 1517.31 793.625 1521.8 Q793.625 1523.93 792.815 1525.85 Q792.028 1527.74 789.922 1530.34 Q789.343 1531.01 786.241 1534.23 Q783.139 1537.42 777.491 1543.18 Z\" fill=\"#000000\" fill-rule=\"evenodd\" fill-opacity=\"1\" /><path clip-path=\"url(#clip040)\" d=\"M 0 0 M798.926 1512.56 L817.283 1512.56 L817.283 1516.5 L803.209 1516.5 L803.209 1524.97 Q804.227 1524.62 805.246 1524.46 Q806.264 1524.27 807.283 1524.27 Q813.07 1524.27 816.449 1527.44 Q819.829 1530.62 819.829 1536.03 Q819.829 1541.61 816.357 1544.71 Q812.884 1547.79 806.565 1547.79 Q804.389 1547.79 802.121 1547.42 Q799.875 1547.05 797.468 1546.31 L797.468 1541.61 Q799.551 1542.74 801.773 1543.3 Q803.996 1543.86 806.472 1543.86 Q810.477 1543.86 812.815 1541.75 Q815.153 1539.64 815.153 1536.03 Q815.153 1532.42 812.815 1530.31 Q810.477 1528.21 806.472 1528.21 Q804.597 1528.21 802.722 1528.62 Q800.871 1529.04 798.926 1529.92 L798.926 1512.56 Z\" fill=\"#000000\" fill-rule=\"evenodd\" fill-opacity=\"1\" /><path clip-path=\"url(#clip040)\" d=\"M 0 0 M1250.69 1515.64 Q1247.08 1515.64 1245.25 1519.2 Q1243.44 1522.75 1243.44 1529.87 Q1243.44 1536.98 1245.25 1540.55 Q1247.08 1544.09 1250.69 1544.09 Q1254.32 1544.09 1256.13 1540.55 Q1257.95 1536.98 1257.95 1529.87 Q1257.95 1522.75 1256.13 1519.2 Q1254.32 1515.64 1250.69 1515.64 M1250.69 1511.93 Q1256.5 1511.93 1259.55 1516.54 Q1262.63 1521.12 1262.63 1529.87 Q1262.63 1538.6 1259.55 1543.21 Q1256.5 1547.79 1250.69 1547.79 Q1244.88 1547.79 1241.8 1543.21 Q1238.74 1538.6 1238.74 1529.87 Q1238.74 1521.12 1241.8 1516.54 Q1244.88 1511.93 1250.69 1511.93 Z\" fill=\"#000000\" fill-rule=\"evenodd\" fill-opacity=\"1\" /><path clip-path=\"url(#clip040)\" d=\"M 0 0 M1267.7 1541.24 L1272.58 1541.24 L1272.58 1547.12 L1267.7 1547.12 L1267.7 1541.24 Z\" fill=\"#000000\" fill-rule=\"evenodd\" fill-opacity=\"1\" /><path clip-path=\"url(#clip040)\" d=\"M 0 0 M1277.7 1512.56 L1296.06 1512.56 L1296.06 1516.5 L1281.98 1516.5 L1281.98 1524.97 Q1283 1524.62 1284.02 1524.46 Q1285.04 1524.27 1286.06 1524.27 Q1291.84 1524.27 1295.22 1527.44 Q1298.6 1530.62 1298.6 1536.03 Q1298.6 1541.61 1295.13 1544.71 Q1291.66 1547.79 1285.34 1547.79 Q1283.16 1547.79 1280.89 1547.42 Q1278.65 1547.05 1276.24 1546.31 L1276.24 1541.61 Q1278.33 1542.74 1280.55 1543.3 Q1282.77 1543.86 1285.25 1543.86 Q1289.25 1543.86 1291.59 1541.75 Q1293.93 1539.64 1293.93 1536.03 Q1293.93 1532.42 1291.59 1530.31 Q1289.25 1528.21 1285.25 1528.21 Q1283.37 1528.21 1281.5 1528.62 Q1279.64 1529.04 1277.7 1529.92 L1277.7 1512.56 Z\" fill=\"#000000\" fill-rule=\"evenodd\" fill-opacity=\"1\" /><path clip-path=\"url(#clip040)\" d=\"M 0 0 M1313.67 1515.64 Q1310.06 1515.64 1308.23 1519.2 Q1306.43 1522.75 1306.43 1529.87 Q1306.43 1536.98 1308.23 1540.55 Q1310.06 1544.09 1313.67 1544.09 Q1317.31 1544.09 1319.11 1540.55 Q1320.94 1536.98 1320.94 1529.87 Q1320.94 1522.75 1319.11 1519.2 Q1317.31 1515.64 1313.67 1515.64 M1313.67 1511.93 Q1319.48 1511.93 1322.54 1516.54 Q1325.62 1521.12 1325.62 1529.87 Q1325.62 1538.6 1322.54 1543.21 Q1319.48 1547.79 1313.67 1547.79 Q1307.86 1547.79 1304.78 1543.21 Q1301.73 1538.6 1301.73 1529.87 Q1301.73 1521.12 1304.78 1516.54 Q1307.86 1511.93 1313.67 1511.93 Z\" fill=\"#000000\" fill-rule=\"evenodd\" fill-opacity=\"1\" /><path clip-path=\"url(#clip040)\" d=\"M 0 0 M1756.13 1515.64 Q1752.52 1515.64 1750.69 1519.2 Q1748.88 1522.75 1748.88 1529.87 Q1748.88 1536.98 1750.69 1540.55 Q1752.52 1544.09 1756.13 1544.09 Q1759.76 1544.09 1761.57 1540.55 Q1763.4 1536.98 1763.4 1529.87 Q1763.4 1522.75 1761.57 1519.2 Q1759.76 1515.64 1756.13 1515.64 M1756.13 1511.93 Q1761.94 1511.93 1764.99 1516.54 Q1768.07 1521.12 1768.07 1529.87 Q1768.07 1538.6 1764.99 1543.21 Q1761.94 1547.79 1756.13 1547.79 Q1750.32 1547.79 1747.24 1543.21 Q1744.18 1538.6 1744.18 1529.87 Q1744.18 1521.12 1747.24 1516.54 Q1750.32 1511.93 1756.13 1511.93 Z\" fill=\"#000000\" fill-rule=\"evenodd\" fill-opacity=\"1\" /><path clip-path=\"url(#clip040)\" d=\"M 0 0 M1773.14 1541.24 L1778.02 1541.24 L1778.02 1547.12 L1773.14 1547.12 L1773.14 1541.24 Z\" fill=\"#000000\" fill-rule=\"evenodd\" fill-opacity=\"1\" /><path clip-path=\"url(#clip040)\" d=\"M 0 0 M1781.91 1512.56 L1804.14 1512.56 L1804.14 1514.55 L1791.59 1547.12 L1786.71 1547.12 L1798.51 1516.5 L1781.91 1516.5 L1781.91 1512.56 Z\" fill=\"#000000\" fill-rule=\"evenodd\" fill-opacity=\"1\" /><path clip-path=\"url(#clip040)\" d=\"M 0 0 M1809.25 1512.56 L1827.61 1512.56 L1827.61 1516.5 L1813.53 1516.5 L1813.53 1524.97 Q1814.55 1524.62 1815.57 1524.46 Q1816.59 1524.27 1817.61 1524.27 Q1823.39 1524.27 1826.77 1527.44 Q1830.15 1530.62 1830.15 1536.03 Q1830.15 1541.61 1826.68 1544.71 Q1823.21 1547.79 1816.89 1547.79 Q1814.71 1547.79 1812.45 1547.42 Q1810.2 1547.05 1807.79 1546.31 L1807.79 1541.61 Q1809.88 1542.74 1812.1 1543.3 Q1814.32 1543.86 1816.8 1543.86 Q1820.8 1543.86 1823.14 1541.75 Q1825.48 1539.64 1825.48 1536.03 Q1825.48 1532.42 1823.14 1530.31 Q1820.8 1528.21 1816.8 1528.21 Q1814.92 1528.21 1813.05 1528.62 Q1811.2 1529.04 1809.25 1529.92 L1809.25 1512.56 Z\" fill=\"#000000\" fill-rule=\"evenodd\" fill-opacity=\"1\" /><path clip-path=\"url(#clip040)\" d=\"M 0 0 M2250.55 1543.18 L2258.19 1543.18 L2258.19 1516.82 L2249.88 1518.49 L2249.88 1514.23 L2258.14 1512.56 L2262.82 1512.56 L2262.82 1543.18 L2270.46 1543.18 L2270.46 1547.12 L2250.55 1547.12 L2250.55 1543.18 Z\" fill=\"#000000\" fill-rule=\"evenodd\" fill-opacity=\"1\" /><path clip-path=\"url(#clip040)\" d=\"M 0 0 M2275.53 1541.24 L2280.41 1541.24 L2280.41 1547.12 L2275.53 1547.12 L2275.53 1541.24 Z\" fill=\"#000000\" fill-rule=\"evenodd\" fill-opacity=\"1\" /><path clip-path=\"url(#clip040)\" d=\"M 0 0 M2295.48 1515.64 Q2291.87 1515.64 2290.04 1519.2 Q2288.23 1522.75 2288.23 1529.87 Q2288.23 1536.98 2290.04 1540.55 Q2291.87 1544.09 2295.48 1544.09 Q2299.11 1544.09 2300.92 1540.55 Q2302.75 1536.98 2302.75 1529.87 Q2302.75 1522.75 2300.92 1519.2 Q2299.11 1515.64 2295.48 1515.64 M2295.48 1511.93 Q2301.29 1511.93 2304.34 1516.54 Q2307.42 1521.12 2307.42 1529.87 Q2307.42 1538.6 2304.34 1543.21 Q2301.29 1547.79 2295.48 1547.79 Q2289.67 1547.79 2286.59 1543.21 Q2283.53 1538.6 2283.53 1529.87 Q2283.53 1521.12 2286.59 1516.54 Q2289.67 1511.93 2295.48 1511.93 Z\" fill=\"#000000\" fill-rule=\"evenodd\" fill-opacity=\"1\" /><path clip-path=\"url(#clip040)\" d=\"M 0 0 M2322.49 1515.64 Q2318.88 1515.64 2317.05 1519.2 Q2315.25 1522.75 2315.25 1529.87 Q2315.25 1536.98 2317.05 1540.55 Q2318.88 1544.09 2322.49 1544.09 Q2326.13 1544.09 2327.93 1540.55 Q2329.76 1536.98 2329.76 1529.87 Q2329.76 1522.75 2327.93 1519.2 Q2326.13 1515.64 2322.49 1515.64 M2322.49 1511.93 Q2328.3 1511.93 2331.36 1516.54 Q2334.44 1521.12 2334.44 1529.87 Q2334.44 1538.6 2331.36 1543.21 Q2328.3 1547.79 2322.49 1547.79 Q2316.68 1547.79 2313.6 1543.21 Q2310.55 1538.6 2310.55 1529.87 Q2310.55 1521.12 2313.6 1516.54 Q2316.68 1511.93 2322.49 1511.93 Z\" fill=\"#000000\" fill-rule=\"evenodd\" fill-opacity=\"1\" /><polyline clip-path=\"url(#clip042)\" style=\"stroke:#000000; stroke-width:2; stroke-opacity:0.1; fill:none\" points=\"\n",
       "  211.602,1471.14 2352.76,1471.14 \n",
       "  \"/>\n",
       "<polyline clip-path=\"url(#clip042)\" style=\"stroke:#000000; stroke-width:2; stroke-opacity:0.1; fill:none\" points=\"\n",
       "  211.602,1065.41 2352.76,1065.41 \n",
       "  \"/>\n",
       "<polyline clip-path=\"url(#clip042)\" style=\"stroke:#000000; stroke-width:2; stroke-opacity:0.1; fill:none\" points=\"\n",
       "  211.602,659.684 2352.76,659.684 \n",
       "  \"/>\n",
       "<polyline clip-path=\"url(#clip042)\" style=\"stroke:#000000; stroke-width:2; stroke-opacity:0.1; fill:none\" points=\"\n",
       "  211.602,253.956 2352.76,253.956 \n",
       "  \"/>\n",
       "<polyline clip-path=\"url(#clip040)\" style=\"stroke:#000000; stroke-width:4; stroke-opacity:1; fill:none\" points=\"\n",
       "  211.602,1486.45 211.602,47.2441 \n",
       "  \"/>\n",
       "<polyline clip-path=\"url(#clip040)\" style=\"stroke:#000000; stroke-width:4; stroke-opacity:1; fill:none\" points=\"\n",
       "  211.602,1471.14 237.296,1471.14 \n",
       "  \"/>\n",
       "<polyline clip-path=\"url(#clip040)\" style=\"stroke:#000000; stroke-width:4; stroke-opacity:1; fill:none\" points=\"\n",
       "  211.602,1065.41 237.296,1065.41 \n",
       "  \"/>\n",
       "<polyline clip-path=\"url(#clip040)\" style=\"stroke:#000000; stroke-width:4; stroke-opacity:1; fill:none\" points=\"\n",
       "  211.602,659.684 237.296,659.684 \n",
       "  \"/>\n",
       "<polyline clip-path=\"url(#clip040)\" style=\"stroke:#000000; stroke-width:4; stroke-opacity:1; fill:none\" points=\"\n",
       "  211.602,253.956 237.296,253.956 \n",
       "  \"/>\n",
       "<path clip-path=\"url(#clip040)\" d=\"M 0 0 M126.691 1456.94 Q123.08 1456.94 121.251 1460.5 Q119.445 1464.04 119.445 1471.17 Q119.445 1478.28 121.251 1481.85 Q123.08 1485.39 126.691 1485.39 Q130.325 1485.39 132.13 1481.85 Q133.959 1478.28 133.959 1471.17 Q133.959 1464.04 132.13 1460.5 Q130.325 1456.94 126.691 1456.94 M126.691 1453.23 Q132.501 1453.23 135.556 1457.84 Q138.635 1462.42 138.635 1471.17 Q138.635 1479.9 135.556 1484.51 Q132.501 1489.09 126.691 1489.09 Q120.88 1489.09 117.802 1484.51 Q114.746 1479.9 114.746 1471.17 Q114.746 1462.42 117.802 1457.84 Q120.88 1453.23 126.691 1453.23 Z\" fill=\"#000000\" fill-rule=\"evenodd\" fill-opacity=\"1\" /><path clip-path=\"url(#clip040)\" d=\"M 0 0 M143.704 1482.54 L148.589 1482.54 L148.589 1488.42 L143.704 1488.42 L143.704 1482.54 Z\" fill=\"#000000\" fill-rule=\"evenodd\" fill-opacity=\"1\" /><path clip-path=\"url(#clip040)\" d=\"M 0 0 M163.658 1456.94 Q160.047 1456.94 158.218 1460.5 Q156.413 1464.04 156.413 1471.17 Q156.413 1478.28 158.218 1481.85 Q160.047 1485.39 163.658 1485.39 Q167.292 1485.39 169.098 1481.85 Q170.927 1478.28 170.927 1471.17 Q170.927 1464.04 169.098 1460.5 Q167.292 1456.94 163.658 1456.94 M163.658 1453.23 Q169.468 1453.23 172.524 1457.84 Q175.602 1462.42 175.602 1471.17 Q175.602 1479.9 172.524 1484.51 Q169.468 1489.09 163.658 1489.09 Q157.848 1489.09 154.769 1484.51 Q151.714 1479.9 151.714 1471.17 Q151.714 1462.42 154.769 1457.84 Q157.848 1453.23 163.658 1453.23 Z\" fill=\"#000000\" fill-rule=\"evenodd\" fill-opacity=\"1\" /><path clip-path=\"url(#clip040)\" d=\"M 0 0 M128.288 1051.21 Q124.677 1051.21 122.848 1054.78 Q121.043 1058.32 121.043 1065.45 Q121.043 1072.55 122.848 1076.12 Q124.677 1079.66 128.288 1079.66 Q131.922 1079.66 133.728 1076.12 Q135.556 1072.55 135.556 1065.45 Q135.556 1058.32 133.728 1054.78 Q131.922 1051.21 128.288 1051.21 M128.288 1047.51 Q134.098 1047.51 137.154 1052.11 Q140.232 1056.7 140.232 1065.45 Q140.232 1074.17 137.154 1078.78 Q134.098 1083.36 128.288 1083.36 Q122.478 1083.36 119.399 1078.78 Q116.343 1074.17 116.343 1065.45 Q116.343 1056.7 119.399 1052.11 Q122.478 1047.51 128.288 1047.51 Z\" fill=\"#000000\" fill-rule=\"evenodd\" fill-opacity=\"1\" /><path clip-path=\"url(#clip040)\" d=\"M 0 0 M145.302 1076.81 L150.186 1076.81 L150.186 1082.69 L145.302 1082.69 L145.302 1076.81 Z\" fill=\"#000000\" fill-rule=\"evenodd\" fill-opacity=\"1\" /><path clip-path=\"url(#clip040)\" d=\"M 0 0 M159.283 1078.76 L175.602 1078.76 L175.602 1082.69 L153.658 1082.69 L153.658 1078.76 Q156.32 1076 160.903 1071.37 Q165.51 1066.72 166.69 1065.38 Q168.936 1062.85 169.815 1061.12 Q170.718 1059.36 170.718 1057.67 Q170.718 1054.91 168.774 1053.18 Q166.852 1051.44 163.751 1051.44 Q161.552 1051.44 159.098 1052.21 Q156.667 1052.97 153.89 1054.52 L153.89 1049.8 Q156.714 1048.66 159.167 1048.09 Q161.621 1047.51 163.658 1047.51 Q169.028 1047.51 172.223 1050.19 Q175.417 1052.88 175.417 1057.37 Q175.417 1059.5 174.607 1061.42 Q173.82 1063.32 171.714 1065.91 Q171.135 1066.58 168.033 1069.8 Q164.931 1072.99 159.283 1078.76 Z\" fill=\"#000000\" fill-rule=\"evenodd\" fill-opacity=\"1\" /><path clip-path=\"url(#clip040)\" d=\"M 0 0 M126.205 645.483 Q122.593 645.483 120.765 649.047 Q118.959 652.589 118.959 659.719 Q118.959 666.825 120.765 670.39 Q122.593 673.931 126.205 673.931 Q129.839 673.931 131.644 670.39 Q133.473 666.825 133.473 659.719 Q133.473 652.589 131.644 649.047 Q129.839 645.483 126.205 645.483 M126.205 641.779 Q132.015 641.779 135.07 646.385 Q138.149 650.969 138.149 659.719 Q138.149 668.445 135.07 673.052 Q132.015 677.635 126.205 677.635 Q120.394 677.635 117.316 673.052 Q114.26 668.445 114.26 659.719 Q114.26 650.969 117.316 646.385 Q120.394 641.779 126.205 641.779 Z\" fill=\"#000000\" fill-rule=\"evenodd\" fill-opacity=\"1\" /><path clip-path=\"url(#clip040)\" d=\"M 0 0 M143.218 671.084 L148.103 671.084 L148.103 676.964 L143.218 676.964 L143.218 671.084 Z\" fill=\"#000000\" fill-rule=\"evenodd\" fill-opacity=\"1\" /><path clip-path=\"url(#clip040)\" d=\"M 0 0 M166.019 646.478 L154.214 664.927 L166.019 664.927 L166.019 646.478 M164.792 642.404 L170.672 642.404 L170.672 664.927 L175.602 664.927 L175.602 668.816 L170.672 668.816 L170.672 676.964 L166.019 676.964 L166.019 668.816 L150.417 668.816 L150.417 664.302 L164.792 642.404 Z\" fill=\"#000000\" fill-rule=\"evenodd\" fill-opacity=\"1\" /><path clip-path=\"url(#clip040)\" d=\"M 0 0 M126.529 239.755 Q122.918 239.755 121.089 243.319 Q119.283 246.861 119.283 253.991 Q119.283 261.097 121.089 264.662 Q122.918 268.203 126.529 268.203 Q130.163 268.203 131.968 264.662 Q133.797 261.097 133.797 253.991 Q133.797 246.861 131.968 243.319 Q130.163 239.755 126.529 239.755 M126.529 236.051 Q132.339 236.051 135.394 240.657 Q138.473 245.241 138.473 253.991 Q138.473 262.717 135.394 267.324 Q132.339 271.907 126.529 271.907 Q120.718 271.907 117.64 267.324 Q114.584 262.717 114.584 253.991 Q114.584 245.241 117.64 240.657 Q120.718 236.051 126.529 236.051 Z\" fill=\"#000000\" fill-rule=\"evenodd\" fill-opacity=\"1\" /><path clip-path=\"url(#clip040)\" d=\"M 0 0 M143.542 265.356 L148.427 265.356 L148.427 271.236 L143.542 271.236 L143.542 265.356 Z\" fill=\"#000000\" fill-rule=\"evenodd\" fill-opacity=\"1\" /><path clip-path=\"url(#clip040)\" d=\"M 0 0 M164.075 252.092 Q160.927 252.092 159.075 254.245 Q157.246 256.398 157.246 260.148 Q157.246 263.875 159.075 266.051 Q160.927 268.203 164.075 268.203 Q167.223 268.203 169.052 266.051 Q170.903 263.875 170.903 260.148 Q170.903 256.398 169.052 254.245 Q167.223 252.092 164.075 252.092 M173.357 237.44 L173.357 241.699 Q171.598 240.866 169.792 240.426 Q168.01 239.986 166.251 239.986 Q161.621 239.986 159.167 243.111 Q156.737 246.236 156.39 252.555 Q157.755 250.542 159.815 249.477 Q161.876 248.389 164.352 248.389 Q169.561 248.389 172.57 251.56 Q175.602 254.708 175.602 260.148 Q175.602 265.472 172.454 268.69 Q169.306 271.907 164.075 271.907 Q158.079 271.907 154.908 267.324 Q151.737 262.717 151.737 253.991 Q151.737 245.796 155.626 240.935 Q159.515 236.051 166.065 236.051 Q167.825 236.051 169.607 236.398 Q171.413 236.745 173.357 237.44 Z\" fill=\"#000000\" fill-rule=\"evenodd\" fill-opacity=\"1\" /><path clip-path=\"url(#clip040)\" d=\"M 0 0 M82.657 910.886 L101.563 910.886 L101.563 916.774 L52.3562 916.774 L52.3562 910.886 L57.7671 910.886 Q54.5842 909.04 53.0564 906.239 Q51.4968 903.406 51.4968 899.491 Q51.4968 892.998 56.6531 888.956 Q61.8093 884.882 70.212 884.882 Q78.6147 884.882 83.771 888.956 Q88.9272 892.998 88.9272 899.491 Q88.9272 903.406 87.3994 906.239 Q85.8398 909.04 82.657 910.886 M70.212 890.961 Q63.7508 890.961 60.0905 893.635 Q56.3984 896.277 56.3984 900.924 Q56.3984 905.571 60.0905 908.244 Q63.7508 910.886 70.212 910.886 Q76.6732 910.886 80.3653 908.244 Q84.0256 905.571 84.0256 900.924 Q84.0256 896.277 80.3653 893.635 Q76.6732 890.961 70.212 890.961 Z\" fill=\"#000000\" fill-rule=\"evenodd\" fill-opacity=\"1\" /><path clip-path=\"url(#clip040)\" d=\"M 0 0 M57.8307 858.082 Q57.2578 859.069 57.0032 860.247 Q56.7167 861.393 56.7167 862.793 Q56.7167 867.758 59.9632 870.432 Q63.1779 873.074 69.2253 873.074 L88.0042 873.074 L88.0042 878.962 L52.3562 878.962 L52.3562 873.074 L57.8944 873.074 Q54.6479 871.228 53.0883 868.268 Q51.4968 865.308 51.4968 861.074 Q51.4968 860.47 51.5923 859.738 Q51.656 859.006 51.8151 858.114 L57.8307 858.082 Z\" fill=\"#000000\" fill-rule=\"evenodd\" fill-opacity=\"1\" /><path clip-path=\"url(#clip040)\" d=\"M 0 0 M56.4621 839.558 Q56.4621 844.269 60.1542 847.006 Q63.8145 849.743 70.212 849.743 Q76.6095 849.743 80.3017 847.038 Q83.9619 844.301 83.9619 839.558 Q83.9619 834.879 80.2698 832.142 Q76.5777 829.405 70.212 829.405 Q63.8781 829.405 60.186 832.142 Q56.4621 834.879 56.4621 839.558 M51.4968 839.558 Q51.4968 831.919 56.4621 827.559 Q61.4273 823.198 70.212 823.198 Q78.9649 823.198 83.9619 827.559 Q88.9272 831.919 88.9272 839.558 Q88.9272 847.229 83.9619 851.589 Q78.9649 855.918 70.212 855.918 Q61.4273 855.918 56.4621 851.589 Q51.4968 847.229 51.4968 839.558 Z\" fill=\"#000000\" fill-rule=\"evenodd\" fill-opacity=\"1\" /><path clip-path=\"url(#clip040)\" d=\"M 0 0 M70.212 791.465 Q63.7508 791.465 60.0905 794.139 Q56.3984 796.781 56.3984 801.428 Q56.3984 806.075 60.0905 808.748 Q63.7508 811.39 70.212 811.39 Q76.6732 811.39 80.3653 808.748 Q84.0256 806.075 84.0256 801.428 Q84.0256 796.781 80.3653 794.139 Q76.6732 791.465 70.212 791.465 M57.7671 811.39 Q54.5842 809.544 53.0564 806.743 Q51.4968 803.91 51.4968 799.995 Q51.4968 793.502 56.6531 789.46 Q61.8093 785.386 70.212 785.386 Q78.6147 785.386 83.771 789.46 Q88.9272 793.502 88.9272 799.995 Q88.9272 803.91 87.3994 806.743 Q85.8398 809.544 82.657 811.39 L88.0042 811.39 L88.0042 817.278 L38.479 817.278 L38.479 811.39 L57.7671 811.39 Z\" fill=\"#000000\" fill-rule=\"evenodd\" fill-opacity=\"1\" /><path clip-path=\"url(#clip040)\" d=\"M 0 0 M70.0847 763.042 Q70.0847 770.14 71.7079 772.877 Q73.3312 775.615 77.2461 775.615 Q80.3653 775.615 82.2114 773.578 Q84.0256 771.509 84.0256 767.976 Q84.0256 763.106 80.5881 760.178 Q77.1188 757.218 71.3897 757.218 L70.0847 757.218 L70.0847 763.042 M67.6657 751.361 L88.0042 751.361 L88.0042 757.218 L82.5933 757.218 Q85.8398 759.223 87.3994 762.215 Q88.9272 765.207 88.9272 769.535 Q88.9272 775.01 85.8716 778.257 Q82.7843 781.471 77.6281 781.471 Q71.6125 781.471 68.5569 777.461 Q65.5014 773.419 65.5014 765.43 L65.5014 757.218 L64.9285 757.218 Q60.8862 757.218 58.6901 759.891 Q56.4621 762.533 56.4621 767.339 Q56.4621 770.395 57.1941 773.291 Q57.9262 776.188 59.3903 778.861 L53.9795 778.861 Q52.7381 775.647 52.1334 772.623 Q51.4968 769.599 51.4968 766.735 Q51.4968 759 55.5072 755.181 Q59.5176 751.361 67.6657 751.361 Z\" fill=\"#000000\" fill-rule=\"evenodd\" fill-opacity=\"1\" /><path clip-path=\"url(#clip040)\" d=\"M 0 0 M70.212 719.628 Q63.7508 719.628 60.0905 722.302 Q56.3984 724.944 56.3984 729.591 Q56.3984 734.238 60.0905 736.911 Q63.7508 739.553 70.212 739.553 Q76.6732 739.553 80.3653 736.911 Q84.0256 734.238 84.0256 729.591 Q84.0256 724.944 80.3653 722.302 Q76.6732 719.628 70.212 719.628 M57.7671 739.553 Q54.5842 737.707 53.0564 734.906 Q51.4968 732.073 51.4968 728.158 Q51.4968 721.665 56.6531 717.623 Q61.8093 713.549 70.212 713.549 Q78.6147 713.549 83.771 717.623 Q88.9272 721.665 88.9272 728.158 Q88.9272 732.073 87.3994 734.906 Q85.8398 737.707 82.657 739.553 L88.0042 739.553 L88.0042 745.441 L38.479 745.441 L38.479 739.553 L57.7671 739.553 Z\" fill=\"#000000\" fill-rule=\"evenodd\" fill-opacity=\"1\" /><path clip-path=\"url(#clip040)\" d=\"M 0 0 M52.3562 707.406 L52.3562 701.55 L88.0042 701.55 L88.0042 707.406 L52.3562 707.406 M38.479 707.406 L38.479 701.55 L45.895 701.55 L45.895 707.406 L38.479 707.406 Z\" fill=\"#000000\" fill-rule=\"evenodd\" fill-opacity=\"1\" /><path clip-path=\"url(#clip040)\" d=\"M 0 0 M38.479 695.407 L38.479 689.55 L88.0042 689.55 L88.0042 695.407 L38.479 695.407 Z\" fill=\"#000000\" fill-rule=\"evenodd\" fill-opacity=\"1\" /><path clip-path=\"url(#clip040)\" d=\"M 0 0 M52.3562 683.407 L52.3562 677.551 L88.0042 677.551 L88.0042 683.407 L52.3562 683.407 M38.479 683.407 L38.479 677.551 L45.895 677.551 L45.895 683.407 L38.479 683.407 Z\" fill=\"#000000\" fill-rule=\"evenodd\" fill-opacity=\"1\" /><path clip-path=\"url(#clip040)\" d=\"M 0 0 M42.2347 665.615 L52.3562 665.615 L52.3562 653.552 L56.9077 653.552 L56.9077 665.615 L76.2594 665.615 Q80.6199 665.615 81.8613 664.438 Q83.1026 663.228 83.1026 659.568 L83.1026 653.552 L88.0042 653.552 L88.0042 659.568 Q88.0042 666.347 85.4897 668.926 Q82.9434 671.504 76.2594 671.504 L56.9077 671.504 L56.9077 675.8 L52.3562 675.8 L52.3562 671.504 L42.2347 671.504 L42.2347 665.615 Z\" fill=\"#000000\" fill-rule=\"evenodd\" fill-opacity=\"1\" /><path clip-path=\"url(#clip040)\" d=\"M 0 0 M91.3143 632.577 Q97.68 635.06 99.6216 637.415 Q101.563 639.771 101.563 643.717 L101.563 648.396 L96.6615 648.396 L96.6615 644.959 Q96.6615 642.54 95.5157 641.203 Q94.3699 639.866 90.1048 638.243 L87.4312 637.192 L52.3562 651.611 L52.3562 645.404 L80.238 634.264 L52.3562 623.124 L52.3562 616.918 L91.3143 632.577 Z\" fill=\"#000000\" fill-rule=\"evenodd\" fill-opacity=\"1\" /><polyline clip-path=\"url(#clip042)\" style=\"stroke:#009af9; stroke-width:4; stroke-opacity:1; fill:none\" points=\"\n",
       "  272.201,87.9763 373.199,455.341 474.197,724.092 575.195,920.936 676.192,1068.27 777.19,1172.06 878.188,1251.03 979.186,1307.35 1080.18,1347.27 1181.18,1376.18 \n",
       "  1282.18,1397.19 1383.18,1411.98 1484.17,1422.83 1585.17,1429.52 1686.17,1434.94 1787.17,1438.73 1888.17,1441.13 1989.16,1442.5 2090.16,1444.26 2191.16,1445.1 \n",
       "  2292.16,1445.72 \n",
       "  \"/>\n",
       "<circle clip-path=\"url(#clip042)\" cx=\"272.201\" cy=\"87.9763\" r=\"14\" fill=\"#009af9\" fill-rule=\"evenodd\" fill-opacity=\"1\" stroke=\"#000000\" stroke-opacity=\"1\" stroke-width=\"3.2\"/>\n",
       "<circle clip-path=\"url(#clip042)\" cx=\"373.199\" cy=\"455.341\" r=\"14\" fill=\"#009af9\" fill-rule=\"evenodd\" fill-opacity=\"1\" stroke=\"#000000\" stroke-opacity=\"1\" stroke-width=\"3.2\"/>\n",
       "<circle clip-path=\"url(#clip042)\" cx=\"474.197\" cy=\"724.092\" r=\"14\" fill=\"#009af9\" fill-rule=\"evenodd\" fill-opacity=\"1\" stroke=\"#000000\" stroke-opacity=\"1\" stroke-width=\"3.2\"/>\n",
       "<circle clip-path=\"url(#clip042)\" cx=\"575.195\" cy=\"920.936\" r=\"14\" fill=\"#009af9\" fill-rule=\"evenodd\" fill-opacity=\"1\" stroke=\"#000000\" stroke-opacity=\"1\" stroke-width=\"3.2\"/>\n",
       "<circle clip-path=\"url(#clip042)\" cx=\"676.192\" cy=\"1068.27\" r=\"14\" fill=\"#009af9\" fill-rule=\"evenodd\" fill-opacity=\"1\" stroke=\"#000000\" stroke-opacity=\"1\" stroke-width=\"3.2\"/>\n",
       "<circle clip-path=\"url(#clip042)\" cx=\"777.19\" cy=\"1172.06\" r=\"14\" fill=\"#009af9\" fill-rule=\"evenodd\" fill-opacity=\"1\" stroke=\"#000000\" stroke-opacity=\"1\" stroke-width=\"3.2\"/>\n",
       "<circle clip-path=\"url(#clip042)\" cx=\"878.188\" cy=\"1251.03\" r=\"14\" fill=\"#009af9\" fill-rule=\"evenodd\" fill-opacity=\"1\" stroke=\"#000000\" stroke-opacity=\"1\" stroke-width=\"3.2\"/>\n",
       "<circle clip-path=\"url(#clip042)\" cx=\"979.186\" cy=\"1307.35\" r=\"14\" fill=\"#009af9\" fill-rule=\"evenodd\" fill-opacity=\"1\" stroke=\"#000000\" stroke-opacity=\"1\" stroke-width=\"3.2\"/>\n",
       "<circle clip-path=\"url(#clip042)\" cx=\"1080.18\" cy=\"1347.27\" r=\"14\" fill=\"#009af9\" fill-rule=\"evenodd\" fill-opacity=\"1\" stroke=\"#000000\" stroke-opacity=\"1\" stroke-width=\"3.2\"/>\n",
       "<circle clip-path=\"url(#clip042)\" cx=\"1181.18\" cy=\"1376.18\" r=\"14\" fill=\"#009af9\" fill-rule=\"evenodd\" fill-opacity=\"1\" stroke=\"#000000\" stroke-opacity=\"1\" stroke-width=\"3.2\"/>\n",
       "<circle clip-path=\"url(#clip042)\" cx=\"1282.18\" cy=\"1397.19\" r=\"14\" fill=\"#009af9\" fill-rule=\"evenodd\" fill-opacity=\"1\" stroke=\"#000000\" stroke-opacity=\"1\" stroke-width=\"3.2\"/>\n",
       "<circle clip-path=\"url(#clip042)\" cx=\"1383.18\" cy=\"1411.98\" r=\"14\" fill=\"#009af9\" fill-rule=\"evenodd\" fill-opacity=\"1\" stroke=\"#000000\" stroke-opacity=\"1\" stroke-width=\"3.2\"/>\n",
       "<circle clip-path=\"url(#clip042)\" cx=\"1484.17\" cy=\"1422.83\" r=\"14\" fill=\"#009af9\" fill-rule=\"evenodd\" fill-opacity=\"1\" stroke=\"#000000\" stroke-opacity=\"1\" stroke-width=\"3.2\"/>\n",
       "<circle clip-path=\"url(#clip042)\" cx=\"1585.17\" cy=\"1429.52\" r=\"14\" fill=\"#009af9\" fill-rule=\"evenodd\" fill-opacity=\"1\" stroke=\"#000000\" stroke-opacity=\"1\" stroke-width=\"3.2\"/>\n",
       "<circle clip-path=\"url(#clip042)\" cx=\"1686.17\" cy=\"1434.94\" r=\"14\" fill=\"#009af9\" fill-rule=\"evenodd\" fill-opacity=\"1\" stroke=\"#000000\" stroke-opacity=\"1\" stroke-width=\"3.2\"/>\n",
       "<circle clip-path=\"url(#clip042)\" cx=\"1787.17\" cy=\"1438.73\" r=\"14\" fill=\"#009af9\" fill-rule=\"evenodd\" fill-opacity=\"1\" stroke=\"#000000\" stroke-opacity=\"1\" stroke-width=\"3.2\"/>\n",
       "<circle clip-path=\"url(#clip042)\" cx=\"1888.17\" cy=\"1441.13\" r=\"14\" fill=\"#009af9\" fill-rule=\"evenodd\" fill-opacity=\"1\" stroke=\"#000000\" stroke-opacity=\"1\" stroke-width=\"3.2\"/>\n",
       "<circle clip-path=\"url(#clip042)\" cx=\"1989.16\" cy=\"1442.5\" r=\"14\" fill=\"#009af9\" fill-rule=\"evenodd\" fill-opacity=\"1\" stroke=\"#000000\" stroke-opacity=\"1\" stroke-width=\"3.2\"/>\n",
       "<circle clip-path=\"url(#clip042)\" cx=\"2090.16\" cy=\"1444.26\" r=\"14\" fill=\"#009af9\" fill-rule=\"evenodd\" fill-opacity=\"1\" stroke=\"#000000\" stroke-opacity=\"1\" stroke-width=\"3.2\"/>\n",
       "<circle clip-path=\"url(#clip042)\" cx=\"2191.16\" cy=\"1445.1\" r=\"14\" fill=\"#009af9\" fill-rule=\"evenodd\" fill-opacity=\"1\" stroke=\"#000000\" stroke-opacity=\"1\" stroke-width=\"3.2\"/>\n",
       "<circle clip-path=\"url(#clip042)\" cx=\"2292.16\" cy=\"1445.72\" r=\"14\" fill=\"#009af9\" fill-rule=\"evenodd\" fill-opacity=\"1\" stroke=\"#000000\" stroke-opacity=\"1\" stroke-width=\"3.2\"/>\n",
       "<path clip-path=\"url(#clip040)\" d=\"\n",
       "M1636.72 216.178 L2281.38 216.178 L2281.38 95.2176 L1636.72 95.2176  Z\n",
       "  \" fill=\"#ffffff\" fill-rule=\"evenodd\" fill-opacity=\"1\"/>\n",
       "<polyline clip-path=\"url(#clip040)\" style=\"stroke:#000000; stroke-width:4; stroke-opacity:1; fill:none\" points=\"\n",
       "  1636.72,216.178 2281.38,216.178 2281.38,95.2176 1636.72,95.2176 1636.72,216.178 \n",
       "  \"/>\n",
       "<polyline clip-path=\"url(#clip040)\" style=\"stroke:#009af9; stroke-width:4; stroke-opacity:1; fill:none\" points=\"\n",
       "  1660.51,155.698 1803.26,155.698 \n",
       "  \"/>\n",
       "<circle clip-path=\"url(#clip040)\" cx=\"1731.88\" cy=\"155.698\" r=\"23\" fill=\"#009af9\" fill-rule=\"evenodd\" fill-opacity=\"1\" stroke=\"#000000\" stroke-opacity=\"1\" stroke-width=\"5.12\"/>\n",
       "<path clip-path=\"url(#clip040)\" d=\"M 0 0 M1847.56 148.047 L1847.56 152.029 Q1845.75 151.033 1843.92 150.547 Q1842.12 150.038 1840.26 150.038 Q1836.12 150.038 1833.83 152.677 Q1831.54 155.292 1831.54 160.038 Q1831.54 164.783 1833.83 167.422 Q1836.12 170.038 1840.26 170.038 Q1842.12 170.038 1843.92 169.552 Q1845.75 169.042 1847.56 168.047 L1847.56 171.982 Q1845.77 172.816 1843.85 173.232 Q1841.95 173.649 1839.8 173.649 Q1833.94 173.649 1830.49 169.968 Q1827.05 166.288 1827.05 160.038 Q1827.05 153.695 1830.52 150.061 Q1834.01 146.427 1840.08 146.427 Q1842.05 146.427 1843.92 146.843 Q1845.8 147.237 1847.56 148.047 Z\" fill=\"#000000\" fill-rule=\"evenodd\" fill-opacity=\"1\" /><path clip-path=\"url(#clip040)\" d=\"M 0 0 M1852.02 136.959 L1856.28 136.959 L1856.28 172.978 L1852.02 172.978 L1852.02 136.959 Z\" fill=\"#000000\" fill-rule=\"evenodd\" fill-opacity=\"1\" /><path clip-path=\"url(#clip040)\" d=\"M 0 0 M1860.31 162.746 L1860.31 147.052 L1864.57 147.052 L1864.57 162.584 Q1864.57 166.265 1866 168.116 Q1867.44 169.945 1870.31 169.945 Q1873.76 169.945 1875.75 167.746 Q1877.76 165.547 1877.76 161.751 L1877.76 147.052 L1882.02 147.052 L1882.02 172.978 L1877.76 172.978 L1877.76 168.996 Q1876.21 171.357 1874.15 172.515 Q1872.12 173.649 1869.41 173.649 Q1864.94 173.649 1862.62 170.871 Q1860.31 168.093 1860.31 162.746 M1871.03 146.427 L1871.03 146.427 Z\" fill=\"#000000\" fill-rule=\"evenodd\" fill-opacity=\"1\" /><path clip-path=\"url(#clip040)\" d=\"M 0 0 M1903.02 147.816 L1903.02 151.843 Q1901.21 150.917 1899.27 150.455 Q1897.32 149.992 1895.24 149.992 Q1892.07 149.992 1890.47 150.964 Q1888.9 151.936 1888.9 153.88 Q1888.9 155.362 1890.03 156.218 Q1891.17 157.052 1894.59 157.816 L1896.05 158.14 Q1900.59 159.112 1902.49 160.894 Q1904.41 162.654 1904.41 165.825 Q1904.41 169.436 1901.54 171.542 Q1898.69 173.649 1893.69 173.649 Q1891.61 173.649 1889.34 173.232 Q1887.09 172.839 1884.59 172.028 L1884.59 167.63 Q1886.95 168.857 1889.24 169.482 Q1891.54 170.084 1893.78 170.084 Q1896.79 170.084 1898.41 169.066 Q1900.03 168.024 1900.03 166.149 Q1900.03 164.413 1898.85 163.487 Q1897.69 162.561 1893.74 161.704 L1892.25 161.357 Q1888.3 160.524 1886.54 158.811 Q1884.78 157.075 1884.78 154.066 Q1884.78 150.408 1887.37 148.418 Q1889.96 146.427 1894.73 146.427 Q1897.09 146.427 1899.18 146.774 Q1901.26 147.121 1903.02 147.816 Z\" fill=\"#000000\" fill-rule=\"evenodd\" fill-opacity=\"1\" /><path clip-path=\"url(#clip040)\" d=\"M 0 0 M1913.09 139.691 L1913.09 147.052 L1921.86 147.052 L1921.86 150.362 L1913.09 150.362 L1913.09 164.436 Q1913.09 167.607 1913.94 168.51 Q1914.82 169.413 1917.49 169.413 L1921.86 169.413 L1921.86 172.978 L1917.49 172.978 Q1912.55 172.978 1910.68 171.149 Q1908.8 169.297 1908.8 164.436 L1908.8 150.362 L1905.68 150.362 L1905.68 147.052 L1908.8 147.052 L1908.8 139.691 L1913.09 139.691 Z\" fill=\"#000000\" fill-rule=\"evenodd\" fill-opacity=\"1\" /><path clip-path=\"url(#clip040)\" d=\"M 0 0 M1948.5 158.95 L1948.5 161.033 L1928.92 161.033 Q1929.2 165.431 1931.56 167.746 Q1933.94 170.038 1938.18 170.038 Q1940.63 170.038 1942.92 169.436 Q1945.24 168.834 1947.51 167.63 L1947.51 171.658 Q1945.22 172.63 1942.81 173.14 Q1940.4 173.649 1937.92 173.649 Q1931.72 173.649 1928.09 170.038 Q1924.48 166.427 1924.48 160.269 Q1924.48 153.904 1927.9 150.177 Q1931.35 146.427 1937.18 146.427 Q1942.42 146.427 1945.45 149.806 Q1948.5 153.163 1948.5 158.95 M1944.24 157.7 Q1944.2 154.205 1942.28 152.121 Q1940.38 150.038 1937.23 150.038 Q1933.67 150.038 1931.51 152.052 Q1929.38 154.066 1929.06 157.723 L1944.24 157.7 Z\" fill=\"#000000\" fill-rule=\"evenodd\" fill-opacity=\"1\" /><path clip-path=\"url(#clip040)\" d=\"M 0 0 M1967.99 151.033 Q1967.28 150.617 1966.42 150.431 Q1965.59 150.223 1964.57 150.223 Q1960.96 150.223 1959.01 152.584 Q1957.09 154.922 1957.09 159.32 L1957.09 172.978 L1952.81 172.978 L1952.81 147.052 L1957.09 147.052 L1957.09 151.08 Q1958.43 148.718 1960.59 147.584 Q1962.74 146.427 1965.82 146.427 Q1966.26 146.427 1966.79 146.496 Q1967.32 146.543 1967.97 146.658 L1967.99 151.033 Z\" fill=\"#000000\" fill-rule=\"evenodd\" fill-opacity=\"1\" /><path clip-path=\"url(#clip040)\" d=\"M 0 0 M1972.46 147.052 L1976.72 147.052 L1976.72 172.978 L1972.46 172.978 L1972.46 147.052 M1972.46 136.959 L1976.72 136.959 L1976.72 142.353 L1972.46 142.353 L1972.46 136.959 Z\" fill=\"#000000\" fill-rule=\"evenodd\" fill-opacity=\"1\" /><path clip-path=\"url(#clip040)\" d=\"M 0 0 M2002.74 157.329 L2002.74 172.978 L1998.48 172.978 L1998.48 157.468 Q1998.48 153.788 1997.04 151.959 Q1995.61 150.13 1992.74 150.13 Q1989.29 150.13 1987.3 152.33 Q1985.31 154.529 1985.31 158.325 L1985.31 172.978 L1981.03 172.978 L1981.03 147.052 L1985.31 147.052 L1985.31 151.08 Q1986.84 148.742 1988.9 147.584 Q1990.98 146.427 1993.69 146.427 Q1998.16 146.427 2000.45 149.205 Q2002.74 151.959 2002.74 157.329 Z\" fill=\"#000000\" fill-rule=\"evenodd\" fill-opacity=\"1\" /><path clip-path=\"url(#clip040)\" d=\"M 0 0 M2024.27 159.714 Q2024.27 155.084 2022.35 152.538 Q2020.45 149.992 2017 149.992 Q2013.57 149.992 2011.65 152.538 Q2009.75 155.084 2009.75 159.714 Q2009.75 164.32 2011.65 166.866 Q2013.57 169.413 2017 169.413 Q2020.45 169.413 2022.35 166.866 Q2024.27 164.32 2024.27 159.714 M2028.53 169.76 Q2028.53 176.38 2025.59 179.598 Q2022.65 182.839 2016.58 182.839 Q2014.34 182.839 2012.35 182.491 Q2010.36 182.167 2008.48 181.473 L2008.48 177.329 Q2010.36 178.348 2012.18 178.834 Q2014.01 179.32 2015.91 179.32 Q2020.1 179.32 2022.18 177.121 Q2024.27 174.945 2024.27 170.524 L2024.27 168.417 Q2022.95 170.709 2020.89 171.843 Q2018.83 172.978 2015.96 172.978 Q2011.19 172.978 2008.27 169.343 Q2005.36 165.709 2005.36 159.714 Q2005.36 153.695 2008.27 150.061 Q2011.19 146.427 2015.96 146.427 Q2018.83 146.427 2020.89 147.561 Q2022.95 148.695 2024.27 150.987 L2024.27 147.052 L2028.53 147.052 L2028.53 169.76 Z\" fill=\"#000000\" fill-rule=\"evenodd\" fill-opacity=\"1\" /><path clip-path=\"url(#clip040)\" d=\"M 0 0 M2066.72 148.047 L2066.72 152.029 Q2064.91 151.033 2063.09 150.547 Q2061.28 150.038 2059.43 150.038 Q2055.29 150.038 2052.99 152.677 Q2050.7 155.292 2050.7 160.038 Q2050.7 164.783 2052.99 167.422 Q2055.29 170.038 2059.43 170.038 Q2061.28 170.038 2063.09 169.552 Q2064.91 169.042 2066.72 168.047 L2066.72 171.982 Q2064.94 172.816 2063.02 173.232 Q2061.12 173.649 2058.97 173.649 Q2053.11 173.649 2049.66 169.968 Q2046.21 166.288 2046.21 160.038 Q2046.21 153.695 2049.68 150.061 Q2053.18 146.427 2059.24 146.427 Q2061.21 146.427 2063.09 146.843 Q2064.96 147.237 2066.72 148.047 Z\" fill=\"#000000\" fill-rule=\"evenodd\" fill-opacity=\"1\" /><path clip-path=\"url(#clip040)\" d=\"M 0 0 M2081.23 150.038 Q2077.81 150.038 2075.82 152.723 Q2073.83 155.385 2073.83 160.038 Q2073.83 164.691 2075.79 167.376 Q2077.79 170.038 2081.23 170.038 Q2084.64 170.038 2086.63 167.353 Q2088.62 164.667 2088.62 160.038 Q2088.62 155.431 2086.63 152.746 Q2084.64 150.038 2081.23 150.038 M2081.23 146.427 Q2086.79 146.427 2089.96 150.038 Q2093.13 153.649 2093.13 160.038 Q2093.13 166.404 2089.96 170.038 Q2086.79 173.649 2081.23 173.649 Q2075.66 173.649 2072.48 170.038 Q2069.34 166.404 2069.34 160.038 Q2069.34 153.649 2072.48 150.038 Q2075.66 146.427 2081.23 146.427 Z\" fill=\"#000000\" fill-rule=\"evenodd\" fill-opacity=\"1\" /><path clip-path=\"url(#clip040)\" d=\"M 0 0 M2119.78 158.95 L2119.78 161.033 L2100.19 161.033 Q2100.47 165.431 2102.83 167.746 Q2105.22 170.038 2109.45 170.038 Q2111.91 170.038 2114.2 169.436 Q2116.51 168.834 2118.78 167.63 L2118.78 171.658 Q2116.49 172.63 2114.08 173.14 Q2111.67 173.649 2109.2 173.649 Q2102.99 173.649 2099.36 170.038 Q2095.75 166.427 2095.75 160.269 Q2095.75 153.904 2099.17 150.177 Q2102.62 146.427 2108.46 146.427 Q2113.69 146.427 2116.72 149.806 Q2119.78 153.163 2119.78 158.95 M2115.52 157.7 Q2115.47 154.205 2113.55 152.121 Q2111.65 150.038 2108.5 150.038 Q2104.94 150.038 2102.79 152.052 Q2100.66 154.066 2100.33 157.723 L2115.52 157.7 Z\" fill=\"#000000\" fill-rule=\"evenodd\" fill-opacity=\"1\" /><path clip-path=\"url(#clip040)\" d=\"M 0 0 M2137.37 136.959 L2137.37 140.501 L2133.29 140.501 Q2131 140.501 2130.1 141.427 Q2129.22 142.353 2129.22 144.76 L2129.22 147.052 L2136.23 147.052 L2136.23 150.362 L2129.22 150.362 L2129.22 172.978 L2124.94 172.978 L2124.94 150.362 L2120.86 150.362 L2120.86 147.052 L2124.94 147.052 L2124.94 145.246 Q2124.94 140.918 2126.95 138.95 Q2128.97 136.959 2133.34 136.959 L2137.37 136.959 Z\" fill=\"#000000\" fill-rule=\"evenodd\" fill-opacity=\"1\" /><path clip-path=\"url(#clip040)\" d=\"M 0 0 M2154.96 136.959 L2154.96 140.501 L2150.89 140.501 Q2148.6 140.501 2147.69 141.427 Q2146.81 142.353 2146.81 144.76 L2146.81 147.052 L2153.83 147.052 L2153.83 150.362 L2146.81 150.362 L2146.81 172.978 L2142.53 172.978 L2142.53 150.362 L2138.46 150.362 L2138.46 147.052 L2142.53 147.052 L2142.53 145.246 Q2142.53 140.918 2144.54 138.95 Q2146.56 136.959 2150.93 136.959 L2154.96 136.959 Z\" fill=\"#000000\" fill-rule=\"evenodd\" fill-opacity=\"1\" /><path clip-path=\"url(#clip040)\" d=\"M 0 0 M2159.43 147.052 L2163.69 147.052 L2163.69 172.978 L2159.43 172.978 L2159.43 147.052 M2159.43 136.959 L2163.69 136.959 L2163.69 142.353 L2159.43 142.353 L2159.43 136.959 Z\" fill=\"#000000\" fill-rule=\"evenodd\" fill-opacity=\"1\" /><path clip-path=\"url(#clip040)\" d=\"M 0 0 M2190.33 158.95 L2190.33 161.033 L2170.75 161.033 Q2171.03 165.431 2173.39 167.746 Q2175.77 170.038 2180.01 170.038 Q2182.46 170.038 2184.75 169.436 Q2187.07 168.834 2189.34 167.63 L2189.34 171.658 Q2187.04 172.63 2184.64 173.14 Q2182.23 173.649 2179.75 173.649 Q2173.55 173.649 2169.91 170.038 Q2166.3 166.427 2166.3 160.269 Q2166.3 153.904 2169.73 150.177 Q2173.18 146.427 2179.01 146.427 Q2184.24 146.427 2187.28 149.806 Q2190.33 153.163 2190.33 158.95 M2186.07 157.7 Q2186.03 154.205 2184.1 152.121 Q2182.21 150.038 2179.06 150.038 Q2175.49 150.038 2173.34 152.052 Q2171.21 154.066 2170.89 157.723 L2186.07 157.7 Z\" fill=\"#000000\" fill-rule=\"evenodd\" fill-opacity=\"1\" /><path clip-path=\"url(#clip040)\" d=\"M 0 0 M2216.35 157.329 L2216.35 172.978 L2212.09 172.978 L2212.09 157.468 Q2212.09 153.788 2210.65 151.959 Q2209.22 150.13 2206.35 150.13 Q2202.9 150.13 2200.91 152.33 Q2198.92 154.529 2198.92 158.325 L2198.92 172.978 L2194.64 172.978 L2194.64 147.052 L2198.92 147.052 L2198.92 151.08 Q2200.45 148.742 2202.51 147.584 Q2204.59 146.427 2207.3 146.427 Q2211.77 146.427 2214.06 149.205 Q2216.35 151.959 2216.35 157.329 Z\" fill=\"#000000\" fill-rule=\"evenodd\" fill-opacity=\"1\" /><path clip-path=\"url(#clip040)\" d=\"M 0 0 M2225.03 139.691 L2225.03 147.052 L2233.8 147.052 L2233.8 150.362 L2225.03 150.362 L2225.03 164.436 Q2225.03 167.607 2225.89 168.51 Q2226.77 169.413 2229.43 169.413 L2233.8 169.413 L2233.8 172.978 L2229.43 172.978 Q2224.5 172.978 2222.62 171.149 Q2220.75 169.297 2220.75 164.436 L2220.75 150.362 L2217.62 150.362 L2217.62 147.052 L2220.75 147.052 L2220.75 139.691 L2225.03 139.691 Z\" fill=\"#000000\" fill-rule=\"evenodd\" fill-opacity=\"1\" /></svg>\n"
      ]
     },
     "execution_count": 248,
     "metadata": {},
     "output_type": "execute_result"
    }
   ],
   "source": [
    "plot(p_vals, mean(Vm, dims=2), marker=true, label=\"clustering coeffient\")\n",
    "plot!(ylabel=\"probability\")"
   ]
  }
 ],
 "metadata": {
  "kernelspec": {
   "display_name": "Julia 1.5.3",
   "language": "julia",
   "name": "julia-1.5"
  },
  "language_info": {
   "file_extension": ".jl",
   "mimetype": "application/julia",
   "name": "julia",
   "version": "1.5.3"
  }
 },
 "nbformat": 4,
 "nbformat_minor": 4
}
