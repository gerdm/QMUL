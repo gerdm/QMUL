{
 "cells": [
  {
   "cell_type": "code",
   "execution_count": 103,
   "metadata": {},
   "outputs": [],
   "source": [
    "using Plots\n",
    "using Einsum\n",
    "using LightGraphs\n",
    "using Statistics: mean, std\n",
    "using Combinatorics: combinations"
   ]
  },
  {
   "cell_type": "code",
   "execution_count": 67,
   "metadata": {},
   "outputs": [
    {
     "data": {
      "text/plain": [
       "8"
      ]
     },
     "execution_count": 67,
     "metadata": {},
     "output_type": "execute_result"
    }
   ],
   "source": [
    "Threads.nthreads()"
   ]
  },
  {
   "cell_type": "code",
   "execution_count": 15,
   "metadata": {},
   "outputs": [
    {
     "data": {
      "text/plain": [
       "sample_triple (generic function with 1 method)"
      ]
     },
     "execution_count": 15,
     "metadata": {},
     "output_type": "execute_result"
    }
   ],
   "source": [
    "function sample_triple(N, c)\n",
    "    p = c / binomial(N - 1, 2)\n",
    "    G = SimpleGraph(N)\n",
    "    for (n1, n2, n3) in combinations(1:N, 3)\n",
    "        if p > rand()\n",
    "            add_edge!(G, n1, n2)\n",
    "            add_edge!(G, n1, n3)\n",
    "            add_edge!(G, n2, n3)\n",
    "        end\n",
    "    end\n",
    "    return G\n",
    "end"
   ]
  },
  {
   "cell_type": "code",
   "execution_count": 65,
   "metadata": {},
   "outputs": [
    {
     "name": "stdout",
     "output_type": "stream",
     "text": [
      " 12.914206 seconds (332.34 M allocations: 22.285 GiB, 18.45% gc time)\n"
     ]
    },
    {
     "data": {
      "text/plain": [
       "{1000, 2017} undirected simple Int64 graph"
      ]
     },
     "execution_count": 65,
     "metadata": {},
     "output_type": "execute_result"
    }
   ],
   "source": [
    "N, c = 1000, 2\n",
    "@time begin\n",
    "    G = sample_triple(N, c)\n",
    "end"
   ]
  },
  {
   "cell_type": "code",
   "execution_count": 99,
   "metadata": {},
   "outputs": [
    {
     "name": "stdout",
     "output_type": "stream",
     "text": [
      " 78.602610 seconds (3.99 G allocations: 267.420 GiB, 52.85% gc time)\n"
     ]
    }
   ],
   "source": [
    "n_triangles = zeros(12)\n",
    "\n",
    "@time begin\n",
    "    Threads.@threads for n=1:12\n",
    "        G = sample_triple(N, c)\n",
    "        n△ = sum(triangles(G)) / 3\n",
    "        n_triangles[n] = n△\n",
    "    end\n",
    "end"
   ]
  },
  {
   "cell_type": "code",
   "execution_count": 106,
   "metadata": {},
   "outputs": [
    {
     "data": {
      "text/plain": [
       "2-element Array{Float64,1}:\n",
       " 659.8092084281187\n",
       " 699.1907915718813"
      ]
     },
     "execution_count": 106,
     "metadata": {},
     "output_type": "execute_result"
    }
   ],
   "source": [
    "mean(n_triangles) .+ [-1, 1] * std(n_triangles)"
   ]
  },
  {
   "cell_type": "code",
   "execution_count": 108,
   "metadata": {},
   "outputs": [
    {
     "data": {
      "text/plain": [
       "665.3333333333333"
      ]
     },
     "execution_count": 108,
     "metadata": {},
     "output_type": "execute_result"
    }
   ],
   "source": [
    "# Expected number of triangles\n",
    "binomial(N, 3) * p"
   ]
  },
  {
   "cell_type": "code",
   "execution_count": 96,
   "metadata": {},
   "outputs": [
    {
     "data": {
      "text/plain": [
       "685.0"
      ]
     },
     "execution_count": 96,
     "metadata": {},
     "output_type": "execute_result"
    }
   ],
   "source": [
    "Ag = adjacency_matrix(G)\n",
    "tr(Ag * Ag * Ag) / 6"
   ]
  },
  {
   "cell_type": "code",
   "execution_count": 97,
   "metadata": {},
   "outputs": [
    {
     "data": {
      "text/plain": [
       "4.004004004004004e-6"
      ]
     },
     "execution_count": 97,
     "metadata": {},
     "output_type": "execute_result"
    }
   ],
   "source": [
    "p = c / binomial(N, 2)"
   ]
  }
 ],
 "metadata": {
  "kernelspec": {
   "display_name": "Julia 1.5.3",
   "language": "julia",
   "name": "julia-1.5"
  },
  "language_info": {
   "file_extension": ".jl",
   "mimetype": "application/julia",
   "name": "julia",
   "version": "1.5.3"
  }
 },
 "nbformat": 4,
 "nbformat_minor": 4
}
