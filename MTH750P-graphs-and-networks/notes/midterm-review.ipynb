{
 "cells": [
  {
   "cell_type": "markdown",
   "metadata": {},
   "source": [
    "# Midterm Review"
   ]
  },
  {
   "cell_type": "code",
   "execution_count": 1,
   "metadata": {},
   "outputs": [],
   "source": [
    "import numpy as np\n",
    "import matplotlib.pyplot as plt\n",
    "import networkx as nx"
   ]
  },
  {
   "cell_type": "code",
   "execution_count": 269,
   "metadata": {},
   "outputs": [],
   "source": [
    "from scipy.special import comb\n",
    "from scipy.stats import binom\n",
    "from itertools import combinations\n",
    "from numpy.random import rand"
   ]
  },
  {
   "cell_type": "code",
   "execution_count": 321,
   "metadata": {},
   "outputs": [],
   "source": [
    "%config InlineBackend.figure_format = \"retina\""
   ]
  },
  {
   "cell_type": "markdown",
   "metadata": {},
   "source": [
    "## Question 1"
   ]
  },
  {
   "cell_type": "code",
   "execution_count": 322,
   "metadata": {},
   "outputs": [
    {
     "data": {
      "text/plain": [
       "array([2, 3, 1, 2, 1, 1])"
      ]
     },
     "execution_count": 322,
     "metadata": {},
     "output_type": "execute_result"
    }
   ],
   "source": [
    "A = np.array([\n",
    "    [0, 1, 0, 1, 0, 0],\n",
    "    [1, 0, 0, 0, 0, 0],\n",
    "    [0, 1, 0, 1, 0, 0],\n",
    "    [1, 1, 1, 0, 0, 0],\n",
    "    [0, 0, 0, 0, 0, 1],\n",
    "    [0, 0, 0, 0, 1, 0]\n",
    "])\n",
    "\n",
    "# out-degree\n",
    "A.sum(axis=0)"
   ]
  },
  {
   "cell_type": "code",
   "execution_count": 323,
   "metadata": {},
   "outputs": [
    {
     "data": {
      "text/plain": [
       "array([2, 1, 2, 3, 1, 1])"
      ]
     },
     "execution_count": 323,
     "metadata": {},
     "output_type": "execute_result"
    }
   ],
   "source": [
    "# in-degree\n",
    "A.sum(axis=1)"
   ]
  },
  {
   "cell_type": "code",
   "execution_count": 331,
   "metadata": {},
   "outputs": [
    {
     "data": {
      "image/png": "[encoded data removed]",
      "text/plain": [
       "<Figure size 432x288 with 1 Axes>"
      ]
     },
     "metadata": {
      "image/png": {
       "height": 302,
       "width": 446
      }
     },
     "output_type": "display_data"
    }
   ],
   "source": [
    "G = nx.DiGraph(A)\n",
    "G = nx.relabel.relabel_nodes(G, {i: i+1 for i in range(6)})\n",
    "nx.draw(G, with_labels=True)"
   ]
  },
  {
   "cell_type": "code",
   "execution_count": 344,
   "metadata": {},
   "outputs": [],
   "source": [
    "H = np.array([\n",
    "    [0, 1, 0, 1, 0, 1],\n",
    "    [1, 0, 0, 0, 0, 0],\n",
    "    [0, 1, 0, 1, 0, 0],\n",
    "    [1, 1, 1, 0, 0, 0],\n",
    "    [1, 0, 0, 0, 0, 1],\n",
    "    [0, 0, 0, 0, 1, 0]\n",
    "])\n",
    "\n",
    "Gh = nx.DiGraph(H)\n",
    "Gh = nx.relabel_nodes(Gh, {i: i+1 for i in range(6)})"
   ]
  },
  {
   "cell_type": "code",
   "execution_count": 345,
   "metadata": {},
   "outputs": [
    {
     "name": "stdout",
     "output_type": "stream",
     "text": [
      "1 {1: 0, 2: 1, 4: 1, 6: 1, 3: 2, 5: 2}\n",
      "2 {2: 0, 1: 1, 4: 2, 6: 2, 3: 3, 5: 3}\n",
      "3 {3: 0, 2: 1, 4: 1, 1: 2, 6: 3, 5: 4}\n",
      "4 {4: 0, 1: 1, 2: 1, 3: 1, 6: 2, 5: 3}\n",
      "5 {5: 0, 1: 1, 6: 1, 2: 2, 4: 2, 3: 3}\n",
      "6 {6: 0, 5: 1, 1: 2, 2: 3, 4: 3, 3: 4}\n"
     ]
    }
   ],
   "source": [
    "for node, path in nx.all_pairs_shortest_path_length(Gh):\n",
    "    print(node, path)"
   ]
  },
  {
   "cell_type": "markdown",
   "metadata": {},
   "source": [
    "## Question 2"
   ]
  },
  {
   "cell_type": "code",
   "execution_count": 289,
   "metadata": {},
   "outputs": [],
   "source": [
    "N = 6\n",
    "p = 0.3\n",
    "\n",
    "k = 4"
   ]
  },
  {
   "cell_type": "code",
   "execution_count": 290,
   "metadata": {},
   "outputs": [
    {
     "data": {
      "text/plain": [
       "0.05953499999999999"
      ]
     },
     "execution_count": 290,
     "metadata": {},
     "output_type": "execute_result"
    }
   ],
   "source": [
    "binom.pmf(k, N, p)"
   ]
  },
  {
   "cell_type": "code",
   "execution_count": 291,
   "metadata": {},
   "outputs": [
    {
     "data": {
      "text/plain": [
       "5.0"
      ]
     },
     "execution_count": 291,
     "metadata": {},
     "output_type": "execute_result"
    }
   ],
   "source": [
    "comb(N-1, k)"
   ]
  },
  {
   "cell_type": "code",
   "execution_count": 292,
   "metadata": {},
   "outputs": [],
   "source": [
    "def Gb(N, p):\n",
    "    links = [link for link in combinations(range(N), 2) if rand() > p]\n",
    "    return links"
   ]
  },
  {
   "cell_type": "code",
   "execution_count": 309,
   "metadata": {},
   "outputs": [],
   "source": [
    "n_rounds = 10_000\n",
    "\n",
    "p_vec = np.zeros(n_rounds)\n",
    "for n in range(n_rounds):\n",
    "    G = nx.from_edgelist(Gb(N, p))\n",
    "    pv = np.array(G.degree)[:, 1]\n",
    "    pv = (pv == k).any()\n",
    "    p_vec[n] = pv"
   ]
  },
  {
   "cell_type": "code",
   "execution_count": 310,
   "metadata": {},
   "outputs": [
    {
     "data": {
      "text/plain": [
       "array([5, 4, 2, 2, 3, 2])"
      ]
     },
     "execution_count": 310,
     "metadata": {},
     "output_type": "execute_result"
    }
   ],
   "source": [
    "G = nx.from_edgelist(Gb(N, p))\n",
    "np.array(G.degree)[:, 1]"
   ]
  },
  {
   "cell_type": "code",
   "execution_count": 311,
   "metadata": {},
   "outputs": [
    {
     "data": {
      "text/plain": [
       "0.9044"
      ]
     },
     "execution_count": 311,
     "metadata": {},
     "output_type": "execute_result"
    }
   ],
   "source": [
    "p_vec.mean()"
   ]
  }
 ],
 "metadata": {
  "kernelspec": {
   "display_name": "Python 3",
   "language": "python",
   "name": "python3"
  },
  "language_info": {
   "codemirror_mode": {
    "name": "ipython",
    "version": 3
   },
   "file_extension": ".py",
   "mimetype": "text/x-python",
   "name": "python",
   "nbconvert_exporter": "python",
   "pygments_lexer": "ipython3",
   "version": "3.8.3"
  }
 },
 "nbformat": 4,
 "nbformat_minor": 4
}
