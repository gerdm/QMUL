{
 "cells": [
  {
   "cell_type": "markdown",
   "metadata": {},
   "source": [
    "# Final Review"
   ]
  },
  {
   "cell_type": "code",
   "execution_count": 1,
   "metadata": {},
   "outputs": [],
   "source": [
    "import jax.numpy as jnp\n",
    "import matplotlib.pyplot as plt\n",
    "from jax import grad, random"
   ]
  },
  {
   "cell_type": "markdown",
   "metadata": {},
   "source": [
    "## The Bregman Proximal method\n",
    "\n",
    "\n",
    "Formulate the Bregman proximal method given a function $E:\\mathbb{R}^N \\to \\mathbb{R}$ for the choice \n",
    "\n",
    "$$\n",
    "    J({\\bf x}) = \\frac{1}{\\tau}\\sum_{j=1}^N\\left[(1-x_n)\\log(1-x_n) + x_n \\log(x_n) -1 \\right]\n",
    "$$\n",
    "\n",
    "\n",
    "The Bregman distance for the given choice $J$ is given by\n",
    "\n",
    "$$\n",
    "    D_J({\\bf u}, {\\bf v}) = \\sum_{n=1}^N u_n \\left[ \\log\\left(\\frac{u_n}{v_n}\\right) + (1 - u_n) \\log\\left(\\frac{1-u_n}{1-v_n}\\right) \\right]\n",
    "$$"
   ]
  },
  {
   "cell_type": "code",
   "execution_count": 4,
   "metadata": {
    "scrolled": true
   },
   "outputs": [
    {
     "data": {
      "text/plain": [
       "array([0.6010489 , 0.4508557 , 0.35213393, 0.02290265, 0.69061667,\n",
       "       0.48838946, 0.44977003, 0.7096753 , 0.85323936, 0.19534549,\n",
       "       0.45806506, 0.3516461 , 0.21225834, 0.45255467, 0.19804347],\n",
       "      dtype=float32)"
      ]
     },
     "execution_count": 4,
     "metadata": {},
     "output_type": "execute_result"
    }
   ],
   "source": [
    "key = random.PRNGKey(0)\n",
    "x, y = jnp.abs(random.beta(key, 2, 4, (2, 15)))\n",
    "x"
   ]
  },
  {
   "cell_type": "code",
   "execution_count": 5,
   "metadata": {},
   "outputs": [],
   "source": [
    "def J(x, τ=1):\n",
    "    v =  1/τ * ((1 - x) * jnp.log(1 - x) + x * jnp.log(x)) - 1\n",
    "    return jnp.sum(v)\n",
    "\n",
    "def dxJ_exact(x, τ=1):\n",
    "    return 1/τ * jnp.log(x / (1 - x))\n",
    "\n",
    "dxJ = grad(J)"
   ]
  },
  {
   "cell_type": "code",
   "execution_count": 6,
   "metadata": {},
   "outputs": [
    {
     "data": {
      "text/plain": [
       "DeviceArray([ 0.40983742, -0.19721389, -0.6096724 , -3.7533333 ,\n",
       "              0.8030039 , -0.0464505 , -0.2015999 ,  0.89380765,\n",
       "              1.7602372 , -1.4156432 , -0.16813481, -0.61181146,\n",
       "             -1.3113661 , -0.19035393, -1.3985679 ], dtype=float32)"
      ]
     },
     "execution_count": 6,
     "metadata": {},
     "output_type": "execute_result"
    }
   ],
   "source": [
    "dxJ(x)"
   ]
  },
  {
   "cell_type": "code",
   "execution_count": 7,
   "metadata": {},
   "outputs": [
    {
     "data": {
      "text/plain": [
       "DeviceArray([ 0.40983737, -0.19721383, -0.60967237, -3.7533333 ,\n",
       "              0.80300385, -0.04645047, -0.2015999 ,  0.89380765,\n",
       "              1.7602372 , -1.4156432 , -0.16813473, -0.6118114 ,\n",
       "             -1.3113661 , -0.19035396, -1.3985679 ], dtype=float32)"
      ]
     },
     "execution_count": 7,
     "metadata": {},
     "output_type": "execute_result"
    }
   ],
   "source": [
    "dxJ_exact(x)"
   ]
  },
  {
   "cell_type": "code",
   "execution_count": 8,
   "metadata": {},
   "outputs": [],
   "source": [
    "def bregman_bern_exact(u, v, τ=1):\n",
    "    \"\"\"\n",
    "    Compute the exact bregman distance for with respect\n",
    "    to the the bernoulli log-likelihood minus N\n",
    "    \"\"\"\n",
    "    res = 1 / τ * (u * jnp.log(u / v) + (1 - u) * jnp.log((1 - u) / (1 - v)))\n",
    "    return jnp.sum(res)\n",
    "\n",
    "\n",
    "def bregman(u, v, J):\n",
    "    \"\"\"\n",
    "    Generalized Bregman distance for arbitrary,\n",
    "    differentiable, and convex choice of J\n",
    "    \"\"\"\n",
    "    dxJ = grad(J)\n",
    "    return J(u) - J(v) - dxJ(v) @ (u - v)"
   ]
  },
  {
   "cell_type": "code",
   "execution_count": 9,
   "metadata": {},
   "outputs": [
    {
     "data": {
      "text/plain": [
       "DeviceArray(7.044682, dtype=float32)"
      ]
     },
     "execution_count": 9,
     "metadata": {},
     "output_type": "execute_result"
    }
   ],
   "source": [
    "bregman_bern_exact(x, y, 0.4)"
   ]
  },
  {
   "cell_type": "code",
   "execution_count": 10,
   "metadata": {},
   "outputs": [
    {
     "data": {
      "text/plain": [
       "DeviceArray(7.0446863, dtype=float32)"
      ]
     },
     "execution_count": 10,
     "metadata": {},
     "output_type": "execute_result"
    }
   ],
   "source": [
    "bregman(x, y, lambda u: J(u, 0.4))"
   ]
  },
  {
   "cell_type": "markdown",
   "metadata": {},
   "source": [
    "### Comparing the asymmetry"
   ]
  },
  {
   "cell_type": "code",
   "execution_count": 12,
   "metadata": {},
   "outputs": [
    {
     "data": {
      "text/plain": [
       "DeviceArray(2.817871, dtype=float32)"
      ]
     },
     "execution_count": 12,
     "metadata": {},
     "output_type": "execute_result"
    }
   ],
   "source": [
    "bregman(x, y, J)"
   ]
  },
  {
   "cell_type": "code",
   "execution_count": 13,
   "metadata": {},
   "outputs": [
    {
     "data": {
      "text/plain": [
       "DeviceArray(3.3040211, dtype=float32)"
      ]
     },
     "execution_count": 13,
     "metadata": {},
     "output_type": "execute_result"
    }
   ],
   "source": [
    "bregman(y, x, J)"
   ]
  },
  {
   "cell_type": "code",
   "execution_count": null,
   "metadata": {},
   "outputs": [],
   "source": []
  }
 ],
 "metadata": {
  "kernelspec": {
   "display_name": "Python 3",
   "language": "python",
   "name": "python3"
  },
  "language_info": {
   "codemirror_mode": {
    "name": "ipython",
    "version": 3
   },
   "file_extension": ".py",
   "mimetype": "text/x-python",
   "name": "python",
   "nbconvert_exporter": "python",
   "pygments_lexer": "ipython3",
   "version": "3.8.3"
  }
 },
 "nbformat": 4,
 "nbformat_minor": 4
}
