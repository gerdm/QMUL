{
 "cells": [
  {
   "cell_type": "markdown",
   "metadata": {},
   "source": [
    "# Final Review"
   ]
  },
  {
   "cell_type": "code",
   "execution_count": 1,
   "metadata": {},
   "outputs": [],
   "source": [
    "import numpy as np\n",
    "import jax.numpy as jnp\n",
    "import matplotlib.pyplot as plt\n",
    "from jax import grad, random\n",
    "from mpl_toolkits.mplot3d import Axes3D\n",
    "from itertools import product"
   ]
  },
  {
   "cell_type": "code",
   "execution_count": 2,
   "metadata": {},
   "outputs": [],
   "source": [
    "%config InlineBackend.figure_format = \"retina\""
   ]
  },
  {
   "cell_type": "markdown",
   "metadata": {},
   "source": [
    "## The Bregman Proximal method\n",
    "\n",
    "\n",
    "Formulate the Bregman proximal method given a function $E:\\mathbb{R}^N \\to \\mathbb{R}$ for the choice \n",
    "\n",
    "$$\n",
    "    J({\\bf x}) = \\frac{1}{\\tau}\\sum_{j=1}^N\\left[(1-x_n)\\log(1-x_n) + x_n \\log(x_n) -1 \\right]\n",
    "$$\n",
    "\n",
    "\n",
    "The Bregman distance for the given choice $J$ is given by\n",
    "\n",
    "$$\n",
    "    D_J({\\bf u}, {\\bf v}) = \\sum_{n=1}^N u_n \\left[ \\log\\left(\\frac{u_n}{v_n}\\right) + (1 - u_n) \\log\\left(\\frac{1-u_n}{1-v_n}\\right) \\right]\n",
    "$$"
   ]
  },
  {
   "cell_type": "code",
   "execution_count": 3,
   "metadata": {
    "scrolled": true
   },
   "outputs": [
    {
     "name": "stderr",
     "output_type": "stream",
     "text": [
      "WARNING:absl:No GPU/TPU found, falling back to CPU. (Set TF_CPP_MIN_LOG_LEVEL=0 and rerun for more info.)\n"
     ]
    },
    {
     "data": {
      "text/plain": [
       "array([0.6010489 , 0.4508557 , 0.35213393, 0.02290265, 0.69061667,\n",
       "       0.48838946, 0.44977003, 0.7096753 , 0.85323936, 0.19534549,\n",
       "       0.45806506, 0.3516461 , 0.21225834, 0.45255467, 0.19804347],\n",
       "      dtype=float32)"
      ]
     },
     "execution_count": 3,
     "metadata": {},
     "output_type": "execute_result"
    }
   ],
   "source": [
    "key = random.PRNGKey(0)\n",
    "x, y = jnp.abs(random.beta(key, 2, 4, (2, 15)))\n",
    "x"
   ]
  },
  {
   "cell_type": "code",
   "execution_count": 4,
   "metadata": {},
   "outputs": [],
   "source": [
    "def J(x, τ=1):\n",
    "    v =  1/τ * ((1 - x) * jnp.log(1 - x) + x * jnp.log(x)) - 1\n",
    "    return jnp.sum(v)\n",
    "\n",
    "def dxJ_exact(x, τ=1):\n",
    "    return 1/τ * jnp.log(x / (1 - x))\n",
    "\n",
    "dxJ = grad(J)"
   ]
  },
  {
   "cell_type": "code",
   "execution_count": 5,
   "metadata": {},
   "outputs": [
    {
     "data": {
      "text/plain": [
       "DeviceArray([ 0.40983742, -0.19721389, -0.6096724 , -3.7533333 ,\n",
       "              0.8030039 , -0.0464505 , -0.2015999 ,  0.89380765,\n",
       "              1.7602372 , -1.4156432 , -0.16813481, -0.61181146,\n",
       "             -1.3113661 , -0.19035393, -1.3985679 ], dtype=float32)"
      ]
     },
     "execution_count": 5,
     "metadata": {},
     "output_type": "execute_result"
    }
   ],
   "source": [
    "dxJ(x)"
   ]
  },
  {
   "cell_type": "code",
   "execution_count": 6,
   "metadata": {},
   "outputs": [
    {
     "data": {
      "text/plain": [
       "DeviceArray([ 0.40983737, -0.19721383, -0.60967237, -3.7533333 ,\n",
       "              0.80300385, -0.04645047, -0.2015999 ,  0.89380765,\n",
       "              1.7602372 , -1.4156432 , -0.16813473, -0.6118114 ,\n",
       "             -1.3113661 , -0.19035396, -1.3985679 ], dtype=float32)"
      ]
     },
     "execution_count": 6,
     "metadata": {},
     "output_type": "execute_result"
    }
   ],
   "source": [
    "dxJ_exact(x)"
   ]
  },
  {
   "cell_type": "code",
   "execution_count": 7,
   "metadata": {},
   "outputs": [],
   "source": [
    "def bregman_bern_exact(u, v, τ=1):\n",
    "    \"\"\"\n",
    "    Compute the exact bregman distance for with respect\n",
    "    to the the bernoulli log-likelihood minus N\n",
    "    \"\"\"\n",
    "    res = 1 / τ * (u * jnp.log(u / v) + (1 - u) * jnp.log((1 - u) / (1 - v)))\n",
    "    return jnp.sum(res)\n",
    "\n",
    "\n",
    "def bregman(u, v, J):\n",
    "    \"\"\"\n",
    "    Generalized Bregman distance for arbitrary,\n",
    "    differentiable, and convex choice of J\n",
    "    \"\"\"\n",
    "    dxJ = grad(J)\n",
    "    return J(u) - J(v) - dxJ(v) @ (u - v)"
   ]
  },
  {
   "cell_type": "code",
   "execution_count": 8,
   "metadata": {},
   "outputs": [
    {
     "data": {
      "text/plain": [
       "DeviceArray(7.044682, dtype=float32)"
      ]
     },
     "execution_count": 8,
     "metadata": {},
     "output_type": "execute_result"
    }
   ],
   "source": [
    "bregman_bern_exact(x, y, 0.4)"
   ]
  },
  {
   "cell_type": "code",
   "execution_count": 9,
   "metadata": {},
   "outputs": [
    {
     "data": {
      "text/plain": [
       "DeviceArray(7.0446863, dtype=float32)"
      ]
     },
     "execution_count": 9,
     "metadata": {},
     "output_type": "execute_result"
    }
   ],
   "source": [
    "bregman(x, y, lambda u: J(u, 0.4))"
   ]
  },
  {
   "cell_type": "markdown",
   "metadata": {},
   "source": [
    "### Comparing the asymmetry"
   ]
  },
  {
   "cell_type": "code",
   "execution_count": 10,
   "metadata": {},
   "outputs": [
    {
     "data": {
      "text/plain": [
       "DeviceArray(2.817871, dtype=float32)"
      ]
     },
     "execution_count": 10,
     "metadata": {},
     "output_type": "execute_result"
    }
   ],
   "source": [
    "bregman(x, y, J)"
   ]
  },
  {
   "cell_type": "code",
   "execution_count": 11,
   "metadata": {},
   "outputs": [
    {
     "data": {
      "text/plain": [
       "DeviceArray(3.3040211, dtype=float32)"
      ]
     },
     "execution_count": 11,
     "metadata": {},
     "output_type": "execute_result"
    }
   ],
   "source": [
    "bregman(y, x, J)"
   ]
  },
  {
   "cell_type": "markdown",
   "metadata": {},
   "source": [
    "## Perceptron algorithm\n",
    "\n",
    "You want to decide whether or not to self-isolate for two weeks. You base your decision based on three factors:\n",
    "\n",
    "1. Do I have covid-19 symptoms?\n",
    "2. Do any of the people I live with have been diagnosed with covid-19?\n",
    "3. Does a dodgy covid-19 test bought from an unofficial source indicates infection?\n",
    "\n",
    "Suppose you do not bother self-isolating even if the test turns positive. However, you do self-isolate if you show sumptoms or one of the people you live with has been diagnosed with covid-19.\n",
    "\n",
    "Model this binary decision process with a perceptron and choose some appropriate weights to mimic the decision process accurately."
   ]
  },
  {
   "cell_type": "code",
   "execution_count": 12,
   "metadata": {},
   "outputs": [
    {
     "data": {
      "text/plain": [
       "array([[0, 0, 0],\n",
       "       [0, 0, 1],\n",
       "       [0, 1, 0],\n",
       "       [0, 1, 1],\n",
       "       [1, 0, 0],\n",
       "       [1, 0, 1],\n",
       "       [1, 1, 0],\n",
       "       [1, 1, 1]])"
      ]
     },
     "execution_count": 12,
     "metadata": {},
     "output_type": "execute_result"
    }
   ],
   "source": [
    "X = np.array([v for v in product(*([0, 1], ) * 3)])\n",
    "X"
   ]
  },
  {
   "cell_type": "code",
   "execution_count": 13,
   "metadata": {},
   "outputs": [
    {
     "data": {
      "image/png": "[encoded data removed]",
      "text/plain": [
       "<Figure size 432x288 with 1 Axes>"
      ]
     },
     "metadata": {
      "image/png": {
       "height": 306,
       "width": 315
      },
      "needs_background": "light"
     },
     "output_type": "display_data"
    }
   ],
   "source": [
    "# Visually check whether the dataset is linearly separable\n",
    "y = np.array([0, 0, 1, 1, 1, 1, 1, 1])\n",
    "\n",
    "colors = [\"tab:blue\" if yn == 1 else \"tab:orange\" for yn in y]\n",
    "fig = plt.figure()\n",
    "ax = Axes3D(fig)\n",
    "ax.scatter(*X.T, c=colors);"
   ]
  },
  {
   "cell_type": "code",
   "execution_count": 14,
   "metadata": {},
   "outputs": [],
   "source": [
    "def heaviside(a): return 1 * (a >= 0)\n",
    "\n",
    "def perceptron(X, y, nits=200, r=1):\n",
    "    N, M = X.shape\n",
    "    w = np.zeros(M)\n",
    "    for n in range(nits):\n",
    "        for xn, yn in zip(X, y):\n",
    "            yn_hat = heaviside(xn @ w)\n",
    "            w = w + r * (yn - yn_hat) * xn\n",
    "    return w"
   ]
  },
  {
   "cell_type": "code",
   "execution_count": 15,
   "metadata": {},
   "outputs": [
    {
     "data": {
      "text/plain": [
       "array([-1.,  1.,  1.,  0.])"
      ]
     },
     "execution_count": 15,
     "metadata": {},
     "output_type": "execute_result"
    }
   ],
   "source": [
    "Phi = np.c_[np.ones(8), X]\n",
    "w_perceptron = perceptron(Phi, y)\n",
    "w_perceptron"
   ]
  },
  {
   "cell_type": "code",
   "execution_count": 16,
   "metadata": {},
   "outputs": [
    {
     "data": {
      "text/plain": [
       "array([-1., -1.,  0.,  0.,  0.,  0.,  1.,  1.])"
      ]
     },
     "execution_count": 16,
     "metadata": {},
     "output_type": "execute_result"
    }
   ],
   "source": [
    "Phi @ w_perceptron"
   ]
  },
  {
   "cell_type": "code",
   "execution_count": 17,
   "metadata": {},
   "outputs": [
    {
     "data": {
      "text/plain": [
       "array([0, 0, 1, 1, 1, 1, 1, 1])"
      ]
     },
     "execution_count": 17,
     "metadata": {},
     "output_type": "execute_result"
    }
   ],
   "source": [
    "# Check that we recover the intended datapoints\n",
    "heaviside(Phi @ w_perceptron)"
   ]
  },
  {
   "cell_type": "markdown",
   "metadata": {},
   "source": [
    "## K-means (by hand)"
   ]
  },
  {
   "cell_type": "code",
   "execution_count": 18,
   "metadata": {},
   "outputs": [
    {
     "data": {
      "text/plain": [
       "'%.2f'"
      ]
     },
     "execution_count": 18,
     "metadata": {},
     "output_type": "execute_result"
    }
   ],
   "source": [
    "from sklearn.preprocessing import OneHotEncoder\n",
    "%precision 2"
   ]
  },
  {
   "cell_type": "code",
   "execution_count": 19,
   "metadata": {},
   "outputs": [],
   "source": [
    "n_clusters = 3\n",
    "classes = np.arange(n_clusters)\n",
    "ohe = OneHotEncoder(categories=[classes], sparse=False)"
   ]
  },
  {
   "cell_type": "code",
   "execution_count": 20,
   "metadata": {},
   "outputs": [],
   "source": [
    "d = 8\n",
    "x = np.array([-20, 3, 15, -7, -16, 1, 21])\n",
    "mu = np.array([d, -d, 0])"
   ]
  },
  {
   "cell_type": "markdown",
   "metadata": {},
   "source": [
    "#### First Iteration"
   ]
  },
  {
   "cell_type": "code",
   "execution_count": 21,
   "metadata": {},
   "outputs": [
    {
     "data": {
      "text/plain": [
       "array([[28, 12, 20],\n",
       "       [ 5, 11,  3],\n",
       "       [ 7, 23, 15],\n",
       "       [15,  1,  7],\n",
       "       [24,  8, 16],\n",
       "       [ 7,  9,  1],\n",
       "       [13, 29, 21]])"
      ]
     },
     "execution_count": 21,
     "metadata": {},
     "output_type": "execute_result"
    }
   ],
   "source": [
    "distances = np.abs(x[:, None] - mu)\n",
    "distances"
   ]
  },
  {
   "cell_type": "code",
   "execution_count": 22,
   "metadata": {},
   "outputs": [
    {
     "data": {
      "text/plain": [
       "array([1, 2, 0, 1, 1, 2, 0])"
      ]
     },
     "execution_count": 22,
     "metadata": {},
     "output_type": "execute_result"
    }
   ],
   "source": [
    "# E-step: classify\n",
    "e_step = distances.argmin(axis=1)\n",
    "e_step"
   ]
  },
  {
   "cell_type": "code",
   "execution_count": 23,
   "metadata": {},
   "outputs": [
    {
     "data": {
      "text/plain": [
       "array([ 18.  , -14.33,   2.  ])"
      ]
     },
     "execution_count": 23,
     "metadata": {},
     "output_type": "execute_result"
    }
   ],
   "source": [
    "# M-step: update\n",
    "mu = ohe.fit_transform(e_step[:, None])\n",
    "mu = (x[:, None] * mu).sum(axis=0) / mu.sum(axis=0)\n",
    "mu"
   ]
  },
  {
   "cell_type": "markdown",
   "metadata": {},
   "source": [
    "#### Second Iteration"
   ]
  },
  {
   "cell_type": "code",
   "execution_count": 24,
   "metadata": {},
   "outputs": [
    {
     "data": {
      "text/plain": [
       "array([[38.  ,  5.67, 22.  ],\n",
       "       [15.  , 17.33,  1.  ],\n",
       "       [ 3.  , 29.33, 13.  ],\n",
       "       [25.  ,  7.33,  9.  ],\n",
       "       [34.  ,  1.67, 18.  ],\n",
       "       [17.  , 15.33,  1.  ],\n",
       "       [ 3.  , 35.33, 19.  ]])"
      ]
     },
     "execution_count": 24,
     "metadata": {},
     "output_type": "execute_result"
    }
   ],
   "source": [
    "distances = np.abs(x[:, None] - mu)\n",
    "distances"
   ]
  },
  {
   "cell_type": "code",
   "execution_count": 25,
   "metadata": {},
   "outputs": [
    {
     "data": {
      "text/plain": [
       "array([1, 2, 0, 1, 1, 2, 0])"
      ]
     },
     "execution_count": 25,
     "metadata": {},
     "output_type": "execute_result"
    }
   ],
   "source": [
    "# E-step: classify\n",
    "e_step = distances.argmin(axis=1)\n",
    "e_step"
   ]
  },
  {
   "cell_type": "code",
   "execution_count": 26,
   "metadata": {},
   "outputs": [
    {
     "data": {
      "text/plain": [
       "array([ 18.  , -14.33,   2.  ])"
      ]
     },
     "execution_count": 26,
     "metadata": {},
     "output_type": "execute_result"
    }
   ],
   "source": [
    "# M-step: update\n",
    "mu = ohe.fit_transform(e_step[:, None])\n",
    "mu = (x[:, None] * mu).sum(axis=0) / mu.sum(axis=0)\n",
    "mu"
   ]
  },
  {
   "cell_type": "markdown",
   "metadata": {},
   "source": [
    "#### Third Iteration"
   ]
  },
  {
   "cell_type": "code",
   "execution_count": 27,
   "metadata": {},
   "outputs": [
    {
     "data": {
      "text/plain": [
       "array([[38.  ,  5.67, 22.  ],\n",
       "       [15.  , 17.33,  1.  ],\n",
       "       [ 3.  , 29.33, 13.  ],\n",
       "       [25.  ,  7.33,  9.  ],\n",
       "       [34.  ,  1.67, 18.  ],\n",
       "       [17.  , 15.33,  1.  ],\n",
       "       [ 3.  , 35.33, 19.  ]])"
      ]
     },
     "execution_count": 27,
     "metadata": {},
     "output_type": "execute_result"
    }
   ],
   "source": [
    "distances = np.abs(x[:, None] - mu)\n",
    "distances"
   ]
  },
  {
   "cell_type": "code",
   "execution_count": 28,
   "metadata": {},
   "outputs": [
    {
     "data": {
      "text/plain": [
       "array([1, 2, 0, 1, 1, 2, 0])"
      ]
     },
     "execution_count": 28,
     "metadata": {},
     "output_type": "execute_result"
    }
   ],
   "source": [
    "# E-step: classify\n",
    "distances.argmin(axis=1)"
   ]
  },
  {
   "cell_type": "code",
   "execution_count": 29,
   "metadata": {},
   "outputs": [
    {
     "data": {
      "text/plain": [
       "array([ 18.  , -14.33,   2.  ])"
      ]
     },
     "execution_count": 29,
     "metadata": {},
     "output_type": "execute_result"
    }
   ],
   "source": [
    "# M-step: update\n",
    "mu = ohe.fit_transform(e_step[:, None])\n",
    "mu = (x[:, None] * mu).sum(axis=0) / mu.sum(axis=0)\n",
    "mu"
   ]
  },
  {
   "cell_type": "code",
   "execution_count": 30,
   "metadata": {},
   "outputs": [
    {
     "data": {
      "text/plain": [
       "<matplotlib.collections.PathCollection at 0x7fe54500db50>"
      ]
     },
     "execution_count": 30,
     "metadata": {},
     "output_type": "execute_result"
    },
    {
     "data": {
      "image/png": "[encoded data removed]",
      "text/plain": [
       "<Figure size 432x288 with 1 Axes>"
      ]
     },
     "metadata": {
      "image/png": {
       "height": 248,
       "width": 378
      },
      "needs_background": "light"
     },
     "output_type": "display_data"
    }
   ],
   "source": [
    "plt.scatter(x, np.ones_like(x), c=e_step)"
   ]
  },
  {
   "cell_type": "markdown",
   "metadata": {},
   "source": [
    "#### Check against sklearn"
   ]
  },
  {
   "cell_type": "code",
   "execution_count": 31,
   "metadata": {},
   "outputs": [
    {
     "data": {
      "text/plain": [
       "array([[-14.33],\n",
       "       [ 18.  ],\n",
       "       [  2.  ]])"
      ]
     },
     "execution_count": 31,
     "metadata": {},
     "output_type": "execute_result"
    }
   ],
   "source": [
    "from sklearn.cluster import KMeans\n",
    "kmeans = KMeans(n_clusters=3, init=np.array([[-d, d, 0]]).T, n_init=1)\n",
    "kmeans.fit(x[:, None])\n",
    "kmeans.cluster_centers_"
   ]
  },
  {
   "cell_type": "markdown",
   "metadata": {},
   "source": [
    "## Singular Value Decomposition (SVD)"
   ]
  },
  {
   "cell_type": "code",
   "execution_count": 32,
   "metadata": {},
   "outputs": [],
   "source": [
    "X = np.array([\n",
    "    [1, 3],\n",
    "    [3, 1]\n",
    "])"
   ]
  },
  {
   "cell_type": "code",
   "execution_count": 33,
   "metadata": {},
   "outputs": [],
   "source": [
    "X = np.array([\n",
    "    [-2, 3, 2],\n",
    "    [2, 2, 3]\n",
    "])"
   ]
  },
  {
   "cell_type": "code",
   "execution_count": 34,
   "metadata": {},
   "outputs": [
    {
     "data": {
      "text/plain": [
       "array([5., 3.])"
      ]
     },
     "execution_count": 34,
     "metadata": {},
     "output_type": "execute_result"
    }
   ],
   "source": [
    "X = np.array([\n",
    "    [3, 2, 2],\n",
    "    [2, 3, -2]\n",
    "])\n",
    "\n",
    "U, s, Vt = np.linalg.svd(X)\n",
    "s"
   ]
  },
  {
   "cell_type": "code",
   "execution_count": 35,
   "metadata": {},
   "outputs": [
    {
     "data": {
      "text/plain": [
       "(2, 3)"
      ]
     },
     "execution_count": 35,
     "metadata": {},
     "output_type": "execute_result"
    }
   ],
   "source": [
    "X.shape"
   ]
  },
  {
   "cell_type": "code",
   "execution_count": 36,
   "metadata": {},
   "outputs": [
    {
     "data": {
      "text/plain": [
       "array([[ 3.,  2.,  2.],\n",
       "       [ 2.,  3., -2.]])"
      ]
     },
     "execution_count": 36,
     "metadata": {},
     "output_type": "execute_result"
    }
   ],
   "source": [
    "U, s, Vt = np.linalg.svd(X)\n",
    "Σ = np.zeros_like(X, dtype=np.float)\n",
    "Σ[np.diag_indices(2)] = s\n",
    "U @ Σ @ Vt"
   ]
  },
  {
   "cell_type": "code",
   "execution_count": 37,
   "metadata": {},
   "outputs": [
    {
     "data": {
      "text/plain": [
       "(array([25.,  9.]),\n",
       " array([[ 0.71, -0.71],\n",
       "        [ 0.71,  0.71]]))"
      ]
     },
     "execution_count": 37,
     "metadata": {},
     "output_type": "execute_result"
    }
   ],
   "source": [
    "np.linalg.eig(X @ X.T)"
   ]
  },
  {
   "cell_type": "markdown",
   "metadata": {},
   "source": [
    "## Question 3 (mock exam 2020)"
   ]
  },
  {
   "cell_type": "code",
   "execution_count": 43,
   "metadata": {},
   "outputs": [
    {
     "data": {
      "text/plain": [
       "6"
      ]
     },
     "execution_count": 43,
     "metadata": {},
     "output_type": "execute_result"
    }
   ],
   "source": [
    "names = np.array([\"Batman\", \"Catwoman\", \"Wonder Woman\", \"Jessica Jones\", \"Deadpool\", \"Spiderman\"])\n",
    "len(names)"
   ]
  },
  {
   "cell_type": "code",
   "execution_count": 49,
   "metadata": {},
   "outputs": [
    {
     "name": "stdout",
     "output_type": "stream",
     "text": [
      "1 Batman\n",
      "2 Catwoman\n",
      "3 Deadpool\n",
      "4 Jessica Jones\n",
      "5 Spiderman\n",
      "6 Wonder Woman\n"
     ]
    }
   ],
   "source": [
    "for i, name in enumerate(sorted(names)):\n",
    "    print(i+1, name)"
   ]
  },
  {
   "cell_type": "code",
   "execution_count": 119,
   "metadata": {},
   "outputs": [
    {
     "data": {
      "text/plain": [
       "array([2., 9., 4., 8., 8., 6., 7., 7., 1., 7., 1.])"
      ]
     },
     "execution_count": 119,
     "metadata": {},
     "output_type": "execute_result"
    }
   ],
   "source": [
    "w = np.array([4, 81, 16, 64, 64, 36, 49, 49, 1, 49, 1])\n",
    "np.sqrt(w)"
   ]
  },
  {
   "cell_type": "code",
   "execution_count": 120,
   "metadata": {},
   "outputs": [
    {
     "data": {
      "text/plain": [
       "(11, 2)"
      ]
     },
     "execution_count": 120,
     "metadata": {},
     "output_type": "execute_result"
    }
   ],
   "source": [
    "edges = np.array([\n",
    "    [1, 4],\n",
    "    [1, 2],\n",
    "    [1, 3],\n",
    "    [1, 6],\n",
    "    [4, 3],\n",
    "    [4, 6],\n",
    "    [4, 5],\n",
    "    [2, 6],\n",
    "    [2, 5],\n",
    "    [3, 5],\n",
    "    [6, 5]\n",
    "]) - 1\n",
    "\n",
    "edges = np.sort(edges, axis=1)\n",
    "edges.shape"
   ]
  },
  {
   "cell_type": "code",
   "execution_count": 121,
   "metadata": {},
   "outputs": [],
   "source": [
    "n_nodes = len(np.unique(edges))\n",
    "n_edges = len(w)"
   ]
  },
  {
   "cell_type": "code",
   "execution_count": 122,
   "metadata": {},
   "outputs": [
    {
     "data": {
      "text/plain": [
       "array([[-2.,  0.,  0.,  2.,  0.,  0.],\n",
       "       [-9.,  9.,  0.,  0.,  0.,  0.],\n",
       "       [-4.,  0.,  4.,  0.,  0.,  0.],\n",
       "       [-8.,  0.,  0.,  0.,  0.,  8.],\n",
       "       [ 0.,  0., -8.,  8.,  0.,  0.],\n",
       "       [ 0.,  0.,  0., -6.,  0.,  6.],\n",
       "       [ 0.,  0.,  0., -7.,  7.,  0.],\n",
       "       [ 0., -7.,  0.,  0.,  0.,  7.],\n",
       "       [ 0., -1.,  0.,  0.,  1.,  0.],\n",
       "       [ 0.,  0., -7.,  0.,  7.,  0.],\n",
       "       [ 0.,  0.,  0.,  0., -1.,  1.]])"
      ]
     },
     "execution_count": 122,
     "metadata": {},
     "output_type": "execute_result"
    }
   ],
   "source": [
    "Mw = np.zeros((n_edges, n_nodes))\n",
    "for i, (wn, (e1, e2)) in enumerate(zip(w, edges)):\n",
    "    Mw[i, e1] = - np.sqrt(wn)\n",
    "    Mw[i, e2] = np.sqrt(wn)\n",
    "\n",
    "Mw"
   ]
  },
  {
   "cell_type": "code",
   "execution_count": 123,
   "metadata": {},
   "outputs": [
    {
     "data": {
      "text/plain": [
       "(11, 6)"
      ]
     },
     "execution_count": 123,
     "metadata": {},
     "output_type": "execute_result"
    }
   ],
   "source": [
    "Mw.shape"
   ]
  },
  {
   "cell_type": "code",
   "execution_count": 127,
   "metadata": {},
   "outputs": [
    {
     "data": {
      "text/plain": [
       "array([[165., -81., -16.,  -4.,   0., -64.],\n",
       "       [-81., 131.,   0.,   0.,  -1., -49.],\n",
       "       [-16.,   0., 129., -64., -49.,   0.],\n",
       "       [ -4.,   0., -64., 153., -49., -36.],\n",
       "       [  0.,  -1., -49., -49., 100.,  -1.],\n",
       "       [-64., -49.,   0., -36.,  -1., 150.]])"
      ]
     },
     "execution_count": 127,
     "metadata": {},
     "output_type": "execute_result"
    }
   ],
   "source": [
    "Lw = Mw.T @ Mw\n",
    "Lw"
   ]
  },
  {
   "cell_type": "code",
   "execution_count": 180,
   "metadata": {},
   "outputs": [],
   "source": [
    "known = np.array([3, 1]) - 1\n",
    "y = np.array([0, 1])\n",
    "\n",
    "PR = np.zeros((known.shape[0], n_nodes))\n",
    "PR_perp = np.zeros((n_nodes - known.shape[0], n_nodes))\n",
    "\n",
    "PR[[0,1], known] = 1\n",
    "\n",
    "PR_perp[[0,1,2,3], [1,3,4,5]] = 1"
   ]
  },
  {
   "cell_type": "markdown",
   "metadata": {},
   "source": [
    "We assign the new classes with\n",
    "\n",
    "$$\n",
    "    \\left({\\bf P}_{R\\perp} {\\bf L}_{\\bf w} {\\bf P}_{R\\perp}^T \\right) \\tilde {\\boldsymbol u} = -{\\bf P}_{R\\perp} {\\bf L}_{\\bf w}^T {\\bf P}_{R}^T {\\bf y}\n",
    "$$\n",
    "\n",
    "Where $\\tilde{\\boldsymbol u} = {\\bf P}_{R\\perp} \\hat{\\boldsymbol u}$; $\\hat{\\boldsymbol u}$ is the array of unkown labels."
   ]
  },
  {
   "cell_type": "code",
   "execution_count": null,
   "metadata": {},
   "outputs": [],
   "source": []
  },
  {
   "cell_type": "code",
   "execution_count": 220,
   "metadata": {},
   "outputs": [
    {
     "data": {
      "text/plain": [
       "array([[0.01, 0.  , 0.  , 0.  ],\n",
       "       [0.  , 0.01, 0.  , 0.  ],\n",
       "       [0.  , 0.  , 0.01, 0.  ],\n",
       "       [0.  , 0.  , 0.  , 0.01]])"
      ]
     },
     "execution_count": 220,
     "metadata": {},
     "output_type": "execute_result"
    }
   ],
   "source": [
    "np.linalg.inv(PR_perp @ Lw @ PR_perp.T)"
   ]
  },
  {
   "cell_type": "code",
   "execution_count": 219,
   "metadata": {},
   "outputs": [
    {
     "data": {
      "text/plain": [
       "array([81.,  4.,  0., 64.])"
      ]
     },
     "execution_count": 219,
     "metadata": {},
     "output_type": "execute_result"
    }
   ],
   "source": [
    "-PR_perp @ Lw.T @ PR.T @ y"
   ]
  },
  {
   "cell_type": "code",
   "execution_count": 204,
   "metadata": {},
   "outputs": [
    {
     "data": {
      "text/plain": [
       "array([1.  , 0.91, 0.  , 0.26, 0.14, 0.79])"
      ]
     },
     "execution_count": 204,
     "metadata": {},
     "output_type": "execute_result"
    }
   ],
   "source": [
    "labels = PR_perp.T @ (-np.linalg.inv(PR_perp @ Lw @ PR_perp.T) @ PR_perp @ Lw.T @ PR.T @ y)\n",
    "labels[known] = y\n",
    "labels"
   ]
  },
  {
   "cell_type": "code",
   "execution_count": 206,
   "metadata": {},
   "outputs": [
    {
     "data": {
      "text/plain": [
       "array([1.  , 0.91, 0.79])"
      ]
     },
     "execution_count": 206,
     "metadata": {},
     "output_type": "execute_result"
    }
   ],
   "source": [
    "classes = labels > 0.5\n",
    "labels[classes]"
   ]
  },
  {
   "cell_type": "code",
   "execution_count": 213,
   "metadata": {},
   "outputs": [
    {
     "data": {
      "text/plain": [
       "array(['Batman', 'Catwoman', 'Wonder Woman'], dtype='<U13')"
      ]
     },
     "execution_count": 213,
     "metadata": {},
     "output_type": "execute_result"
    }
   ],
   "source": [
    "np.sort(names)[classes]"
   ]
  },
  {
   "cell_type": "code",
   "execution_count": 214,
   "metadata": {},
   "outputs": [
    {
     "data": {
      "text/plain": [
       "array(['Deadpool', 'Jessica Jones', 'Spiderman'], dtype='<U13')"
      ]
     },
     "execution_count": 214,
     "metadata": {},
     "output_type": "execute_result"
    }
   ],
   "source": [
    "np.sort(names)[~classes]"
   ]
  }
 ],
 "metadata": {
  "kernelspec": {
   "display_name": "Python 3",
   "language": "python",
   "name": "python3"
  },
  "language_info": {
   "codemirror_mode": {
    "name": "ipython",
    "version": 3
   },
   "file_extension": ".py",
   "mimetype": "text/x-python",
   "name": "python",
   "nbconvert_exporter": "python",
   "pygments_lexer": "ipython3",
   "version": "3.8.3"
  }
 },
 "nbformat": 4,
 "nbformat_minor": 4
}
