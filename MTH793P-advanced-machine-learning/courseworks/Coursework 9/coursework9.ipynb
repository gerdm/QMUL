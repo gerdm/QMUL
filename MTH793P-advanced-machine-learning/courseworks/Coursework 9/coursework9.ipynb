{
 "cells": [
  {
   "cell_type": "markdown",
   "metadata": {},
   "source": [
    "Before you turn this problem in, make sure everything runs as expected. First, **restart the kernel** (in the menubar, select Kernel$\\rightarrow$Restart) and then **run all cells** (in the menubar, select Cell$\\rightarrow$Run All).\n",
    "\n",
    "Make sure you fill in any place that says `YOUR CODE HERE` or \"YOUR ANSWER HERE\", remove any ```raise NotImplementedError()``` and enter your student ID below:"
   ]
  },
  {
   "cell_type": "code",
   "execution_count": 1,
   "metadata": {},
   "outputs": [],
   "source": [
    "STUDENT_ID = \"200774408\""
   ]
  },
  {
   "cell_type": "markdown",
   "metadata": {},
   "source": [
    "---"
   ]
  },
  {
   "cell_type": "markdown",
   "metadata": {},
   "source": [
    "# Coursework 9\n",
    "\n",
    "This is the notebook for coursework 9 of module MTH793P at Queen Mary University of London in the academic year 2020 / 2021.\n",
    "\n",
    "Author: [Martin Benning](mailto:m.benning@qmul.ac.uk)\n",
    "\n",
    "Date: 30.03.2020\n",
    "\n",
    "Last updated: 30.03.2021\n",
    "\n",
    "First we load the necessary libraries."
   ]
  },
  {
   "cell_type": "code",
   "execution_count": 2,
   "metadata": {
    "deletable": false,
    "editable": false,
    "nbgrader": {
     "cell_type": "code",
     "checksum": "37135d4ed22e3e3169591fee3a0eb7ba",
     "grade": false,
     "grade_id": "cell-89f1b07cb349ddf3",
     "locked": true,
     "schema_version": 3,
     "solution": false,
     "task": false
    }
   },
   "outputs": [],
   "source": [
    "import numpy as np\n",
    "%load_ext autoreload\n",
    "%autoreload 2"
   ]
  },
  {
   "cell_type": "markdown",
   "metadata": {
    "deletable": false,
    "editable": false,
    "nbgrader": {
     "cell_type": "markdown",
     "checksum": "3f07019085ede2ec1603dcebb29f3e1f",
     "grade": false,
     "grade_id": "cell-b21c07062b2922c5",
     "locked": true,
     "schema_version": 3,
     "solution": false,
     "task": false
    }
   },
   "source": [
    "## Dual numbers and automatic differentiation\n",
    "\n",
    "In this coursework we want to implement the forward mode of automatic differentiation with the help of dual numbers. We first implement a class **Dual** with the constructor **__init__**, the functions **__add__**, **__radd__**, **__sub__**, **__rsub__**, **__mul__**, **__rmul__**, **__matmul__**, **__rmatmul__**, **__truediv__**, **__rtruediv__**, **__neg__** and **__pow__**, and the property **T**. As the names suggest, those  functions and properties implement basic arithmetic operations for Dual numbers:\n",
    "\n",
    "__init__ : constructor that initialises an object of class **Dual**. Each object represents a dual number $a + \\varepsilon \\, b$ with real component $a$ (*self.real*) and dual component $b$ (*self.dual*).\n",
    "\n",
    "__add__ : adds an argument _argument_ to the dual number, i.e. $a + \\varepsilon \\, b + \\text{argument}$. \n",
    "\n",
    "__radd__ : adds the dual number to the argument _argument_, i.e. $\\text{argument} + a + \\varepsilon \\, b$.\n",
    "\n",
    "__sub__ : subtracts an argument _argument_ from the dual number. \n",
    "\n",
    "__rsub__ : subtracts the dual number from the argument _argument_.\n",
    "\n",
    "__mul__ : multiplies the dual number with the argument _argument_.\n",
    "\n",
    "__rmul__ : multiplies an argument _argument_ with the dual number. \n",
    "\n",
    "__matmul__ : multiplies the dual number to the matrix-argument _argument_. \n",
    "\n",
    "__rmatmul__ : multiplies the the matrix-argument _argument_ to the dual number.\n",
    "\n",
    "__truediv__ : divides the dual number by an argument _argument_.\n",
    "\n",
    "__rtruediv__ : divides the argument _argument_ by the dual number.\n",
    "\n",
    "__neg__ : returns the neagtive of the dual number $a + \\varepsilon b$, i.e. $-a - \\varepsilon b$.\n",
    "\n",
    "__pow__ : takes the _power_-th power of the dual number.\n",
    "\n",
    "**T** : returns the transpose of the dual number."
   ]
  },
  {
   "cell_type": "code",
   "execution_count": 3,
   "metadata": {
    "deletable": false,
    "nbgrader": {
     "cell_type": "code",
     "checksum": "f792fa6b7e39903d26a495ad84ae4883",
     "grade": false,
     "grade_id": "cell-1f61758eb76b473d",
     "locked": false,
     "schema_version": 3,
     "solution": true,
     "task": false
    }
   },
   "outputs": [],
   "source": [
    "class Dual:\n",
    "    def __init__(self, real, dual):\n",
    "        self.real = real\n",
    "        self.dual = dual\n",
    "    \n",
    "    @staticmethod\n",
    "    def expand(arg):\n",
    "        if isinstance(arg, Dual):\n",
    "            real, dual = arg.real, arg.dual\n",
    "        else:\n",
    "            real, dual = arg, 0\n",
    "        return real, dual\n",
    "        \n",
    "    def __add__(self, argument):\n",
    "        if isinstance(argument, Dual):\n",
    "            return Dual(self.real + argument.real, self.dual + argument.dual)\n",
    "        else:\n",
    "            return Dual(self.real + argument, self.dual)\n",
    "        \n",
    "    __radd__ = __add__\n",
    "    \n",
    "    def __sub__(self, argument):\n",
    "        # self - argument\n",
    "        r2, d2 = self.expand(argument)\n",
    "        return Dual(self.real - r2, self.dual - d2)\n",
    "        \n",
    "    def __rsub__(self, argument):\n",
    "        # argument - self\n",
    "        r2, d2 = self.expand(argument)\n",
    "        return Dual(-self.real + r2, -self.dual + d2)\n",
    "        \n",
    "    def __mul__(self, argument):\n",
    "        r2, d2 = self.expand(argument)\n",
    "        return Dual(self.real * r2, self.dual * r2 + d2 * self.real)\n",
    "        \n",
    "    __rmul__ = __mul__\n",
    "    \n",
    "    def __matmul__(self, argument):\n",
    "        real = self.real @ argument.real\n",
    "        dual = self.real @ argument.dual + self.dual @ argument.real\n",
    "        return Dual(real, dual)\n",
    "        \n",
    "    def __rmatmul__(self, argument):\n",
    "        return argument.__matmul__(self)\n",
    "    \n",
    "    def __truediv__(self, argument):\n",
    "        r2, d2 = self.expand(argument)\n",
    "        a, b, c, d = self.real, self.dual, r2, d2\n",
    "        real = a / c\n",
    "        dual = (b * c - a * d) / c ** 2\n",
    "        return Dual(real, dual)\n",
    "        \n",
    "    def __rtruediv__(self, argument):\n",
    "        r2, d2 = self.expand(argument)\n",
    "        return Dual(r2, d2).__truediv__(self)\n",
    "        \n",
    "    def __neg__(self):\n",
    "        return Dual(-self.real, -self.dual)\n",
    "    \n",
    "    def __pow__(self, power):\n",
    "        val = 1\n",
    "        for i in range(power):\n",
    "            val *= self\n",
    "        return val\n",
    "    \n",
    "    def __repr__(self):                    \n",
    "        if self.dual == 0:\n",
    "            representation = repr(self.real)    \n",
    "        elif self.dual == 1:\n",
    "            representation = repr(self.real) + ' + epsilon'\n",
    "        elif self.dual == -1:\n",
    "            representation = repr(self.real) + ' - epsilon'\n",
    "        elif self.dual > 0:\n",
    "            representation = repr(self.real) + ' + ' + repr(self.dual) + ' * epsilon'\n",
    "        else:\n",
    "            representation = repr(self.real) + ' - ' + repr(-self.dual) + ' * epsilon'\n",
    "        return representation\n",
    "    \n",
    "    def __str__(self):\n",
    "        if self.dual == 0:\n",
    "            representation = str(self.real)    \n",
    "        elif self.dual == 1:\n",
    "            representation = str(self.real) + \" + epsilon\"\n",
    "        elif self.dual == -1:\n",
    "            representation = str(self.real) + \" - epsilon\"\n",
    "        elif self.dual > 0:\n",
    "            representation = str(self.real) + \" + \" + str(self.dual) + \" * epsilon\"\n",
    "        else:\n",
    "            representation = str(self.real) + \" - \" + str(-self.dual) + \" * epsilon\"\n",
    "        return representation\n",
    "    \n",
    "    @property\n",
    "    def T(self):\n",
    "        real = self.real.T\n",
    "        dual = self.dual.T\n",
    "        return Dual(real, dual)"
   ]
  },
  {
   "cell_type": "markdown",
   "metadata": {
    "deletable": false,
    "editable": false,
    "nbgrader": {
     "cell_type": "markdown",
     "checksum": "9350e2ee9d55b2bedcf34ee9d9f8fbdf",
     "grade": false,
     "grade_id": "cell-79544d808ca0ec3a",
     "locked": true,
     "schema_version": 3,
     "solution": false,
     "task": false
    }
   },
   "source": [
    "Test your class with the following tests, one visible, one hidden. One mark each, **2/10** marks in total."
   ]
  },
  {
   "cell_type": "code",
   "execution_count": 4,
   "metadata": {
    "deletable": false,
    "editable": false,
    "nbgrader": {
     "cell_type": "code",
     "checksum": "739b3ab631ea5e6bf44f7062b0ff098e",
     "grade": true,
     "grade_id": "cell-dc94c9860dbc2411",
     "locked": true,
     "points": 1,
     "schema_version": 3,
     "solution": false,
     "task": false
    }
   },
   "outputs": [],
   "source": [
    "from numpy.testing import assert_array_equal\n",
    "a = Dual(9, -1)\n",
    "b = Dual(-3, 7)\n",
    "c = a / b\n",
    "assert_array_equal(c.real, -3)\n",
    "assert_array_equal(c.dual, -20/3)"
   ]
  },
  {
   "cell_type": "code",
   "execution_count": 5,
   "metadata": {
    "deletable": false,
    "editable": false,
    "nbgrader": {
     "cell_type": "code",
     "checksum": "fc2df5bc58a0dce0c0497c086b301d62",
     "grade": true,
     "grade_id": "cell-ca8c542ed6583849",
     "locked": true,
     "points": 1,
     "schema_version": 3,
     "solution": false,
     "task": false
    }
   },
   "outputs": [],
   "source": [
    "from numpy.testing import assert_array_almost_equal"
   ]
  },
  {
   "cell_type": "markdown",
   "metadata": {
    "deletable": false,
    "editable": false,
    "nbgrader": {
     "cell_type": "markdown",
     "checksum": "c3d05814e28c64240dd800b82bdc2d12",
     "grade": false,
     "grade_id": "cell-37944218508debc5",
     "locked": true,
     "schema_version": 3,
     "solution": false,
     "task": false
    }
   },
   "source": [
    "Next, we implement the following functions that are acting on dual numbers of the form $a + \\varepsilon \\, b$:\n",
    "    \n",
    "**log** : $\\log(a + \\varepsilon \\, b)$\n",
    "\n",
    "**exp** : $\\exp(a + \\varepsilon \\, b)$\n",
    "\n",
    "**sin** : $\\sin(a + \\varepsilon \\, b)$\n",
    "\n",
    "**cos** : $\\cos(a + \\varepsilon \\, b)$\n",
    "\n",
    "**sigmoid** : $\\frac{1}{1 + \\exp(-(a + \\varepsilon \\, b))}$\n",
    "\n",
    "**dual_sum** : $\\sum_{j = 1}^n a_j + \\varepsilon \\, b_j$; sum can be taken across individual array-dimensions."
   ]
  },
  {
   "cell_type": "code",
   "execution_count": 6,
   "metadata": {
    "deletable": false,
    "nbgrader": {
     "cell_type": "code",
     "checksum": "84472429b014a8aad1b719c1dc264412",
     "grade": false,
     "grade_id": "cell-2c240dd1c27bfdfb",
     "locked": false,
     "schema_version": 3,
     "solution": true,
     "task": false
    }
   },
   "outputs": [],
   "source": [
    "def log(dual_number):\n",
    "    return Dual(np.log(dual_number.real), dual_number.dual / dual_number.real)\n",
    "\n",
    "def exp(dual_number):\n",
    "    real = np.exp(dual_number.real)\n",
    "    dual = dual_number.dual * np.exp(dual_number.real)\n",
    "    return Dual(real, dual)\n",
    "    \n",
    "def sin(dual_number):\n",
    "    real = np.sin(dual_number.real)\n",
    "    dual = dual_number.dual * np.cos(dual_number.real)\n",
    "    return Dual(real, dual)\n",
    "    \n",
    "def cos(dual_number):\n",
    "    real = np.cos(dual_number.real)\n",
    "    dual = -dual_number.dual * np.sin(dual_number.real)\n",
    "    return Dual(real, dual)\n",
    "\n",
    "def σ(x): return 1 / (1 + np.exp(-x))\n",
    "def sigmoid(dual_number):\n",
    "    real = σ(dual_number.real)\n",
    "    dual = dual_number.dual * σ(dual_number.real) * (1 - σ(dual_number.real))\n",
    "    return Dual(real, dual)\n",
    "\n",
    "def dual_sum(dual_number, axis=None):\n",
    "    real = dual_number.real.sum()\n",
    "    dual = dual_number.dual.sum()\n",
    "    return Dual(real, dual)"
   ]
  },
  {
   "cell_type": "markdown",
   "metadata": {
    "deletable": false,
    "editable": false,
    "nbgrader": {
     "cell_type": "markdown",
     "checksum": "0cf243ee98c5f7a8aa3d4a8379651b6c",
     "grade": false,
     "grade_id": "cell-923165f14a17c93b",
     "locked": true,
     "schema_version": 3,
     "solution": false,
     "task": false
    }
   },
   "source": [
    "We test the functions with the following three cells (two visible, one hidden) that are worth **3/10** marks."
   ]
  },
  {
   "cell_type": "code",
   "execution_count": 7,
   "metadata": {
    "deletable": false,
    "editable": false,
    "nbgrader": {
     "cell_type": "code",
     "checksum": "d67931b50d293d6209f00b151a2d9d00",
     "grade": true,
     "grade_id": "cell-25cb582b508206b7",
     "locked": true,
     "points": 1,
     "schema_version": 3,
     "solution": false,
     "task": false
    }
   },
   "outputs": [],
   "source": [
    "x = Dual(np.random.randn(1, 1), 1)\n",
    "f = sin(3*(x ** 2) - 2*x)/exp(1 + cos(-5*(x ** 2)))\n",
    "\n",
    "def symbolic_derivative_of_f(x):\n",
    "    output = np.exp(-np.cos(5*(x ** 2)) - 1) * ((6*x - 2)*np.cos((2 - 3*x)*x) - \\\n",
    "                    10*x*np.sin((2 - 3*x)*x)*np.sin(5*(x ** 2)))\n",
    "    return output\n",
    "\n",
    "assert_array_almost_equal(f.dual, symbolic_derivative_of_f(x.real))"
   ]
  },
  {
   "cell_type": "code",
   "execution_count": 8,
   "metadata": {
    "deletable": false,
    "editable": false,
    "nbgrader": {
     "cell_type": "code",
     "checksum": "f354cf1dbfb90f411937bc0057219734",
     "grade": true,
     "grade_id": "cell-1762545db755e1b4",
     "locked": true,
     "points": 1,
     "schema_version": 3,
     "solution": false,
     "task": false
    }
   },
   "outputs": [],
   "source": [
    "data_matrix = Dual(np.random.randn(100, 5), np.zeros((100, 5)))\n",
    "data = Dual(np.random.randn(100, 1), np.zeros((100, 1)))\n",
    "index = np.random.randint(0, 5)\n",
    "delta = np.zeros((5, 1))\n",
    "delta[index] = 1\n",
    "weights = Dual(np.random.randn(5, 1), delta)\n",
    "\n",
    "mean_squared_error = 1/2 * dual_sum((data_matrix @ weights - data) ** 2)\n",
    "manual_gradient = data_matrix.real.T @ (data_matrix.real @ weights.real - data.real)\n",
    "\n",
    "assert_array_almost_equal(mean_squared_error.dual, manual_gradient[index])"
   ]
  },
  {
   "cell_type": "code",
   "execution_count": null,
   "metadata": {
    "deletable": false,
    "editable": false,
    "nbgrader": {
     "cell_type": "code",
     "checksum": "eeac30a37b7626a0e42f2b9eddaa7a01",
     "grade": true,
     "grade_id": "cell-dc7f40d8ac105c03",
     "locked": true,
     "points": 1,
     "schema_version": 3,
     "solution": false,
     "task": false
    }
   },
   "outputs": [],
   "source": []
  },
  {
   "cell_type": "markdown",
   "metadata": {
    "deletable": false,
    "editable": false,
    "nbgrader": {
     "cell_type": "markdown",
     "checksum": "1aedbc6f9dc8fe462f02d99b9d92d42f",
     "grade": false,
     "grade_id": "cell-dddf177b58a9368e",
     "locked": true,
     "schema_version": 3,
     "solution": false,
     "task": false
    }
   },
   "source": [
    "## Autoencoders\n",
    "\n",
    "In this part we focus on the implementation of autoencoders with PyTorch. We load several PyTorch libraries first."
   ]
  },
  {
   "cell_type": "code",
   "execution_count": 9,
   "metadata": {
    "deletable": false,
    "editable": false,
    "nbgrader": {
     "cell_type": "code",
     "checksum": "2e6f037b07745f4647de84cfdc809f0a",
     "grade": false,
     "grade_id": "cell-5eb272258fde3ba1",
     "locked": true,
     "schema_version": 3,
     "solution": false,
     "task": false
    }
   },
   "outputs": [],
   "source": [
    "%matplotlib inline\n",
    "import torch\n",
    "import torch.optim as optim\n",
    "import torch.nn as nn\n",
    "import torch.nn.functional as fct\n",
    "import torchvision\n",
    "from torchvision import datasets, transforms\n",
    "import matplotlib.pyplot as plt\n",
    "import time"
   ]
  },
  {
   "cell_type": "markdown",
   "metadata": {
    "deletable": false,
    "editable": false,
    "nbgrader": {
     "cell_type": "markdown",
     "checksum": "20d77f846c918ccc267d28b3c83f0dca",
     "grade": false,
     "grade_id": "cell-b277640853b21f4b",
     "locked": true,
     "schema_version": 3,
     "solution": false,
     "task": false
    }
   },
   "source": [
    "Next, we load the training and test samples of the Fashion MNIST dataset with the help of torchvision."
   ]
  },
  {
   "cell_type": "code",
   "execution_count": 10,
   "metadata": {},
   "outputs": [],
   "source": [
    "torch.set_default_tensor_type(torch.FloatTensor)\n",
    "training_batch_size = 150\n",
    "test_batch_size = 150\n",
    "\n",
    "full_loader = torch.utils.data.DataLoader(\n",
    "    datasets.FashionMNIST('data', train=True, download=True, transform=transforms.Compose([\n",
    "            transforms.ToTensor(),\n",
    "            transforms.Normalize([0.5], [1])\n",
    "            ])), \n",
    "        batch_size=60000, shuffle=True, num_workers=4)\n",
    "\n",
    "train_loader = torch.utils.data.DataLoader(\n",
    "    datasets.FashionMNIST('data', train=True, download=True, transform=transforms.Compose([\n",
    "            transforms.ToTensor(),\n",
    "            transforms.Normalize([0.5], [1])\n",
    "            ])), \n",
    "        batch_size=training_batch_size, shuffle=True, num_workers=4)\n",
    "\n",
    "test_loader = torch.utils.data.DataLoader(\n",
    "    datasets.FashionMNIST('data', train=False, download=True, transform=transforms.Compose([\n",
    "            transforms.ToTensor(),\n",
    "            transforms.Normalize([0.5], [1])\n",
    "            ])), \n",
    "        batch_size=test_batch_size, shuffle=True)"
   ]
  },
  {
   "cell_type": "markdown",
   "metadata": {
    "deletable": false,
    "editable": false,
    "nbgrader": {
     "cell_type": "markdown",
     "checksum": "f6645875f2d6015fb0ab849e0d59a3d9",
     "grade": false,
     "grade_id": "cell-b6453ecb47110199",
     "locked": true,
     "schema_version": 3,
     "solution": false,
     "task": false
    }
   },
   "source": [
    "## Linear autoencoder\n",
    "\n",
    "Next, we implement a linear autoencoder. In order to do so, we write a class **LinearAutoencoder** with a constructor, three functions **encoder**, **decoder** and **evaluate**, and a variable *decoder_matrix*. Based on a two-dimensional tensor *data* and the integer *rank*, the constructor computes the decoder matrix $U_{\\text{rank}}$, where $U_{\\text{rank}}$ are the first *rank* columns of the matrix $U$ that satisfies $X = U\\Sigma V^\\top$, where $X$ is the mathematical representation of *data*. Based on the decoder matrix, the function **encoder** encodes an input tensor *inputs*, the function **decoder** decodes an input tensor *inputs*, and the function **evaluate** computes the decoding of the encoding of an input tensor *inputs*."
   ]
  },
  {
   "cell_type": "code",
   "execution_count": 11,
   "metadata": {
    "deletable": false,
    "nbgrader": {
     "cell_type": "code",
     "checksum": "e150d3e02611d19756c56f9530037ff7",
     "grade": false,
     "grade_id": "cell-4a7294c38dac7ee2",
     "locked": false,
     "schema_version": 3,
     "solution": true,
     "task": false
    }
   },
   "outputs": [],
   "source": [
    "class LinearAutoencoder():\n",
    "    def __init__(self, data, rank):\n",
    "        self.rank = rank\n",
    "        self.data = data\n",
    "        self.decoder_matrix = torch.svd(data).U[:, :rank]\n",
    "        \n",
    "    def encoder(self, inputs):\n",
    "        return self.decoder_matrix.T @ inputs\n",
    "    \n",
    "    def decoder(self, inputs):\n",
    "        return self.decoder_matrix @ inputs\n",
    "    \n",
    "    def evaluate(self, inputs):\n",
    "        encode = self.encoder(inputs)\n",
    "        signal = self.decoder(encode)\n",
    "        return signal"
   ]
  },
  {
   "cell_type": "markdown",
   "metadata": {
    "deletable": false,
    "editable": false,
    "nbgrader": {
     "cell_type": "markdown",
     "checksum": "a8f84200b26a6c8724d149e9d135cb91",
     "grade": false,
     "grade_id": "cell-ddc9470c0122741e",
     "locked": true,
     "schema_version": 3,
     "solution": false,
     "task": false
    }
   },
   "source": [
    "We test the functions with the following two cells (one visible, one hidden) that are worth **2/10** marks."
   ]
  },
  {
   "cell_type": "code",
   "execution_count": 12,
   "metadata": {
    "deletable": false,
    "editable": false,
    "nbgrader": {
     "cell_type": "code",
     "checksum": "27efbd8637a26bc56c88c343c478bddc",
     "grade": true,
     "grade_id": "cell-fdbb0640c2635560",
     "locked": true,
     "points": 1,
     "schema_version": 3,
     "solution": false,
     "task": false
    }
   },
   "outputs": [],
   "source": [
    "tensor = torch.Tensor([[3, 2, 2], [2, 3, -2]])\n",
    "linear_autoencoder = LinearAutoencoder(tensor, 1)\n",
    "approximation = linear_autoencoder.evaluate(tensor)\n",
    "assert_array_almost_equal(approximation.numpy(), np.array([[2.5, 2.5, 0], [2.5, 2.5, 0]]))"
   ]
  },
  {
   "cell_type": "code",
   "execution_count": null,
   "metadata": {
    "deletable": false,
    "editable": false,
    "nbgrader": {
     "cell_type": "code",
     "checksum": "f28c46059d0757fdb8f615a9de3b9e58",
     "grade": true,
     "grade_id": "cell-43c374a2c394972a",
     "locked": true,
     "points": 1,
     "schema_version": 3,
     "solution": false,
     "task": false
    }
   },
   "outputs": [],
   "source": []
  },
  {
   "cell_type": "markdown",
   "metadata": {
    "deletable": false,
    "editable": false,
    "nbgrader": {
     "cell_type": "markdown",
     "checksum": "2a5a22c305d31c01cfdfa37f279b7d63",
     "grade": false,
     "grade_id": "cell-d6b04434cca1fc08",
     "locked": true,
     "schema_version": 3,
     "solution": false,
     "task": false
    }
   },
   "source": [
    "We create a linear autoencoder based on the Fashion MNIST dataset, which will act as a baseline comparison when we compare neural network based autoencoders later."
   ]
  },
  {
   "cell_type": "code",
   "execution_count": 13,
   "metadata": {
    "deletable": false,
    "editable": false,
    "nbgrader": {
     "cell_type": "code",
     "checksum": "790725f570a46e87d223fe5b61da9273",
     "grade": false,
     "grade_id": "cell-9effc545577180d3",
     "locked": true,
     "schema_version": 3,
     "solution": false,
     "task": false
    }
   },
   "outputs": [],
   "source": [
    "full_batch = next(iter(full_loader))[0]\n",
    "linear_autoencoder = LinearAutoencoder(full_batch.view(60000, 784).T, 392)"
   ]
  },
  {
   "cell_type": "markdown",
   "metadata": {
    "deletable": false,
    "editable": false,
    "nbgrader": {
     "cell_type": "markdown",
     "checksum": "3269cb94cbea623679fd582f5ad970ab",
     "grade": false,
     "grade_id": "cell-3bd1a62ba0d84646",
     "locked": true,
     "schema_version": 3,
     "solution": false,
     "task": false
    }
   },
   "source": [
    "We visualise the linear autoencoding with a comparison of a random sample of the Fashion MNIST dataset and its approximation of rank 392."
   ]
  },
  {
   "cell_type": "code",
   "execution_count": 14,
   "metadata": {
    "deletable": false,
    "editable": false,
    "nbgrader": {
     "cell_type": "code",
     "checksum": "72ebefef847f5f8144442982c4dd29f5",
     "grade": false,
     "grade_id": "cell-932e11366eb9aaa0",
     "locked": true,
     "schema_version": 3,
     "solution": false,
     "task": false
    }
   },
   "outputs": [
    {
     "data": {
      "image/png": "[encoded data removed]",
      "text/plain": [
       "<Figure size 432x288 with 2 Axes>"
      ]
     },
     "metadata": {
      "needs_background": "light"
     },
     "output_type": "display_data"
    }
   ],
   "source": [
    "codes = linear_autoencoder.encoder(full_batch.view(60000, 784).T)\n",
    "approximations = linear_autoencoder.decoder(codes).T.view(60000, 1, 28, 28)\n",
    "plt.subplot(1, 2, 1)\n",
    "plt.imshow(full_batch[4][0].detach())\n",
    "plt.subplot(1, 2, 2)\n",
    "plt.imshow(approximations[4][0].detach());"
   ]
  },
  {
   "cell_type": "markdown",
   "metadata": {
    "deletable": false,
    "editable": false,
    "nbgrader": {
     "cell_type": "markdown",
     "checksum": "dd5c8db2433296edb6ca91eb687fe70a",
     "grade": false,
     "grade_id": "cell-1158502388876a04",
     "locked": true,
     "schema_version": 3,
     "solution": false,
     "task": false
    }
   },
   "source": [
    "## Neural network autoencoders\n",
    "\n",
    "In this section, we experiment with neural network based autoencoders for the coding an decoding of the Fashion MNIST dataset, and try to develop non-linear architectures that can beat linear autoencoders. For this, we design an autoencoder with the following **Autoencoder** class. The class has a constructor that initialises all relevant neural network components that are necessary for the execution of the functions **encoder** and **decoder**. As the names suggest, the **encoder** function transform inputs _inputs_ into codes, while the **decoder** function transforms *codes* into signals again. The function **forward** is a composition of the functions **encoder** and **decoder**. You are completely free in designing your neural network; tests won't depend on specific architectural choices. Please note that the autoencoder only has to work for signals that match the dimensions of the Fashion MNIST dataset."
   ]
  },
  {
   "cell_type": "code",
   "execution_count": 15,
   "metadata": {
    "deletable": false,
    "nbgrader": {
     "cell_type": "code",
     "checksum": "6c0cecc156c0f4983ce10b6713ce7be5",
     "grade": false,
     "grade_id": "cell-7db749e14226e292",
     "locked": false,
     "schema_version": 3,
     "solution": true,
     "task": false
    }
   },
   "outputs": [],
   "source": [
    "class Autoencoder(nn.Module):\n",
    "    def __init__(self):\n",
    "        super(Autoencoder, self).__init__()\n",
    "        self.encode_1 = nn.Linear(784, 100)\n",
    "        self.encode_2 = nn.Linear(100, 32)\n",
    "        self.decode_1 = nn.Linear(32, 100)\n",
    "        self.decode_2 = nn.Linear(100, 784)\n",
    "        self.relu = nn.ReLU()\n",
    "    \n",
    "    def encoder(self, inputs):\n",
    "        inputs = torch.flatten(inputs, start_dim=1)\n",
    "        h1 = self.relu(self.encode_1(inputs))\n",
    "        h2 = self.encode_2(h1)\n",
    "        return h2\n",
    "    \n",
    "    def decoder(self, codes):\n",
    "        h3 = self.relu(self.decode_1(codes))\n",
    "        h4 = self.decode_2(h3)\n",
    "        output = h4.reshape(-1, 1, 28, 28)\n",
    "        return output\n",
    "    \n",
    "    def forward(self, inputs):        \n",
    "        return self.decoder(self.encoder(inputs))"
   ]
  },
  {
   "cell_type": "markdown",
   "metadata": {
    "deletable": false,
    "editable": false,
    "nbgrader": {
     "cell_type": "markdown",
     "checksum": "394eec5d56898a3a82f4ef0f00ee1232",
     "grade": false,
     "grade_id": "cell-28df7f337ddfdc97",
     "locked": true,
     "schema_version": 3,
     "solution": false,
     "task": false
    }
   },
   "source": [
    "Test your network with the following two cells (one visible, one hidden). The tests only check if the autoencoder produces outputs of the correct dimensions, but doesn't check for specific values. The tests are worth **2/10** marks."
   ]
  },
  {
   "cell_type": "code",
   "execution_count": 16,
   "metadata": {
    "deletable": false,
    "editable": false,
    "nbgrader": {
     "cell_type": "code",
     "checksum": "e4c223bf35f18b038bc87a986ef1e04c",
     "grade": true,
     "grade_id": "cell-abd9c71d43309bc3",
     "locked": true,
     "points": 1,
     "schema_version": 3,
     "solution": false,
     "task": false
    }
   },
   "outputs": [],
   "source": [
    "autoencoder = Autoencoder()\n",
    "training_batch = next(iter(train_loader))[0]\n",
    "untrained_output = autoencoder(training_batch)\n",
    "\n",
    "assert_array_equal(untrained_output.shape, np.array([150, 1, 28, 28]))"
   ]
  },
  {
   "cell_type": "code",
   "execution_count": null,
   "metadata": {
    "deletable": false,
    "editable": false,
    "nbgrader": {
     "cell_type": "code",
     "checksum": "e0eb4864e35172d964c136647db2a123",
     "grade": true,
     "grade_id": "cell-c3af7637f331b860",
     "locked": true,
     "points": 1,
     "schema_version": 3,
     "solution": false,
     "task": false
    }
   },
   "outputs": [],
   "source": []
  },
  {
   "cell_type": "markdown",
   "metadata": {
    "deletable": false,
    "editable": false,
    "nbgrader": {
     "cell_type": "markdown",
     "checksum": "dd6f92ab03dd02ed8865c67a2a254c8d",
     "grade": false,
     "grade_id": "cell-535a5dc52634e893",
     "locked": true,
     "schema_version": 3,
     "solution": false,
     "task": false
    }
   },
   "source": [
    "Next, we write a routine to train the network parameters. You can write your own routine from scratch, or base it on the template below. Your routine should be able to incorporate different networks, data loader objects, optimisers and optimisation criteria."
   ]
  },
  {
   "cell_type": "code",
   "execution_count": 17,
   "metadata": {
    "deletable": false,
    "nbgrader": {
     "cell_type": "code",
     "checksum": "5bf7268a62472525616dd7d7a80c421e",
     "grade": false,
     "grade_id": "cell-6ba6f75a0284d607",
     "locked": false,
     "schema_version": 3,
     "solution": true,
     "task": false
    }
   },
   "outputs": [],
   "source": [
    "# Run autoencoder.py to save 'autoencoder' model"
   ]
  },
  {
   "cell_type": "markdown",
   "metadata": {
    "deletable": false,
    "editable": false,
    "nbgrader": {
     "cell_type": "markdown",
     "checksum": "d0abe093a3a9c8cd823a75a4fcccc928",
     "grade": false,
     "grade_id": "cell-78886d9538fbe183",
     "locked": true,
     "schema_version": 3,
     "solution": false,
     "task": false
    }
   },
   "source": [
    "Use a seperate notebook or Python file to train your network on the data specified by the data loader *train_loader*. Once you have trained your network to satisfaction, save the parameters of your autoencoder via *torch.save(autoencoder.state_dict(), 'autoencoder')* into a file named *autoencoder*. Submit your file together with your template notebook. The following test will check if you have submitted your parameters and if they are compatible with your network architecture. The test is worth **1/10** marks."
   ]
  },
  {
   "cell_type": "code",
   "execution_count": 18,
   "metadata": {
    "deletable": false,
    "editable": false,
    "nbgrader": {
     "cell_type": "code",
     "checksum": "d3dc290116f8088a807c3d22d90afdb2",
     "grade": true,
     "grade_id": "cell-e54b0800fff35047",
     "locked": true,
     "points": 1,
     "schema_version": 3,
     "solution": false,
     "task": false
    }
   },
   "outputs": [
    {
     "data": {
      "text/plain": [
       "<All keys matched successfully>"
      ]
     },
     "execution_count": 18,
     "metadata": {},
     "output_type": "execute_result"
    }
   ],
   "source": [
    "autoencoder.load_state_dict(torch.load('autoencoder'))"
   ]
  },
  {
   "cell_type": "markdown",
   "metadata": {
    "deletable": false,
    "editable": false,
    "nbgrader": {
     "cell_type": "markdown",
     "checksum": "0199b1faea7fb3929a5408482e45f499",
     "grade": false,
     "grade_id": "cell-fd380b3932eca97c",
     "locked": true,
     "schema_version": 3,
     "solution": false,
     "task": false
    }
   },
   "source": [
    "With the following cell we compute the network output when applying the network to a sample of the training data."
   ]
  },
  {
   "cell_type": "code",
   "execution_count": 19,
   "metadata": {
    "deletable": false,
    "editable": false,
    "nbgrader": {
     "cell_type": "code",
     "checksum": "9cc4e6dc2043c807b57b8081ebce22f8",
     "grade": false,
     "grade_id": "cell-56af21cc9fb4d685",
     "locked": true,
     "schema_version": 3,
     "solution": false,
     "task": false
    }
   },
   "outputs": [],
   "source": [
    "autoencoder.eval()\n",
    "train_batch = next(iter(train_loader))\n",
    "reconstruction = autoencoder(train_batch[0])\n",
    "code = autoencoder.encoder(train_batch[0])\n",
    "linear_reconstruction = linear_autoencoder.evaluate(train_batch[0].view(training_batch_size, 784).T).T.view( \\\n",
    "                                                    training_batch_size, 1, 28, 28)"
   ]
  },
  {
   "cell_type": "markdown",
   "metadata": {
    "deletable": false,
    "editable": false,
    "nbgrader": {
     "cell_type": "markdown",
     "checksum": "42371424a1d21df0755dbcdc4b9acc0a",
     "grade": false,
     "grade_id": "cell-80c5ce9cc43a433c",
     "locked": true,
     "schema_version": 3,
     "solution": false,
     "task": false
    }
   },
   "source": [
    "With the following cell we visualise the network output when applying it to a sample of training data."
   ]
  },
  {
   "cell_type": "code",
   "execution_count": 20,
   "metadata": {
    "deletable": false,
    "editable": false,
    "nbgrader": {
     "cell_type": "code",
     "checksum": "9fed1d1dd2adfa286aaef6d7a8fbaf88",
     "grade": false,
     "grade_id": "cell-521e0f72b85233c7",
     "locked": true,
     "schema_version": 3,
     "solution": false,
     "task": false
    }
   },
   "outputs": [
    {
     "data": {
      "image/png": "[encoded data removed]",
      "text/plain": [
       "<Figure size 432x288 with 3 Axes>"
      ]
     },
     "metadata": {
      "needs_background": "light"
     },
     "output_type": "display_data"
    }
   ],
   "source": [
    "plt.subplot(1, 3, 1)\n",
    "plt.imshow(reconstruction[1][0].detach())\n",
    "plt.subplot(1, 3, 2)\n",
    "plt.imshow(linear_reconstruction[1][0].detach())\n",
    "plt.subplot(1, 3, 3)\n",
    "plt.imshow(train_batch[0][1][0].detach());"
   ]
  },
  {
   "cell_type": "markdown",
   "metadata": {
    "deletable": false,
    "editable": false,
    "nbgrader": {
     "cell_type": "markdown",
     "checksum": "9bafd659db92aa2bc797a78595599081",
     "grade": false,
     "grade_id": "cell-67692f06fec589b9",
     "locked": true,
     "schema_version": 3,
     "solution": false,
     "task": false
    }
   },
   "source": [
    "We repeat the same exercise for a training data sample."
   ]
  },
  {
   "cell_type": "code",
   "execution_count": 21,
   "metadata": {
    "deletable": false,
    "editable": false,
    "nbgrader": {
     "cell_type": "code",
     "checksum": "41fa03293405459fc0f95670d7b27d5d",
     "grade": false,
     "grade_id": "cell-7bd935b70e6dd276",
     "locked": true,
     "schema_version": 3,
     "solution": false,
     "task": false
    }
   },
   "outputs": [
    {
     "data": {
      "image/png": "[encoded data removed]",
      "text/plain": [
       "<Figure size 432x288 with 3 Axes>"
      ]
     },
     "metadata": {
      "needs_background": "light"
     },
     "output_type": "display_data"
    }
   ],
   "source": [
    "test_batch = next(iter(test_loader))\n",
    "reconstruction = autoencoder(test_batch[0])\n",
    "code = autoencoder.encoder(test_batch[0])\n",
    "linear_reconstruction = linear_autoencoder.evaluate(test_batch[0].view(test_batch_size, 784).T).T.view( \\\n",
    "                                                    test_batch_size, 1, 28, 28)\n",
    "\n",
    "plt.subplot(1, 3, 1)\n",
    "plt.imshow(reconstruction[1][0].detach())\n",
    "plt.subplot(1, 3, 2)\n",
    "plt.imshow(linear_reconstruction[1][0].detach())\n",
    "plt.subplot(1, 3, 3)\n",
    "plt.imshow(test_batch[0][1][0].detach());"
   ]
  },
  {
   "cell_type": "markdown",
   "metadata": {
    "deletable": false,
    "editable": false,
    "nbgrader": {
     "cell_type": "markdown",
     "checksum": "9038a0cf66d44bb0622c7811f725d78a",
     "grade": false,
     "grade_id": "cell-949d5f5f9b1c3a93",
     "locked": true,
     "schema_version": 3,
     "solution": false,
     "task": false
    }
   },
   "source": [
    "We conclude this notebook by visualising the code that the encoder produces for a random input sample."
   ]
  },
  {
   "cell_type": "code",
   "execution_count": 22,
   "metadata": {
    "deletable": false,
    "editable": false,
    "nbgrader": {
     "cell_type": "code",
     "checksum": "69a4b9f502fa42d293cfb79650f5258f",
     "grade": false,
     "grade_id": "cell-69b4f95c301d1e61",
     "locked": true,
     "schema_version": 3,
     "solution": false,
     "task": false
    }
   },
   "outputs": [
    {
     "data": {
      "image/png": "[encoded data removed]",
      "text/plain": [
       "<Figure size 432x288 with 1 Axes>"
      ]
     },
     "metadata": {
      "needs_background": "light"
     },
     "output_type": "display_data"
    }
   ],
   "source": [
    "plt.plot(code[1].detach());"
   ]
  },
  {
   "cell_type": "markdown",
   "metadata": {
    "deletable": false,
    "editable": false,
    "nbgrader": {
     "cell_type": "markdown",
     "checksum": "820fc1ff7b6d47f0764fc280032a9a3f",
     "grade": false,
     "grade_id": "cell-a2363a72b77853c1",
     "locked": true,
     "schema_version": 3,
     "solution": false,
     "task": false
    }
   },
   "source": [
    "This is the end of this week's coursework."
   ]
  },
  {
   "cell_type": "code",
   "execution_count": 23,
   "metadata": {},
   "outputs": [],
   "source": [
    "!open ."
   ]
  }
 ],
 "metadata": {
  "kernelspec": {
   "display_name": "Python 3",
   "language": "python",
   "name": "python3"
  },
  "language_info": {
   "codemirror_mode": {
    "name": "ipython",
    "version": 3
   },
   "file_extension": ".py",
   "mimetype": "text/x-python",
   "name": "python",
   "nbconvert_exporter": "python",
   "pygments_lexer": "ipython3",
   "version": "3.8.3"
  }
 },
 "nbformat": 4,
 "nbformat_minor": 4
}
