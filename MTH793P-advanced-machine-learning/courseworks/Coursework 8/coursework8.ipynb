{
 "cells": [
  {
   "cell_type": "markdown",
   "metadata": {},
   "source": [
    "Before you turn this problem in, make sure everything runs as expected. First, **restart the kernel** (in the menubar, select Kernel$\\rightarrow$Restart) and then **run all cells** (in the menubar, select Cell$\\rightarrow$Run All).\n",
    "\n",
    "Make sure you fill in any place that says `YOUR CODE HERE` or \"YOUR ANSWER HERE\", remove any ```raise NotImplementedError()``` and enter your student ID below:"
   ]
  },
  {
   "cell_type": "code",
   "execution_count": 1,
   "metadata": {},
   "outputs": [],
   "source": [
    "STUDENT_ID = \"200774408\""
   ]
  },
  {
   "cell_type": "markdown",
   "metadata": {},
   "source": [
    "---"
   ]
  },
  {
   "cell_type": "markdown",
   "metadata": {
    "deletable": false,
    "editable": false,
    "nbgrader": {
     "cell_type": "markdown",
     "checksum": "9689a6ab04aa17c05a51e791b62abbf8",
     "grade": false,
     "grade_id": "cell-1745de32aa12a632",
     "locked": true,
     "schema_version": 3,
     "solution": false,
     "task": false
    }
   },
   "source": [
    "# Coursework 8\n",
    "\n",
    "This is the solution notebook for coursework 8 of module MTH793P at Queen Mary University of London.\n",
    "\n",
    "Author: [Martin Benning](mailto:m.benning@qmul.ac.uk)\n",
    "\n",
    "Date: 30.03.2020\n",
    "\n",
    "Last updated: 18.03.2021\n",
    "\n",
    "First we load the necessary libraries."
   ]
  },
  {
   "cell_type": "code",
   "execution_count": 2,
   "metadata": {
    "deletable": false,
    "editable": false,
    "nbgrader": {
     "cell_type": "code",
     "checksum": "da44d46585565dfd62d9c0adad4f7a23",
     "grade": false,
     "grade_id": "cell-722a1a3406fd6ecd",
     "locked": true,
     "schema_version": 3,
     "solution": false,
     "task": false
    }
   },
   "outputs": [],
   "source": [
    "import numpy as np\n",
    "import scipy.sparse as sp\n",
    "import matplotlib.pyplot as plt\n",
    "%load_ext autoreload\n",
    "%autoreload 2"
   ]
  },
  {
   "cell_type": "markdown",
   "metadata": {
    "deletable": false,
    "editable": false,
    "nbgrader": {
     "cell_type": "markdown",
     "checksum": "6ca9e433fdc148cc7134e96d258cd9fa",
     "grade": false,
     "grade_id": "cell-df2715ecd269e327",
     "locked": true,
     "schema_version": 3,
     "solution": false,
     "task": false
    }
   },
   "source": [
    "If you need to import additional libraries, please do this in the following cell and do not attempt to overwrite the previous cell as this will lead to a failure of the autograder system."
   ]
  },
  {
   "cell_type": "code",
   "execution_count": 3,
   "metadata": {
    "deletable": false,
    "nbgrader": {
     "cell_type": "code",
     "checksum": "12e3b7fa6366ce7058b978c64037f99c",
     "grade": false,
     "grade_id": "cell-908f8a4df5374f7e",
     "locked": false,
     "schema_version": 3,
     "solution": true,
     "task": false
    }
   },
   "outputs": [],
   "source": [
    "from scipy.linalg import svd"
   ]
  },
  {
   "cell_type": "markdown",
   "metadata": {
    "deletable": false,
    "editable": false,
    "nbgrader": {
     "cell_type": "markdown",
     "checksum": "4a14e51b07ccc3d91b13fefc0726b657",
     "grade": false,
     "grade_id": "cell-da983fd45a1e585c",
     "locked": true,
     "schema_version": 3,
     "solution": false,
     "task": false
    }
   },
   "source": [
    "Next, we use the provided routines that allow us to load the [MovieLens 100K dataset](https://grouplens.org/datasets/movielens/100k/) and store the rankings in a matrix."
   ]
  },
  {
   "cell_type": "code",
   "execution_count": 4,
   "metadata": {
    "deletable": false,
    "editable": false,
    "nbgrader": {
     "cell_type": "code",
     "checksum": "a6a7b50a18ec1145916b31e8fa3533df",
     "grade": false,
     "grade_id": "cell-0862fb6049582ce9",
     "locked": true,
     "schema_version": 3,
     "solution": false,
     "task": false
    }
   },
   "outputs": [],
   "source": [
    "def read_txt(path):\n",
    "    \"\"\"read text file from path.\"\"\"\n",
    "    with open(path, \"r\") as path:\n",
    "        return path.read().splitlines()\n",
    "\n",
    "def load_data(dataset_path):\n",
    "    \"\"\"Load data in text format, one rating per line, as in the kaggle competition.\"\"\"\n",
    "    data = read_txt(dataset_path)[1:]\n",
    "    return preprocess_data(data)\n",
    "\n",
    "def preprocess_data(data):\n",
    "    \"\"\"preprocessing the text data, conversion to numerical array format.\"\"\"\n",
    "    def process_line(line):\n",
    "        position, rating = line.split(',')\n",
    "        row, column = position.split(\"_\")\n",
    "        row = row.replace(\"r\", \"\")\n",
    "        column = column.replace(\"c\", \"\")\n",
    "        return int(row), int(column), float(rating)\n",
    "\n",
    "    def statistics(data):\n",
    "        row = set([line[0] for line in data])\n",
    "        column = set([line[1] for line in data])\n",
    "        return min(row), max(row), min(column), max(column)\n",
    "\n",
    "    # parse each line\n",
    "    data = [process_line(line) for line in data]\n",
    "\n",
    "    # perform basic statistics on the dataset.\n",
    "    min_row, max_row, min_column, max_column = statistics(data)\n",
    "    print(\"number of items: {}, number of users: {}\".format(max_row, max_column))\n",
    "\n",
    "    # build rating matrix.\n",
    "    ratings = sp.lil_matrix((max_row, max_column))\n",
    "    for row, column, rating in data:\n",
    "        ratings[row - 1, column - 1] = rating\n",
    "    return ratings"
   ]
  },
  {
   "cell_type": "markdown",
   "metadata": {
    "deletable": false,
    "editable": false,
    "nbgrader": {
     "cell_type": "markdown",
     "checksum": "5a953cfb261479f433cf17ac6b9ea590",
     "grade": false,
     "grade_id": "cell-7ef500e2ab27ad8b",
     "locked": true,
     "schema_version": 3,
     "solution": false,
     "task": false
    }
   },
   "source": [
    "We load and store the data via *load_data*. Please use the path at which you have stored the csv file *movielens100k.csv*."
   ]
  },
  {
   "cell_type": "code",
   "execution_count": 5,
   "metadata": {
    "deletable": false,
    "editable": false,
    "nbgrader": {
     "cell_type": "code",
     "checksum": "439189abac9fd3c6fe52267b18ecf4b5",
     "grade": false,
     "grade_id": "cell-5c05623f29c86812",
     "locked": true,
     "schema_version": 3,
     "solution": false,
     "task": false
    }
   },
   "outputs": [
    {
     "name": "stdout",
     "output_type": "stream",
     "text": [
      "number of items: 1682, number of users: 943\n"
     ]
    }
   ],
   "source": [
    "ratings = load_data('movielens100k.csv').todense()\n",
    "dimensions = ratings.shape"
   ]
  },
  {
   "cell_type": "markdown",
   "metadata": {
    "deletable": false,
    "editable": false,
    "nbgrader": {
     "cell_type": "markdown",
     "checksum": "fac259c4b5b4b1983eae7e8fd7599d6b",
     "grade": false,
     "grade_id": "cell-c43a054d59c0c148",
     "locked": true,
     "schema_version": 3,
     "solution": false,
     "task": false
    }
   },
   "source": [
    "This $1682 \\times 943$ matrix has movie ratings for 1682 movies from 943 users in the range of 1 to 5. Missing ratings are set to zero."
   ]
  },
  {
   "cell_type": "code",
   "execution_count": 6,
   "metadata": {
    "deletable": false,
    "editable": false,
    "nbgrader": {
     "cell_type": "code",
     "checksum": "72b363924321742378f6527ed232ad4e",
     "grade": false,
     "grade_id": "cell-392b8a240ba7f19e",
     "locked": true,
     "schema_version": 3,
     "solution": false,
     "task": false
    }
   },
   "outputs": [
    {
     "name": "stdout",
     "output_type": "stream",
     "text": [
      "The first ten ratings for the first ten items of the first ten users are \n",
      "[[0 4 0 0 4 4 0 0 0 4]\n",
      " [3 0 0 0 3 0 0 0 0 0]\n",
      " [4 0 0 0 0 0 0 0 0 0]\n",
      " [3 0 0 0 0 0 5 0 0 4]\n",
      " [3 0 0 0 0 0 0 0 0 0]\n",
      " [5 0 0 0 0 0 0 0 5 0]\n",
      " [4 0 0 0 0 2 5 3 4 4]\n",
      " [1 0 0 0 0 4 5 0 0 0]\n",
      " [5 0 0 0 0 4 5 0 0 4]\n",
      " [3 2 0 0 0 0 4 0 0 0]].\n"
     ]
    }
   ],
   "source": [
    "print(\"The first ten ratings for the first ten items of the first ten users are \\n{r}.\".format(r = \\\n",
    "        ratings[0:10, 0:10].astype(int)))"
   ]
  },
  {
   "cell_type": "markdown",
   "metadata": {
    "deletable": false,
    "editable": false,
    "nbgrader": {
     "cell_type": "markdown",
     "checksum": "a88b1c4c21aea4585458c304a9d6c149",
     "grade": false,
     "grade_id": "cell-865f4d4bd42bc8c0",
     "locked": true,
     "schema_version": 3,
     "solution": false,
     "task": false
    }
   },
   "source": [
    "Complete the following four functions. For the functions **soft_shrinkage** and **nuclear_norm_proximal_mapping** you can use your implementations from Coursework 7. The function **projection** takes two arguments *matrix* and *known_indices*, and returns a (one-dimensional) array of known entries, which are the entries of *matrix* specified at the indices *known_indices*. If *matrix* is a $n \\times s$ matrix, then the values of *known_indices* range from 0 to $ns - 1$.\n",
    "\n",
    "The function **transpose_projection** takes three arguments *known_entries*, *known_indices* and *matrix_dimensions*, and computes the transpose of the operation **projection**, i.e. if $P_\\Omega:\\mathbb{R}^{n \\times s} \\rightarrow \\mathbb{R}^r$ is the mathematical notation of the operator that performs **projection**, then **transpose_projection** should satisfy\n",
    "\n",
    "$$ \\sum_{l = 1}^r (P_\\Omega M)_j v_j = \\langle P_\\Omega M, v \\rangle = \\langle M, P_\\Omega^\\top v \\rangle = \\sum_{i = 1}^n \\sum_{j = 1}^s M_{ij} (P^\\top v)_{ij} \\, , $$\n",
    "\n",
    "for all matrices $M \\in \\mathbb{R}^{n \\times s}$ and vectors $\\mathbb{R}^r$."
   ]
  },
  {
   "cell_type": "code",
   "execution_count": 7,
   "metadata": {
    "deletable": false,
    "nbgrader": {
     "cell_type": "code",
     "checksum": "056d906e846dd017cde709b4f6c12ee3",
     "grade": false,
     "grade_id": "cell-ead2637e678b1f87",
     "locked": false,
     "schema_version": 3,
     "solution": true,
     "task": false
    }
   },
   "outputs": [],
   "source": [
    "def projection(matrix, known_indices):\n",
    "    ## Maybe?\n",
    "    nrows, ncols = matrix.shape\n",
    "    rows = known_indices // ncols\n",
    "    cols = known_indices % ncols\n",
    "    return matrix[rows, cols].T\n",
    "\n",
    "def transpose_projection(known_entries, known_indices, matrix_dimensions):\n",
    "    n_entries = np.prod(matrix_dimensions)\n",
    "    proj = np.zeros(n_entries)\n",
    "    proj[known_indices] = np.array(known_entries).ravel()\n",
    "    proj = proj.reshape(matrix_dimensions)\n",
    "    return proj\n",
    "\n",
    "def soft_shrinkage(input_array, regularisation_parameter=1):\n",
    "    return np.sign(input_array) * np.maximum(np.abs(input_array) - regularisation_parameter, 0)\n",
    "\n",
    "def nuclear_norm_proximal_mapping(matrix, regularisation_parameter=1):\n",
    "    u, s, vh = svd(matrix, full_matrices=False)\n",
    "    shat = np.maximum(s - regularisation_parameter, 0)\n",
    "    return (u * shat[..., None, :]) @ vh"
   ]
  },
  {
   "cell_type": "markdown",
   "metadata": {
    "deletable": false,
    "editable": false,
    "nbgrader": {
     "cell_type": "markdown",
     "checksum": "811b356409de4676e1a668a45bc1da62",
     "grade": false,
     "grade_id": "cell-f69dc76c42d0c4a2",
     "locked": true,
     "schema_version": 3,
     "solution": false,
     "task": false
    }
   },
   "source": [
    "We test **transpose_projection** with the following cell that is worth **1/5 marks**."
   ]
  },
  {
   "cell_type": "code",
   "execution_count": 8,
   "metadata": {
    "deletable": false,
    "editable": false,
    "nbgrader": {
     "cell_type": "code",
     "checksum": "5bf08f4203405736e06543aa32798ca7",
     "grade": true,
     "grade_id": "cell-9bef83023bf1e9c6",
     "locked": true,
     "points": 1,
     "schema_version": 3,
     "solution": false,
     "task": false
    }
   },
   "outputs": [],
   "source": [
    "from numpy.testing import assert_array_equal\n",
    "known_test_indices = np.array([2, 3, 5, 7, 8, 9])\n",
    "known_test_ratings = np.array([-4, 3, 1, -2, -1, 4])\n",
    "T = transpose_projection(known_test_ratings, known_test_indices, (4, 3))\n",
    "assert_array_equal(T, np.array([[0, 0, -4], [3, 0, 1], [0, -2, -1], [4, 0, 0]]))"
   ]
  },
  {
   "cell_type": "markdown",
   "metadata": {
    "deletable": false,
    "editable": false,
    "nbgrader": {
     "cell_type": "markdown",
     "checksum": "9b65cb017a7ccef12755bba3c54f1110",
     "grade": false,
     "grade_id": "cell-f48fad1c523392ca",
     "locked": true,
     "schema_version": 3,
     "solution": false,
     "task": false
    }
   },
   "source": [
    "Next, we store all indices for which the entries in the matrix *ratings* are non-zero in a one-dimensional array *known_indices*. We then store the corresponding entries of *ratings* in an array *known_ratings*, for which we use our function **projection**. Subsequently, we subtract the value three from *known_ratings* and store it in a variable named *known_ratings_centred*."
   ]
  },
  {
   "cell_type": "code",
   "execution_count": 9,
   "metadata": {
    "deletable": false,
    "nbgrader": {
     "cell_type": "code",
     "checksum": "b667d8dc5b08a663ddccc8e8df19ff05",
     "grade": false,
     "grade_id": "cell-5b4708deaacc986f",
     "locked": false,
     "schema_version": 3,
     "solution": true,
     "task": false
    }
   },
   "outputs": [],
   "source": [
    "_, known_indices = np.where(ratings.ravel() != 0)\n",
    "known_ratings = projection(ratings, known_indices)\n",
    "known_ratings_centred = known_ratings - 3"
   ]
  },
  {
   "cell_type": "markdown",
   "metadata": {
    "deletable": false,
    "editable": false,
    "nbgrader": {
     "cell_type": "markdown",
     "checksum": "a0c6382279d23b5b2cee4d32d7e9e0f1",
     "grade": false,
     "grade_id": "cell-ffbc64b2a74f87a7",
     "locked": true,
     "schema_version": 3,
     "solution": false,
     "task": false
    }
   },
   "source": [
    "We write a function **matrix_completion** that is based on the linearised Bregman iteration and accelerated linearised Bregman iteration as introduced in the lecture notes, for fixed step-size $\\tau = 1$. The function takes the arguments as specified in the function header. Here, *known_indices* are the indices at which the entries of the matrix are known, while *known_entries* are the corresponding entries and *matrix_dimensions* the dimension of the output matrix. The complete *matrix* is initilised as a zero matrix of correct size. The argument *scaling_parameter* corresponds to the balancing parameter in front of the nuclear norm ($\\gamma$ in the lecture notes). The parameter *maximum_no_of_iterations* specifies the maximum number of iterations before the algorithm terminates, while *tolerance* is a quantity that forces the iteration to stop when\n",
    "\n",
    "$$ \\frac12 \\| P_\\Omega L^k - z \\|^2_{\\text{Fro}} \\leq \\text{tolerance} $$\n",
    "\n",
    "is achieved. Here $P_\\Omega L^k$ is the mathematical notation of the projection applied to the matrix *L^k* at iteration $k$, and $z$ is the mathematical notation for the known entries. The parameter *acceleration* indicates if acceleration is enabled or disabled. If it is enabled, the adaptive parameter $\\beta_k$ should be chosen as\n",
    "\n",
    "$$ \\beta_0 = 0 \\qquad \\text{and} \\qquad \\beta_k = \\frac{k - 1}{k + 3} \\, , $$\n",
    "\n",
    "for $k = 1, 2, \\ldots$. The function should return the matrix $L$ (variable name *low_rank_matrix*) as well as a list *sensitivities* of values $\\frac12 \\| P_\\Omega L^k - z \\|^2_{\\text{Fro}}$ for all iterates $k = 0, 1, \\ldots, K$, where $K$ denotes the final iterate."
   ]
  },
  {
   "cell_type": "code",
   "execution_count": 10,
   "metadata": {
    "deletable": false,
    "nbgrader": {
     "cell_type": "code",
     "checksum": "e25155e67f8c9abeeeece2ac99235804",
     "grade": false,
     "grade_id": "cell-c7d465850b7ac49a",
     "locked": false,
     "schema_version": 3,
     "solution": true,
     "task": false
    }
   },
   "outputs": [],
   "source": [
    "def adaptive(k):\n",
    "    return (k - 1) / (k + 3) * (k >= 1)\n",
    "\n",
    "def matrix_completion(known_indices, known_entries, matrix_dimensions, scaling_parameter=10, \\\n",
    "                      maximum_no_iterations=1000, tolerance=10**(-8), acceleration=False, print_output=50):\n",
    "    τ = 1\n",
    "    known_entries = np.array(known_entries).ravel()\n",
    "    yk = known_entries.copy()\n",
    "    zk = known_entries.copy()\n",
    "    z = known_entries.copy()\n",
    "    sensitivities = []\n",
    "    for k in range(maximum_no_iterations):\n",
    "        PΩ = transpose_projection(yk, known_indices, matrix_dimensions)\n",
    "        Lk = nuclear_norm_proximal_mapping(τ * PΩ, scaling_parameter)\n",
    "        update_term = projection(Lk, known_indices) - z\n",
    "        zk_next = yk - update_term\n",
    "        if acceleration:\n",
    "            βk = adaptive(k)\n",
    "            yk = (1 + βk) * zk_next - βk * zk\n",
    "            zk = zk_next\n",
    "        else:\n",
    "            yk = zk_next\n",
    "        \n",
    "        sensitivity = np.linalg.norm(update_term) ** 2 / 2\n",
    "        sensitivities.append(sensitivity)\n",
    "        \n",
    "        if k % 5 == 0:\n",
    "            end = \"\\n\" if k % 50 == 0 else \"\\r\"\n",
    "            print(f\"@{k=:04} | {sensitivity=:0.7f}\", end=end)\n",
    "        if sensitivity <= tolerance:\n",
    "            break\n",
    "        \n",
    "    return Lk, sensitivities"
   ]
  },
  {
   "cell_type": "markdown",
   "metadata": {
    "deletable": false,
    "editable": false,
    "nbgrader": {
     "cell_type": "markdown",
     "checksum": "64f5997afc09d835ea8d5dfdfad25a87",
     "grade": false,
     "grade_id": "cell-355a8d561826ca4f",
     "locked": true,
     "schema_version": 3,
     "solution": false,
     "task": false
    }
   },
   "source": [
    "Test your code with the following two tests (one visible, one hidden), which account for **2/5 marks**."
   ]
  },
  {
   "cell_type": "code",
   "execution_count": 11,
   "metadata": {
    "deletable": false,
    "editable": false,
    "nbgrader": {
     "cell_type": "code",
     "checksum": "61479b4c2e6c7c1e31b03ea08c2995d0",
     "grade": true,
     "grade_id": "cell-336f21c556a91d57",
     "locked": true,
     "points": 1,
     "schema_version": 3,
     "solution": false,
     "task": false
    }
   },
   "outputs": [
    {
     "name": "stdout",
     "output_type": "stream",
     "text": [
      "@k=0000 | sensitivity=23.5000000\n",
      "@k=0005 | sensitivity=23.5000000\r",
      "@k=0010 | sensitivity=23.5000000\r",
      "@k=0015 | sensitivity=1.5629584\r",
      "@k=0020 | sensitivity=1.5603742\r",
      "@k=0025 | sensitivity=0.0300640\r",
      "@k=0030 | sensitivity=0.0027297\r",
      "@k=0035 | sensitivity=0.0003941\r",
      "@k=0040 | sensitivity=0.0000679\r",
      "@k=0045 | sensitivity=0.0000493\r",
      "@k=0050 | sensitivity=0.0000421\n",
      "@k=0055 | sensitivity=0.0000023\r",
      "@k=0060 | sensitivity=0.0000060\r",
      "@k=0065 | sensitivity=0.0000071\r",
      "@k=0070 | sensitivity=0.0000003\r",
      "@k=0075 | sensitivity=0.0000014\r",
      "@k=0080 | sensitivity=0.0000015\r",
      "@k=0085 | sensitivity=0.0000000\r",
      "@k=0090 | sensitivity=0.0000004\r",
      "@k=0095 | sensitivity=0.0000004\r",
      "@k=0100 | sensitivity=0.0000000\n",
      "@k=0105 | sensitivity=0.0000001\r",
      "@k=0110 | sensitivity=0.0000001\r",
      "@k=0115 | sensitivity=0.0000000\r",
      "@k=0120 | sensitivity=0.0000000\r",
      "@k=0125 | sensitivity=0.0000000\r",
      "@k=0130 | sensitivity=0.0000000\r",
      "@k=0135 | sensitivity=0.0000000\r",
      "@k=0140 | sensitivity=0.0000000\r",
      "@k=0145 | sensitivity=0.0000000\r",
      "@k=0150 | sensitivity=0.0000000\n",
      "@k=0155 | sensitivity=0.0000000\r",
      "@k=0160 | sensitivity=0.0000000\r",
      "@k=0165 | sensitivity=0.0000000\r",
      "@k=0170 | sensitivity=0.0000000\r",
      "@k=0175 | sensitivity=0.0000000\r",
      "@k=0180 | sensitivity=0.0000000\r",
      "@k=0185 | sensitivity=0.0000000\r",
      "@k=0190 | sensitivity=0.0000000\r",
      "@k=0195 | sensitivity=0.0000000\r",
      "@k=0200 | sensitivity=0.0000000\n",
      "@k=0205 | sensitivity=0.0000000\r",
      "@k=0210 | sensitivity=0.0000000\r",
      "@k=0215 | sensitivity=0.0000000\r",
      "@k=0220 | sensitivity=0.0000000\r",
      "@k=0225 | sensitivity=0.0000000\r",
      "@k=0230 | sensitivity=0.0000000\r",
      "@k=0235 | sensitivity=0.0000000\r",
      "@k=0240 | sensitivity=0.0000000\r",
      "@k=0245 | sensitivity=0.0000000\r",
      "@k=0250 | sensitivity=0.0000000\n",
      "@k=0255 | sensitivity=0.0000000\r",
      "@k=0260 | sensitivity=0.0000000\r"
     ]
    }
   ],
   "source": [
    "from numpy.testing import assert_array_almost_equal\n",
    "test_recovered, _ = matrix_completion(known_test_indices, known_test_ratings, (4, 3), scaling_parameter=100, \\\n",
    "                                        tolerance=10**(-14), acceleration=True)\n",
    "assert_array_almost_equal(test_recovered, [[-1.36244095, -0.94262418, -4], [3, 0.03212887, 1], \\\n",
    "                                           [-0.00652379, -2, -1], [4, -0.01572708, 1.10956443]])"
   ]
  },
  {
   "cell_type": "code",
   "execution_count": null,
   "metadata": {
    "deletable": false,
    "editable": false,
    "nbgrader": {
     "cell_type": "code",
     "checksum": "cab5ddaf7d00037d7e007ac460f328cb",
     "grade": true,
     "grade_id": "cell-7d962877da625387",
     "locked": true,
     "points": 1,
     "schema_version": 3,
     "solution": false,
     "task": false
    }
   },
   "outputs": [],
   "source": []
  },
  {
   "cell_type": "markdown",
   "metadata": {
    "deletable": false,
    "editable": false,
    "nbgrader": {
     "cell_type": "markdown",
     "checksum": "37c65efcf8192b9b935f79cbf0bcc2f2",
     "grade": false,
     "grade_id": "cell-7df5335e0e6001ab",
     "locked": true,
     "schema_version": 3,
     "solution": false,
     "task": false
    }
   },
   "source": [
    "Complete the ratings of your matrix ratings from the [MovieLens 100K dataset](https://grouplens.org/datasets/movielens/100k/) with your matrix completion algorithm with $\\gamma = 100$ and activated acceleration. Store the completed matrix for the uncentered ratings in a variable named *complete_ratings_1*."
   ]
  },
  {
   "cell_type": "code",
   "execution_count": 13,
   "metadata": {
    "deletable": false,
    "nbgrader": {
     "cell_type": "code",
     "checksum": "9a66d91e6b22f316c649ebbf29ac0f10",
     "grade": false,
     "grade_id": "cell-f33f2bfe492d86ba",
     "locked": false,
     "schema_version": 3,
     "solution": true,
     "task": false
    }
   },
   "outputs": [
    {
     "name": "stdout",
     "output_type": "stream",
     "text": [
      "@k=0000 | sensitivity=352983.5598261\n",
      "@k=0050 | sensitivity=0.0043527806\n",
      "@k=0100 | sensitivity=0.0000152\n",
      "@k=0150 | sensitivity=0.0000003\n",
      "@k=0200 | sensitivity=0.0000000\n",
      "CPU times: user 4min 15s, sys: 2.67 s, total: 4min 18s\n",
      "Wall time: 1min 11s\n"
     ]
    }
   ],
   "source": [
    "%%time\n",
    "complete_ratings_1, _ = matrix_completion(known_indices, known_ratings, ratings.shape,\n",
    "                                       acceleration=True, scaling_parameter=100)"
   ]
  },
  {
   "cell_type": "markdown",
   "metadata": {
    "deletable": false,
    "editable": false,
    "nbgrader": {
     "cell_type": "markdown",
     "checksum": "98dddf8ad92856684eed29ce89f478cb",
     "grade": false,
     "grade_id": "cell-deab71a82a0e0425",
     "locked": true,
     "schema_version": 3,
     "solution": false,
     "task": false
    }
   },
   "source": [
    "Repeat the previous excerise for the centred ratings and store the completed matrix in a variable named *complete_ratings_2*. Don't forget to add the value three back to your completed, centred ratings."
   ]
  },
  {
   "cell_type": "code",
   "execution_count": 14,
   "metadata": {
    "deletable": false,
    "nbgrader": {
     "cell_type": "code",
     "checksum": "fe983888e8ebcb2cada86ad165fd623a",
     "grade": false,
     "grade_id": "cell-d8549c08a74b7330",
     "locked": false,
     "schema_version": 3,
     "solution": true,
     "task": false
    }
   },
   "outputs": [
    {
     "name": "stdout",
     "output_type": "stream",
     "text": [
      "@k=0000 | sensitivity=70173.5853500\n",
      "@k=0050 | sensitivity=0.04147127767\n",
      "@k=0100 | sensitivity=0.0004230\n",
      "@k=0150 | sensitivity=0.0000179\n",
      "@k=0200 | sensitivity=0.0000016\n",
      "@k=0250 | sensitivity=0.0000002\n",
      "@k=0300 | sensitivity=0.0000000\n",
      "@k=0350 | sensitivity=0.0000000\n",
      "CPU times: user 7min 51s, sys: 4.96 s, total: 7min 56s\n",
      "Wall time: 2min 7s\n"
     ]
    }
   ],
   "source": [
    "%%time\n",
    "complete_ratings_2, _ = matrix_completion(known_indices, known_ratings_centred, ratings.shape,\n",
    "                                          acceleration=True, scaling_parameter=100)\n",
    "complete_ratings_2 = complete_ratings_2 + 3"
   ]
  },
  {
   "cell_type": "code",
   "execution_count": 15,
   "metadata": {
    "deletable": false,
    "editable": false,
    "nbgrader": {
     "cell_type": "code",
     "checksum": "6b0c3b54aa6381c3295fb32f1da466fb",
     "grade": false,
     "grade_id": "cell-12e9f3c0875d5cae",
     "locked": true,
     "schema_version": 3,
     "solution": false,
     "task": false
    }
   },
   "outputs": [
    {
     "name": "stdout",
     "output_type": "stream",
     "text": [
      "A sample of the first 8 incomplete ratings are \n",
      "\n",
      "[[0 4 0 0 4 4 0 0]\n",
      " [3 0 0 0 3 0 0 0]\n",
      " [4 0 0 0 0 0 0 0]\n",
      " [3 0 0 0 0 0 5 0]\n",
      " [3 0 0 0 0 0 0 0]\n",
      " [5 0 0 0 0 0 0 0]\n",
      " [4 0 0 0 0 2 5 3]\n",
      " [1 0 0 0 0 4 5 0]];\n",
      "\n",
      "the corresponding, rounded ratings from\n",
      "the uncentered date are\n",
      "\n",
      "[[ 2  4  0  0  4  4  2  2]\n",
      " [ 3  0  0  0  3  1  2  2]\n",
      " [ 4  0  0  0  0  0  0  0]\n",
      " [ 3  0  0  0  1  2  5  2]\n",
      " [ 3  0  0  0  1  1  2  0]\n",
      " [ 5  1  0  0  0  0  1 -1]\n",
      " [ 4  1  0  1  3  2  5  3]\n",
      " [ 1  1  0  0  2  4  5  1]];\n",
      "\n",
      "the corresponding, rounded ratings from the centred data\n",
      "are \n",
      "\n",
      "[[3 4 3 3 4 4 4 4]\n",
      " [3 3 3 3 3 3 3 3]\n",
      " [4 3 3 3 3 3 3 3]\n",
      " [3 3 3 3 3 4 5 3]\n",
      " [3 3 3 3 3 4 3 3]\n",
      " [5 3 3 3 3 3 3 3]\n",
      " [4 3 3 3 4 2 5 3]\n",
      " [1 3 3 3 3 4 5 3]].\n"
     ]
    }
   ],
   "source": [
    "print(\"A sample of the first 8 incomplete ratings are \\n\\n{};\\n\\nthe corresponding, rounded ratings from\".format(\\\n",
    "        ratings[0:8, 0:8].astype(int))) \n",
    "print(\"the uncentered date are\\n\\n{};\\n\\nthe corresponding, rounded ratings from the centred data\".format(\\\n",
    "        np.rint(complete_ratings_1[0:8, 0:8]).astype(int)))\n",
    "print(\"are \\n\\n{}.\".format(np.rint(complete_ratings_2[0:8, 0:8]).astype(int)))"
   ]
  },
  {
   "cell_type": "code",
   "execution_count": 16,
   "metadata": {
    "deletable": false,
    "editable": false,
    "nbgrader": {
     "cell_type": "code",
     "checksum": "fc5a33bc8bb8f5f8949292e44802340e",
     "grade": false,
     "grade_id": "cell-bdd2d0b013083729",
     "locked": true,
     "schema_version": 3,
     "solution": false,
     "task": false
    }
   },
   "outputs": [
    {
     "name": "stdout",
     "output_type": "stream",
     "text": [
      "The rank of the non-centred matrix is 385. \n",
      "\n",
      "The rank of the centred matrix is 317.\n"
     ]
    }
   ],
   "source": [
    "print('The rank of the non-centred matrix is %d. \\n\\nThe rank of the centred matrix is %d.'\n",
    "      %(np.linalg.matrix_rank(complete_ratings_1), np.linalg.matrix_rank(complete_ratings_2 - 3)))"
   ]
  },
  {
   "cell_type": "markdown",
   "metadata": {
    "deletable": false,
    "editable": false,
    "nbgrader": {
     "cell_type": "markdown",
     "checksum": "8978096b09f9148376ac3a174fee5515",
     "grade": false,
     "grade_id": "cell-7839c5741ed56d4e",
     "locked": true,
     "schema_version": 3,
     "solution": false,
     "task": false
    }
   },
   "source": [
    "Formulate a projected (or proximal) gradient descent algorithm for a matrix completion problem of the form\n",
    "\\begin{align*}\n",
    "\\hat L = \\arg\\min_{L \\in \\mathbb{R}^{s \\times n}} \\left\\{ \\frac12 \\| P_\\Omega L - z \\|_{\\text{Fro}}^2 \\quad \\text{subject to} \\quad \\text{rank}(L) \\leq k \\right\\} \\, .\n",
    "\\end{align*}\n",
    "Here $P_\\Omega \\in \\mathbb{R}^{s \\times n} \\rightarrow \\mathbb{R}^r$ is a (known) projection operator that projects the known entries, specified by the index set $\\Omega$, of its argument to a vector of length $r$. The vector of known entries is denoted by $z \\in \\mathbb{R}^r$ and $k \\in \\mathbb{N}$ is a fixed constant that determines the rank of $\\hat L$. The term $\\text{rank}(L)$ determines the rank of the matrix-argument $L$. What does the proximal mapping (in the proximal gradient descent) look like? What is its closed-form solution?"
   ]
  },
  {
   "cell_type": "code",
   "execution_count": 17,
   "metadata": {
    "deletable": false,
    "nbgrader": {
     "cell_type": "code",
     "checksum": "e12a7d094b46bb2c90a8a36b457a0da5",
     "grade": false,
     "grade_id": "cell-9dff35ebe17a25e7",
     "locked": false,
     "schema_version": 3,
     "solution": true,
     "task": false
    }
   },
   "outputs": [],
   "source": [
    "def adaptive(k):\n",
    "    return (k - 1) / (k + 3) * (k >= 1)\n",
    "\n",
    "def matrix_completion_via_projected_gradient_descent(known_indices, known_entries, matrix_dimensions, rank,\n",
    "                      maximum_no_iterations=500, tolerance=10**(-8), print_output=50, acceleration=True):\n",
    "    τ = 1\n",
    "    scaling_parameter = 100\n",
    "    known_entries = np.array(known_entries).ravel()\n",
    "    yk = known_entries.copy()\n",
    "    zk = known_entries.copy()\n",
    "    z = known_entries.copy()\n",
    "    sensitivities = []\n",
    "    for k in range(maximum_no_iterations):\n",
    "        PΩ = transpose_projection(yk, known_indices, matrix_dimensions)\n",
    "        Lk = nuclear_norm_proximal_mapping(τ * PΩ, scaling_parameter)\n",
    "        # Rank restriction\n",
    "        u, s, vh = svd(Lk, full_matrices=False)\n",
    "        Lk = (u[:, :rank] * s[:rank][..., None, :]) @ vh[:rank, :]\n",
    "        update_term = projection(Lk, known_indices) - z\n",
    "        zk_next = yk - update_term\n",
    "        if acceleration:\n",
    "            βk = adaptive(k)\n",
    "            yk = (1 + βk) * zk_next - βk * zk\n",
    "            zk = zk_next\n",
    "        else:\n",
    "            yk = zk_next\n",
    "        \n",
    "        sensitivity = np.linalg.norm(update_term) ** 2 / 2\n",
    "        sensitivities.append(sensitivity)\n",
    "        \n",
    "        if k % 5 == 0:\n",
    "            end = \"\\n\" if k % 50 == 0 else \"\\r\"\n",
    "            print(f\"@{k=:04} | {sensitivity=:0.7f}\", end=end)\n",
    "        if sensitivity <= tolerance:\n",
    "            break\n",
    "        \n",
    "    return Lk, sensitivities"
   ]
  },
  {
   "cell_type": "markdown",
   "metadata": {
    "deletable": false,
    "editable": false,
    "nbgrader": {
     "cell_type": "markdown",
     "checksum": "68cb2f3a096b0d2e46e9683da0f14438",
     "grade": false,
     "grade_id": "cell-0715d6fc5babef72",
     "locked": true,
     "schema_version": 3,
     "solution": false,
     "task": false
    }
   },
   "source": [
    "Test your function with the following hidden tests that are worth **2/5 marks**."
   ]
  },
  {
   "cell_type": "code",
   "execution_count": 18,
   "metadata": {},
   "outputs": [
    {
     "name": "stdout",
     "output_type": "stream",
     "text": [
      "@k=0000 | sensitivity=10.8069783\n",
      "@k=0005 | sensitivity=0.0000011\r"
     ]
    },
    {
     "data": {
      "text/plain": [
       "array([[-0.17656506, -0.32419455, -3.99997583],\n",
       "       [ 2.99997372,  0.0505304 ,  1.00007501],\n",
       "       [-0.01217548, -1.9999906 , -1.00008496],\n",
       "       [ 4.00001746, -0.02796713,  0.16368334]])"
      ]
     },
     "execution_count": 18,
     "metadata": {},
     "output_type": "execute_result"
    }
   ],
   "source": [
    "from numpy.testing import assert_array_almost_equal\n",
    "test_recovered, _ = matrix_completion(known_test_indices, known_test_ratings, (4, 3), 3)\n",
    "test_recovered"
   ]
  },
  {
   "cell_type": "code",
   "execution_count": null,
   "metadata": {
    "deletable": false,
    "editable": false,
    "nbgrader": {
     "cell_type": "code",
     "checksum": "75a59bf9c9a42034eae7c18072d10999",
     "grade": true,
     "grade_id": "cell-15722053794ae658",
     "locked": true,
     "points": 1,
     "schema_version": 3,
     "solution": false,
     "task": false
    }
   },
   "outputs": [],
   "source": []
  },
  {
   "cell_type": "code",
   "execution_count": null,
   "metadata": {
    "deletable": false,
    "editable": false,
    "nbgrader": {
     "cell_type": "code",
     "checksum": "b8a3df03a5e43f5a3bd4658b9423906c",
     "grade": true,
     "grade_id": "cell-f83f62d7d9b6bc04",
     "locked": true,
     "points": 1,
     "schema_version": 3,
     "solution": false,
     "task": false
    }
   },
   "outputs": [],
   "source": []
  },
  {
   "cell_type": "markdown",
   "metadata": {
    "deletable": false,
    "editable": false,
    "nbgrader": {
     "cell_type": "markdown",
     "checksum": "7f0d0db9db0f09fd787067beabeaf713",
     "grade": false,
     "grade_id": "cell-85b09a80c7ee4bdb",
     "locked": true,
     "schema_version": 3,
     "solution": false,
     "task": false
    }
   },
   "source": [
    "Complete the ratings of your matrix ratings from the [MovieLens 100K dataset](https://grouplens.org/datasets/movielens/100k/) with your projected gradient descent matrix completion algorithm with *rank* = 300. Store the completed matrix for the centered ratings in a variable named *complete_ratings_3*. Don't forget to add the value three back to your completed, centred ratings."
   ]
  },
  {
   "cell_type": "code",
   "execution_count": 18,
   "metadata": {
    "deletable": false,
    "nbgrader": {
     "cell_type": "code",
     "checksum": "5a5f6cd6209139059f5f23956c67348d",
     "grade": false,
     "grade_id": "cell-f51d763f9e082a60",
     "locked": false,
     "schema_version": 3,
     "solution": true,
     "task": false
    }
   },
   "outputs": [
    {
     "name": "stdout",
     "output_type": "stream",
     "text": [
      "@k=0000 | sensitivity=70173.5853500\n",
      "@k=0050 | sensitivity=1.44126974767\n",
      "@k=0100 | sensitivity=1.2661776\n",
      "@k=0150 | sensitivity=1.5022756\n",
      "@k=0200 | sensitivity=1.4112130\n",
      "@k=0250 | sensitivity=1.4820117\n",
      "@k=0300 | sensitivity=1.1462796\n",
      "@k=0350 | sensitivity=1.0810680\n",
      "@k=0400 | sensitivity=1.5470282\n",
      "@k=0450 | sensitivity=1.2729709\n",
      "@k=0495 | sensitivity=1.3703176\r"
     ]
    }
   ],
   "source": [
    "complete_ratings_3, _ = matrix_completion_via_projected_gradient_descent(known_indices, known_ratings_centred,\n",
    "                                                                         ratings.shape, 300)\n",
    "complete_ratings_3 = complete_ratings_3 + 3"
   ]
  },
  {
   "cell_type": "code",
   "execution_count": 19,
   "metadata": {
    "deletable": false,
    "editable": false,
    "nbgrader": {
     "cell_type": "code",
     "checksum": "dc23ca95b257a25c435118b4dce512a2",
     "grade": false,
     "grade_id": "cell-fc6d064f39b5fbde",
     "locked": true,
     "schema_version": 3,
     "solution": false,
     "task": false
    }
   },
   "outputs": [
    {
     "name": "stdout",
     "output_type": "stream",
     "text": [
      "A sample of the first 8 incomplete ratings are \n",
      "\n",
      "[[0 4 0 0 4 4 0 0]\n",
      " [3 0 0 0 3 0 0 0]\n",
      " [4 0 0 0 0 0 0 0]\n",
      " [3 0 0 0 0 0 5 0]\n",
      " [3 0 0 0 0 0 0 0]\n",
      " [5 0 0 0 0 0 0 0]\n",
      " [4 0 0 0 0 2 5 3]\n",
      " [1 0 0 0 0 4 5 0]];\n",
      "\n",
      "the corresponding, rounded ratings from\n",
      "the uncentered date are\n",
      "\n",
      "[[ 2  4  0  0  4  4  2  2]\n",
      " [ 3  0  0  0  3  1  2  2]\n",
      " [ 4  0  0  0  0  0  0  0]\n",
      " [ 3  0  0  0  1  2  5  2]\n",
      " [ 3  0  0  0  1  1  2  0]\n",
      " [ 5  1  0  0  0  0  1 -1]\n",
      " [ 4  1  0  1  3  2  5  3]\n",
      " [ 1  1  0  0  2  4  5  1]];\n",
      "\n",
      "the corresponding, rounded ratings from the centred data\n",
      "are \n",
      "\n",
      "[[3 4 3 3 4 4 4 4]\n",
      " [3 3 3 3 3 3 3 3]\n",
      " [4 3 3 3 3 3 3 3]\n",
      " [3 3 3 3 3 4 5 3]\n",
      " [3 3 3 3 3 4 3 3]\n",
      " [5 3 3 3 3 3 3 3]\n",
      " [4 3 3 3 4 2 5 3]\n",
      " [1 3 3 3 3 4 5 3]];\n",
      "\n",
      "the corresponding, rounded ratings with the alternative matrix completion are\n",
      "\n",
      "[[3 4 3 3 4 4 4 4]\n",
      " [3 3 3 3 3 3 3 3]\n",
      " [4 3 3 3 3 3 3 3]\n",
      " [3 3 3 3 3 4 5 3]\n",
      " [3 3 3 3 3 4 3 3]\n",
      " [5 3 3 3 3 3 3 3]\n",
      " [4 3 3 3 4 2 5 3]\n",
      " [1 3 3 3 3 4 5 3]]\n"
     ]
    }
   ],
   "source": [
    "print(\"A sample of the first 8 incomplete ratings are \\n\\n{};\\n\\nthe corresponding, rounded ratings from\".format(\\\n",
    "        ratings[0:8, 0:8].astype(int))) \n",
    "print(\"the uncentered date are\\n\\n{};\\n\\nthe corresponding, rounded ratings from the centred data\".format(\\\n",
    "        np.rint(complete_ratings_1[0:8, 0:8]).astype(int)))\n",
    "print(\"are \\n\\n{};\\n\\nthe corresponding, rounded ratings with the alternative matrix completion are\\n\\n{}\".format(\\\n",
    "        np.rint(complete_ratings_2[0:8, 0:8]).astype(int), np.rint(complete_ratings_3[0:8, 0:8]).astype(int)))"
   ]
  },
  {
   "cell_type": "markdown",
   "metadata": {
    "deletable": false,
    "editable": false,
    "nbgrader": {
     "cell_type": "markdown",
     "checksum": "f4270b6dc82cf7635e6f5700bee1d208",
     "grade": false,
     "grade_id": "cell-b6999441d77d703e",
     "locked": true,
     "schema_version": 3,
     "solution": false,
     "task": false
    }
   },
   "source": [
    "This is the end of this week's coursework."
   ]
  },
  {
   "cell_type": "markdown",
   "metadata": {},
   "source": [
    "## References\n",
    "\n",
    "* https://arxiv.org/pdf/0909.5457.pdf\n",
    "* https://www.stat.cmu.edu/~ryantibs/convexopt-S15/scribes/08-prox-grad-scribed.pdf\n",
    "* https://www.stat.cmu.edu/~ryantibs/convexopt/lectures/prox-grad.pdf"
   ]
  }
 ],
 "metadata": {
  "kernelspec": {
   "display_name": "Python 3",
   "language": "python",
   "name": "python3"
  },
  "language_info": {
   "codemirror_mode": {
    "name": "ipython",
    "version": 3
   },
   "file_extension": ".py",
   "mimetype": "text/x-python",
   "name": "python",
   "nbconvert_exporter": "python",
   "pygments_lexer": "ipython3",
   "version": "3.8.3"
  }
 },
 "nbformat": 4,
 "nbformat_minor": 4
}
